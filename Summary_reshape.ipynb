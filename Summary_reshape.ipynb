{
  "nbformat": 4,
  "nbformat_minor": 0,
  "metadata": {
    "colab": {
      "name": "Summary_reshape.ipynb",
      "version": "0.3.2",
      "provenance": [],
      "collapsed_sections": [],
      "include_colab_link": true
    },
    "kernelspec": {
      "name": "python3",
      "display_name": "Python 3"
    }
  },
  "cells": [
    {
      "cell_type": "markdown",
      "metadata": {
        "id": "view-in-github",
        "colab_type": "text"
      },
      "source": [
        "<a href=\"https://colab.research.google.com/github/HIT-YL/py-03/blob/master/Summary_reshape.ipynb\" target=\"_parent\"><img src=\"https://colab.research.google.com/assets/colab-badge.svg\" alt=\"Open In Colab\"/></a>"
      ]
    },
    {
      "metadata": {
        "id": "lqnBISOFFSrE",
        "colab_type": "text"
      },
      "cell_type": "markdown",
      "source": [
        "### Please run in Google colab"
      ]
    },
    {
      "metadata": {
        "id": "AqzPzj2XoupD",
        "colab_type": "toc"
      },
      "cell_type": "markdown",
      "source": [
        ">>>[Please run in Google colab](#scrollTo=lqnBISOFFSrE)\n",
        "\n",
        ">>[What's reshape?](#scrollTo=iUdBiBHx_Tgl)\n",
        "\n",
        ">>[Tips about reshape()](#scrollTo=BY7GkE4AqeCQ)\n",
        "\n",
        ">>>[About ndarray](#scrollTo=PkQTGcpAA5x3)\n",
        "\n",
        ">>>[reshape(-1,1) & reshape(1,-1)](#scrollTo=cSQNAPYHqoXI)\n",
        "\n",
        ">>>>[열벡터 (column vector)로 변환](#scrollTo=jrBbiVoor14k)\n",
        "\n",
        ">>>[행벡터와 열벡터](#scrollTo=ohGedoxis96c)\n",
        "\n",
        ">>>[2차원 배열 만들기](#scrollTo=ZfGNl4Kstjmr)\n",
        "\n",
        ">>>[reshape of a list](#scrollTo=HPksuy_tpfp8)\n",
        "\n",
        ">>>[2차원 배열(2-d array)](#scrollTo=xrAsEwcLTcdo)\n",
        "\n",
        ">>[응용: 손글씨 데이터 처리](#scrollTo=VogQ62Cvuqek)\n",
        "\n",
        ">>>[Upload data of 100 hand-wriiten digits (digits100.csv)](#scrollTo=mit7a1JN6Ul8)\n",
        "\n",
        ">>>[행벡터(1X784)를 이미지 배열 (28X28)로 재구성](#scrollTo=HVmKVrN-CCBN)\n",
        "\n",
        ">>>[모든 숫자 보기](#scrollTo=dOel4Jb_ECE0)\n",
        "\n"
      ]
    },
    {
      "metadata": {
        "id": "iUdBiBHx_Tgl",
        "colab_type": "text"
      },
      "cell_type": "markdown",
      "source": [
        "## What's reshape?"
      ]
    },
    {
      "metadata": {
        "id": "g-61SOQI_hHa",
        "colab_type": "text"
      },
      "cell_type": "markdown",
      "source": [
        "- reshape()은 형 변환 함수다.\n",
        "- 벡터를 matrix로 변경하기 위해서는 reshape()를 사용하여 행렬의 shape를 변경하여야 한다."
      ]
    },
    {
      "metadata": {
        "id": "BY7GkE4AqeCQ",
        "colab_type": "text"
      },
      "cell_type": "markdown",
      "source": [
        "## Tips about reshape()\n",
        "\n",
        "> reshape() 함수는 numpy의 ndarray의 구조를 변경한다.\n",
        "\n",
        "▶ ndarray는 다차원 행렬 자료구조를 지원하는 Numpy의 핵심 클래스이다. (아래에서 더 자세히 알아보자.)"
      ]
    },
    {
      "metadata": {
        "id": "PkQTGcpAA5x3",
        "colab_type": "text"
      },
      "cell_type": "markdown",
      "source": [
        "### About ndarray"
      ]
    },
    {
      "metadata": {
        "id": "NqzNssPJA_EI",
        "colab_type": "text"
      },
      "cell_type": "markdown",
      "source": [
        "- ndarray는 N-dimensional Array의 약자로, ndarray 클래스는 단순 리스트와 유사한 1차원 행렬 이외에도 2차원 행렬 등 다차원 행렬 자료구조를 지원한다. \n",
        "\n",
        "- ndarray 클래스로 구현한 다차원 행렬의 원소 각각은 콤마(comma ,)를 사용하여 접근할 수 있다. 이때 콤마로 구분된 차원을 축(axis)이라고 한다. \n",
        "\n",
        "- ndarray 클래스로 구현한 다차원 행렬의 원소 중 복수 개를 접근하려면 일반적인 파이썬 슬라이싱(slicing)과 comma(,)를 함께 사용한다.\n",
        "\n",
        "- ndarray 클래스는 행렬의 각 원소에 대한 연산을 한 번에 처리하는 벡터화 연산을 지원한다는 특성을 가진다.\n",
        "\n",
        "\n",
        "- 리스트 vs ndarray (비교)\n",
        "\n",
        "\n",
        "> 리스트 클래스 객체는 내부적으로 linked list와 같은 형태를 가지므로, 각각의 원소가 다른 자료형이 될 수 있다.                                  \n",
        "     그러나 ndarray 클래스 객체는 C언어의 행렬처럼 연속적인 메모리 배치를 가지기 때문에 모든 원소가 같은 자료형이어야 한다.          \n",
        "     이러한 제약을 가지는 대신에 ndarray 클래스는 내부의 원소에 대한 접근과 반복문 실행이 빨라진다는 장점이 있다.\n",
        "     \n",
        "\n",
        "\n",
        "\n",
        "\n",
        "> Q. ndarray의 유니버설 연산 실행 속도가 리스트 반복문보다 빠른 이유는?\n",
        "\n",
        "\n",
        "> 1. ndarray는 메모리 할당을 한 번에 한다.            \n",
        "2. 유니버설 연산을 사용하게 되면 numpy 내부적으로 구현된 반복문을 사용하기 때문에 반복문 실행 또한 빨라진다.\n",
        "\n",
        "=> 그렇기 때문에 파이썬의 성능 개선을 위해 반드시 지켜야 하는 코딩 관례 중 하나가,                \n",
        "           numpy의 ndarray 벡터화 연산이 가능한 경우에는 파이썬 자체의 반복문을 사용하지 않고 ndarray로 대체한다는 것이다."
      ]
    },
    {
      "metadata": {
        "id": "cSQNAPYHqoXI",
        "colab_type": "text"
      },
      "cell_type": "markdown",
      "source": [
        "### reshape(-1,1) & reshape(1,-1)"
      ]
    },
    {
      "metadata": {
        "id": "WEDCW1oFqaw6",
        "colab_type": "code",
        "colab": {}
      },
      "cell_type": "code",
      "source": [
        "import numpy as np   # 라이브러리의 별명을 np로 지정하여 import\n",
        "ar = np.arange(1,11)   # np의 arange 범위 지정\n",
        "ar   # 1부터 10까지의 array 출력"
      ],
      "execution_count": 0,
      "outputs": []
    },
    {
      "metadata": {
        "id": "A4tXzZN12lpE",
        "colab_type": "code",
        "colab": {}
      },
      "cell_type": "code",
      "source": [
        "ar.shape  # numpy의 기본 벡터로 정의된 ar은 열벡터와 유사"
      ],
      "execution_count": 0,
      "outputs": []
    },
    {
      "metadata": {
        "id": "tQ9Ib3ChIFNp",
        "colab_type": "text"
      },
      "cell_type": "markdown",
      "source": [
        "- 이처럼 행렬의 차원 및 크기는 ndim 속성과 shape 속성으로 확인할 수 있다."
      ]
    },
    {
      "metadata": {
        "id": "jrBbiVoor14k",
        "colab_type": "text"
      },
      "cell_type": "markdown",
      "source": [
        "#### 열벡터 (column vector)로 변환"
      ]
    },
    {
      "metadata": {
        "id": "ALEDJNeIqbua",
        "colab_type": "code",
        "colab": {}
      },
      "cell_type": "code",
      "source": [
        "ar.reshape(-1,1)  # 행(가로)벡터를 열(세로)벡터로 변환"
      ],
      "execution_count": 0,
      "outputs": []
    },
    {
      "metadata": {
        "id": "hKmZCz2Lxldd",
        "colab_type": "code",
        "colab": {}
      },
      "cell_type": "code",
      "source": [
        "ar.shape # 행렬의 크기 확인"
      ],
      "execution_count": 0,
      "outputs": []
    },
    {
      "metadata": {
        "id": "2tCt0NS62tod",
        "colab_type": "code",
        "colab": {}
      },
      "cell_type": "code",
      "source": [
        "ar1=ar.reshape(-1,1)  # 열벡터, column vector\n",
        "ar1.shape"
      ],
      "execution_count": 0,
      "outputs": []
    },
    {
      "metadata": {
        "id": "NPW0itjFJt7U",
        "colab_type": "text"
      },
      "cell_type": "markdown",
      "source": [
        "- reshape()의 인자에 -1이 들어간 것을 확인할 수 있는데, 이렇듯 reshape() 인자에 -1을 쓰게 되면 해당 차원의 길이는 나머지 차원의 크기에 따라서 결정된다.\n",
        "- reshape(-1,1) : 행의 크기는 미정이지만 열의 크기는 1로 고정하겠다는 표현이다."
      ]
    },
    {
      "metadata": {
        "id": "ohGedoxis96c",
        "colab_type": "text"
      },
      "cell_type": "markdown",
      "source": [
        "### 행벡터와 열벡터"
      ]
    },
    {
      "metadata": {
        "id": "3tHu9XzhsmcF",
        "colab_type": "text"
      },
      "cell_type": "markdown",
      "source": [
        "![행벡터와 열벡터](https://t1.daumcdn.net/cfile/tistory/2263234756624EC625)"
      ]
    },
    {
      "metadata": {
        "id": "MfPNWKkDIw1n",
        "colab_type": "text"
      },
      "cell_type": "markdown",
      "source": [
        "- 행벡터란 크기가 1xn인 행렬, 즉 한 행만 있는 행렬을 말한다.\n",
        "- 열벡터란 크기가 nx1인 행렬, 즉 한 열만 있는 행렬을 말한다.\n",
        "- 행벡터의 전치행렬(transpose)은 열벡터이고 열벡터의 전치행렬은 행벡터이다."
      ]
    },
    {
      "metadata": {
        "id": "ZfGNl4Kstjmr",
        "colab_type": "text"
      },
      "cell_type": "markdown",
      "source": [
        "### 2차원 배열 만들기"
      ]
    },
    {
      "metadata": {
        "id": "ez9haRJS18Pk",
        "colab_type": "code",
        "colab": {}
      },
      "cell_type": "code",
      "source": [
        "ar.reshape(-1,5,2)  # 5행2열 (5 X 2) 행렬"
      ],
      "execution_count": 0,
      "outputs": []
    },
    {
      "metadata": {
        "id": "H1YNqaa12Kel",
        "colab_type": "code",
        "colab": {}
      },
      "cell_type": "code",
      "source": [
        "ar.reshape(-1,2,5)  # 2행5열 (2 X 5) 행렬"
      ],
      "execution_count": 0,
      "outputs": []
    },
    {
      "metadata": {
        "id": "IDL6FddMEqJ0",
        "colab_type": "code",
        "colab": {}
      },
      "cell_type": "code",
      "source": [
        "ar.reshape((2,5))"
      ],
      "execution_count": 0,
      "outputs": []
    },
    {
      "metadata": {
        "id": "mKPfEpE-LkF3",
        "colab_type": "text"
      },
      "cell_type": "markdown",
      "source": [
        "- reshape() 인자에 들어간 '-1'이 의미하는 바는 무엇인가?\n",
        "\n",
        "\n",
        "\n",
        "> 변경된 배열의 '-1' 위치의 차원은 원래 배열의 길이와 남은 차원으로 부터 추정된다는 뜻이다.            \n",
        "(One shape dimension can be -1. In this case, the value is inferred from the length of the array and remaining dimensions.)\n",
        "\n",
        ">▶ [참고 자료](http://rfriend.tistory.com/tag/%ED%8C%8C%EC%9D%B4%EC%8D%AC?page=3)\n",
        "\n"
      ]
    },
    {
      "metadata": {
        "id": "HPksuy_tpfp8",
        "colab_type": "text"
      },
      "cell_type": "markdown",
      "source": [
        "### reshape of a list"
      ]
    },
    {
      "metadata": {
        "id": "4iLyPjA4pjzs",
        "colab_type": "code",
        "colab": {}
      },
      "cell_type": "code",
      "source": [
        "alist = list(ar) # ar의 원소(1~10)를 리스트로, 리스트는 대괄호를 사용\n",
        "alist"
      ],
      "execution_count": 0,
      "outputs": []
    },
    {
      "metadata": {
        "id": "RPI9NxHbpvr8",
        "colab_type": "code",
        "colab": {}
      },
      "cell_type": "code",
      "source": [
        "ar.reshape(-1,2,5) # (2x5) 행렬인 2차원 배열 생성"
      ],
      "execution_count": 0,
      "outputs": []
    },
    {
      "metadata": {
        "id": "JiYsB_Ewp2Zj",
        "colab_type": "code",
        "colab": {}
      },
      "cell_type": "code",
      "source": [
        "alist.reshape(-1,2,5) # 에러 발생"
      ],
      "execution_count": 0,
      "outputs": []
    },
    {
      "metadata": {
        "id": "DN18xgjrvC8W",
        "colab_type": "text"
      },
      "cell_type": "markdown",
      "source": [
        ">  list는 reshape()를 지원하지 않는다."
      ]
    },
    {
      "metadata": {
        "id": "xrAsEwcLTcdo",
        "colab_type": "text"
      },
      "cell_type": "markdown",
      "source": [
        "### 2차원 배열(2-d array)"
      ]
    },
    {
      "metadata": {
        "id": "gI9X6eFNTga4",
        "colab_type": "code",
        "colab": {}
      },
      "cell_type": "code",
      "source": [
        "br = np.arange(1,101)\n",
        "br.shape"
      ],
      "execution_count": 0,
      "outputs": []
    },
    {
      "metadata": {
        "id": "DVs9l6VAToY3",
        "colab_type": "code",
        "colab": {}
      },
      "cell_type": "code",
      "source": [
        "br2 = br.reshape(-1,5) # 100÷5=20, 즉 행이 5, 열이 20인 2차원 배열이 출력됨\n",
        "br2.shape"
      ],
      "execution_count": 0,
      "outputs": []
    },
    {
      "metadata": {
        "id": "AWZF2J_QTzYg",
        "colab_type": "code",
        "colab": {}
      },
      "cell_type": "code",
      "source": [
        "br2"
      ],
      "execution_count": 0,
      "outputs": []
    },
    {
      "metadata": {
        "id": "pXLUC19U2TZ8",
        "colab_type": "code",
        "colab": {}
      },
      "cell_type": "code",
      "source": [
        "br.reshape(-1,20) # 행이 20, 열이 5인 2차원 배열로 reshape 됨"
      ],
      "execution_count": 0,
      "outputs": []
    },
    {
      "metadata": {
        "id": "VogQ62Cvuqek",
        "colab_type": "text"
      },
      "cell_type": "markdown",
      "source": [
        "## 응용: 손글씨 데이터 처리"
      ]
    },
    {
      "metadata": {
        "id": "mit7a1JN6Ul8",
        "colab_type": "text"
      },
      "cell_type": "markdown",
      "source": [
        "### Upload data of 100 hand-wriiten digits (digits100.csv)"
      ]
    },
    {
      "metadata": {
        "id": "p9won-NIOFZX",
        "colab_type": "text"
      },
      "cell_type": "markdown",
      "source": [
        "손글씨 데이터 파일(digits100.csv) 업로드"
      ]
    },
    {
      "metadata": {
        "id": "oErUTDEOul1d",
        "colab_type": "code",
        "colab": {}
      },
      "cell_type": "code",
      "source": [
        "from google.colab import files\n",
        "\n",
        "uploaded = files.upload()\n",
        "\n",
        "for fn in uploaded.keys():\n",
        "  print('User uploaded file \"{name}\" with length {length} bytes'.format(\n",
        "      name=fn, length=len(uploaded[fn])))"
      ],
      "execution_count": 0,
      "outputs": []
    },
    {
      "metadata": {
        "id": "E4eNMvh06fV8",
        "colab_type": "code",
        "colab": {}
      },
      "cell_type": "code",
      "source": [
        "import pandas as pd\n",
        "df=pd.read_csv('digits100.csv', sep=',') #, index_col=False),header=None)\n",
        "df.shape"
      ],
      "execution_count": 0,
      "outputs": []
    },
    {
      "metadata": {
        "id": "ZOoM35Ks75Qk",
        "colab_type": "code",
        "colab": {}
      },
      "cell_type": "code",
      "source": [
        "digits = df.values  # Convert dataframe to ndarray"
      ],
      "execution_count": 0,
      "outputs": []
    },
    {
      "metadata": {
        "id": "Q5FJVAOv_dh2",
        "colab_type": "code",
        "colab": {}
      },
      "cell_type": "code",
      "source": [
        "digits[15].shape"
      ],
      "execution_count": 0,
      "outputs": []
    },
    {
      "metadata": {
        "id": "HVmKVrN-CCBN",
        "colab_type": "text"
      },
      "cell_type": "markdown",
      "source": [
        "### 행벡터(1X784)를 이미지 배열 (28X28)로 재구성"
      ]
    },
    {
      "metadata": {
        "id": "i4Cd9SfBAnaT",
        "colab_type": "code",
        "colab": {}
      },
      "cell_type": "code",
      "source": [
        "digits[15].reshape(28,28)"
      ],
      "execution_count": 0,
      "outputs": []
    },
    {
      "metadata": {
        "id": "CrNmce2SC_zE",
        "colab_type": "code",
        "colab": {}
      },
      "cell_type": "code",
      "source": [
        "# 맷플롯립 설정\n",
        "%matplotlib inline\n",
        "import matplotlib\n",
        "import matplotlib.pyplot as plt"
      ],
      "execution_count": 0,
      "outputs": []
    },
    {
      "metadata": {
        "id": "NKD---s58stM",
        "colab_type": "code",
        "colab": {}
      },
      "cell_type": "code",
      "source": [
        "# 맷플롯립의 imshow()로 숫자 이미지 보기\n",
        "some_digit = digits[77]\n",
        "some_digit_image = some_digit.reshape(28,28)\n",
        "plt.imshow(some_digit_image, cmap=matplotlib.cm.binary, interpolation=\"nearest\")\n",
        "plt.axis(\"off\")\n",
        "plt.show()"
      ],
      "execution_count": 0,
      "outputs": []
    },
    {
      "metadata": {
        "id": "dOel4Jb_ECE0",
        "colab_type": "text"
      },
      "cell_type": "markdown",
      "source": [
        "### 모든 숫자 보기"
      ]
    },
    {
      "metadata": {
        "id": "pfsd9h8t_U-d",
        "colab_type": "code",
        "colab": {}
      },
      "cell_type": "code",
      "source": [
        "# 숫자 그림을 위한 추가 함수\n",
        "def plot_digits(instances, images_per_row=10, **options):\n",
        "    size = 28\n",
        "    images_per_row = min(len(instances), images_per_row)\n",
        "    images = [instance.reshape(size,size) for instance in instances]\n",
        "    n_rows = (len(instances) - 1) // images_per_row + 1\n",
        "    row_images = []\n",
        "    n_empty = n_rows * images_per_row - len(instances)\n",
        "    images.append(np.zeros((size, size * n_empty)))\n",
        "    for row in range(n_rows):\n",
        "        rimages = images[row * images_per_row : (row + 1) * images_per_row]\n",
        "        row_images.append(np.concatenate(rimages, axis=1))\n",
        "    image = np.concatenate(row_images, axis=0)\n",
        "    plt.imshow(image, cmap = matplotlib.cm.binary, **options)\n",
        "    plt.axis(\"off\")"
      ],
      "execution_count": 0,
      "outputs": []
    },
    {
      "metadata": {
        "id": "Ww1wqyJFEK38",
        "colab_type": "code",
        "colab": {}
      },
      "cell_type": "code",
      "source": [
        "plt.figure(figsize=(10,10))\n",
        "plot_digits(digits, images_per_row=10)\n",
        "plt.show()"
      ],
      "execution_count": 0,
      "outputs": []
    },
    {
      "metadata": {
        "id": "qU47Gc_CEWa0",
        "colab_type": "code",
        "colab": {}
      },
      "cell_type": "code",
      "source": [
        ""
      ],
      "execution_count": 0,
      "outputs": []
    }
  ]
}