{
  "nbformat": 4,
  "nbformat_minor": 0,
  "metadata": {
    "colab": {
      "name": "wk02_variables_py03.ipynb의 사본",
      "version": "0.3.2",
      "provenance": [],
      "include_colab_link": true
    },
    "kernelspec": {
      "name": "python3",
      "display_name": "Python 3"
    }
  },
  "cells": [
    {
      "cell_type": "markdown",
      "metadata": {
        "id": "view-in-github",
        "colab_type": "text"
      },
      "source": [
        "[View in Colaboratory](https://colab.research.google.com/github/HIT-YL/py-03/blob/master/wk02_variables.ipynb)"
      ]
    },
    {
      "metadata": {
        "id": "rVvr9euQ74Uv",
        "colab_type": "toc"
      },
      "cell_type": "markdown",
      "source": [
        ">>[변수(variables)](#updateTitle=true&folderId=1PQBFjoJ_AVnoHCesaWR1aoD8mPbKcnyq&scrollTo=uuIfeqYpqior)\n",
        "\n",
        ">>[예약어(keywords)](#updateTitle=true&folderId=1PQBFjoJ_AVnoHCesaWR1aoD8mPbKcnyq&scrollTo=YkUPexsX0mBW)\n",
        "\n",
        ">>[예약어는 변수 이름으로 사용할 수 없다(오류가 발생)](#updateTitle=true&folderId=1PQBFjoJ_AVnoHCesaWR1aoD8mPbKcnyq&scrollTo=_fErzv471jpZ)\n",
        "\n",
        ">>[User input](#updateTitle=true&folderId=1PQBFjoJ_AVnoHCesaWR1aoD8mPbKcnyq&scrollTo=-NyZMcrf1qE2)\n",
        "\n",
        ">>[Code block & Indentation(들여쓰기)](#updateTitle=true&folderId=1PQBFjoJ_AVnoHCesaWR1aoD8mPbKcnyq&scrollTo=jxefo4wk2DEf)\n",
        "\n",
        ">>>[도전 코딩1. BMI](#updateTitle=true&folderId=1PQBFjoJ_AVnoHCesaWR1aoD8mPbKcnyq&scrollTo=KzEMDhxN3e8n)\n",
        "\n",
        ">>>[BMI](#updateTitle=true&folderId=1PQBFjoJ_AVnoHCesaWR1aoD8mPbKcnyq&scrollTo=FR3BnBKq49N_)\n",
        "\n",
        ">>>[도전 코딩2. Fat burning](#updateTitle=true&folderId=1PQBFjoJ_AVnoHCesaWR1aoD8mPbKcnyq&scrollTo=-NKF4UUb5s8w)\n",
        "\n"
      ]
    },
    {
      "metadata": {
        "id": "uuIfeqYpqior",
        "colab_type": "text"
      },
      "cell_type": "markdown",
      "source": [
        "## 변수(variables)"
      ]
    },
    {
      "metadata": {
        "id": "3vypN_PLp_Bb",
        "colab_type": "code",
        "colab": {
          "base_uri": "https://localhost:8080/",
          "height": 35
        },
        "outputId": "117336b0-5205-49eb-c33e-8a18198929ff"
      },
      "cell_type": "code",
      "source": [
        "5-5+1+9"
      ],
      "execution_count": 0,
      "outputs": [
        {
          "output_type": "execute_result",
          "data": {
            "text/plain": [
              "10"
            ]
          },
          "metadata": {
            "tags": []
          },
          "execution_count": 1
        }
      ]
    },
    {
      "metadata": {
        "id": "eN3hqjiAq4Fr",
        "colab_type": "code",
        "colab": {
          "base_uri": "https://localhost:8080/",
          "height": 35
        },
        "outputId": "a4b2de4f-d98e-43c8-ff34-7c3958f1547f"
      },
      "cell_type": "code",
      "source": [
        "5/5/3 + 9"
      ],
      "execution_count": 0,
      "outputs": [
        {
          "output_type": "execute_result",
          "data": {
            "text/plain": [
              "9.333333333333334"
            ]
          },
          "metadata": {
            "tags": []
          },
          "execution_count": 2
        }
      ]
    },
    {
      "metadata": {
        "id": "s6HgSRLbrHlg",
        "colab_type": "code",
        "colab": {
          "base_uri": "https://localhost:8080/",
          "height": 35
        },
        "outputId": "4de3946b-e947-4734-db50-b495a2ff2aab"
      },
      "cell_type": "code",
      "source": [
        "5/(5/3) + 9"
      ],
      "execution_count": 0,
      "outputs": [
        {
          "output_type": "execute_result",
          "data": {
            "text/plain": [
              "12.0"
            ]
          },
          "metadata": {
            "tags": []
          },
          "execution_count": 4
        }
      ]
    },
    {
      "metadata": {
        "id": "m6yMddqMrWi0",
        "colab_type": "code",
        "colab": {
          "base_uri": "https://localhost:8080/",
          "height": 35
        },
        "outputId": "52044cb1-f2aa-444c-8975-f22478c4db25"
      },
      "cell_type": "code",
      "source": [
        "5/5*1+9"
      ],
      "execution_count": 0,
      "outputs": [
        {
          "output_type": "execute_result",
          "data": {
            "text/plain": [
              "10.0"
            ]
          },
          "metadata": {
            "tags": []
          },
          "execution_count": 5
        }
      ]
    },
    {
      "metadata": {
        "id": "61docU6Krhte",
        "colab_type": "code",
        "colab": {
          "base_uri": "https://localhost:8080/",
          "height": 35
        },
        "outputId": "76f73b2c-8161-4442-ca82-cdc0a959b71f"
      },
      "cell_type": "code",
      "source": [
        "5/5*(1+9)"
      ],
      "execution_count": 0,
      "outputs": [
        {
          "output_type": "execute_result",
          "data": {
            "text/plain": [
              "10.0"
            ]
          },
          "metadata": {
            "tags": []
          },
          "execution_count": 6
        }
      ]
    },
    {
      "metadata": {
        "id": "JNbvJsuErpj7",
        "colab_type": "code",
        "colab": {}
      },
      "cell_type": "code",
      "source": [
        "some_var = 100"
      ],
      "execution_count": 0,
      "outputs": []
    },
    {
      "metadata": {
        "id": "okajMl0Rsbzj",
        "colab_type": "code",
        "colab": {}
      },
      "cell_type": "code",
      "source": [
        "some_var=\"강남스타일\""
      ],
      "execution_count": 0,
      "outputs": []
    },
    {
      "metadata": {
        "id": "Mi-U1UGcsfOS",
        "colab_type": "code",
        "colab": {
          "base_uri": "https://localhost:8080/",
          "height": 35
        },
        "outputId": "0d74092d-ff21-4fe0-a580-d840957d8a9e"
      },
      "cell_type": "code",
      "source": [
        "some_var"
      ],
      "execution_count": 0,
      "outputs": [
        {
          "output_type": "execute_result",
          "data": {
            "text/plain": [
              "'강남스타일'"
            ]
          },
          "metadata": {
            "tags": []
          },
          "execution_count": 9
        }
      ]
    },
    {
      "metadata": {
        "id": "tD4j_4ABslAw",
        "colab_type": "code",
        "colab": {}
      },
      "cell_type": "code",
      "source": [
        "psy = \"오빤 강남스타일 \""
      ],
      "execution_count": 0,
      "outputs": []
    },
    {
      "metadata": {
        "id": "JDyVvmYHs5Il",
        "colab_type": "code",
        "colab": {}
      },
      "cell_type": "code",
      "source": [
        "psy = psy+\"오, 강남스타일\""
      ],
      "execution_count": 0,
      "outputs": []
    },
    {
      "metadata": {
        "id": "TVDlp3w2s-7K",
        "colab_type": "code",
        "colab": {
          "base_uri": "https://localhost:8080/",
          "height": 35
        },
        "outputId": "c9293ac1-6a58-4aca-c535-6fb7d2763f70"
      },
      "cell_type": "code",
      "source": [
        "psy"
      ],
      "execution_count": 0,
      "outputs": [
        {
          "output_type": "execute_result",
          "data": {
            "text/plain": [
              "'오빤 강남스타일 오, 강남스타일'"
            ]
          },
          "metadata": {
            "tags": []
          },
          "execution_count": 14
        }
      ]
    },
    {
      "metadata": {
        "id": "GooYtovKtCoQ",
        "colab_type": "code",
        "colab": {}
      },
      "cell_type": "code",
      "source": [
        "psy2 = \"아름다워 사랑스러워 \""
      ],
      "execution_count": 0,
      "outputs": []
    },
    {
      "metadata": {
        "id": "-myJILmjtLxm",
        "colab_type": "code",
        "colab": {}
      },
      "cell_type": "code",
      "source": [
        "psy2 += \"그래 너, 그래 바로 너\""
      ],
      "execution_count": 0,
      "outputs": []
    },
    {
      "metadata": {
        "id": "QGMNF5YhtSjl",
        "colab_type": "code",
        "colab": {
          "base_uri": "https://localhost:8080/",
          "height": 35
        },
        "outputId": "eb8d426b-ea70-47c3-caa5-797244d51391"
      },
      "cell_type": "code",
      "source": [
        "psy2"
      ],
      "execution_count": 0,
      "outputs": [
        {
          "output_type": "execute_result",
          "data": {
            "text/plain": [
              "'아름다워 사랑스러워 그래 너, 그래 바로 너'"
            ]
          },
          "metadata": {
            "tags": []
          },
          "execution_count": 17
        }
      ]
    },
    {
      "metadata": {
        "id": "PHO1VL1DtTzc",
        "colab_type": "code",
        "colab": {
          "base_uri": "https://localhost:8080/",
          "height": 35
        },
        "outputId": "0d7b688c-75c6-4ab3-f006-0b90bb25385d"
      },
      "cell_type": "code",
      "source": [
        "psy = \"\"\"낮에는 따사로운 인간적인 여자\n",
        "커피 한 잔의 여유를 아는 품격있는 여자\n",
        "밤이 오면 심장이 뜨거워지는 여자 그런 반전 있는 여자\"\"\"\n",
        "psy"
      ],
      "execution_count": 0,
      "outputs": [
        {
          "output_type": "execute_result",
          "data": {
            "text/plain": [
              "'낮에는 따사로운 인간적인 여자\\n커피 한 잔의 여유를 아는 품격있는 여자\\n밤이 오면 심장이 뜨거워지는 여자 그런 반전 있는 여자'"
            ]
          },
          "metadata": {
            "tags": []
          },
          "execution_count": 18
        }
      ]
    },
    {
      "metadata": {
        "id": "7d5eo7n5twlo",
        "colab_type": "code",
        "colab": {
          "base_uri": "https://localhost:8080/",
          "height": 71
        },
        "outputId": "af1389f6-d29a-42c7-bc1c-5a151da2bdc3"
      },
      "cell_type": "code",
      "source": [
        "print(psy)"
      ],
      "execution_count": 0,
      "outputs": [
        {
          "output_type": "stream",
          "text": [
            "낮에는 따사로운 인간적인 여자\n",
            "커피 한 잔의 여유를 아는 품격있는 여자\n",
            "밤이 오면 심장이 뜨거워지는 여자 그런 반전 있는 여자\n"
          ],
          "name": "stdout"
        }
      ]
    },
    {
      "metadata": {
        "id": "yy0eqb2vt6o3",
        "colab_type": "code",
        "colab": {
          "base_uri": "https://localhost:8080/",
          "height": 35
        },
        "outputId": "f2dbd2b6-6a49-45b8-957e-097f23823394"
      },
      "cell_type": "code",
      "source": [
        "sum = 10+20+\\\n",
        "30+40\n",
        "sum"
      ],
      "execution_count": 0,
      "outputs": [
        {
          "output_type": "execute_result",
          "data": {
            "text/plain": [
              "100"
            ]
          },
          "metadata": {
            "tags": []
          },
          "execution_count": 20
        }
      ]
    },
    {
      "metadata": {
        "id": "OAa-pw2muQle",
        "colab_type": "code",
        "colab": {
          "base_uri": "https://localhost:8080/",
          "height": 208
        },
        "outputId": "0da3fdee-00c0-4673-ed02-e7d1fc74d529"
      },
      "cell_type": "code",
      "source": [
        "day=3\n",
        "date = day+\" 일\"\n",
        "print(date)"
      ],
      "execution_count": 0,
      "outputs": [
        {
          "output_type": "error",
          "ename": "TypeError",
          "evalue": "ignored",
          "traceback": [
            "\u001b[0;31m---------------------------------------------------------------------------\u001b[0m",
            "\u001b[0;31mTypeError\u001b[0m                                 Traceback (most recent call last)",
            "\u001b[0;32m<ipython-input-21-d12eabf7267e>\u001b[0m in \u001b[0;36m<module>\u001b[0;34m()\u001b[0m\n\u001b[1;32m      1\u001b[0m \u001b[0mday\u001b[0m\u001b[0;34m=\u001b[0m\u001b[0;36m3\u001b[0m\u001b[0;34m\u001b[0m\u001b[0m\n\u001b[0;32m----> 2\u001b[0;31m \u001b[0mdate\u001b[0m \u001b[0;34m=\u001b[0m \u001b[0mday\u001b[0m\u001b[0;34m+\u001b[0m\u001b[0;34m\" 일\"\u001b[0m\u001b[0;34m\u001b[0m\u001b[0m\n\u001b[0m\u001b[1;32m      3\u001b[0m \u001b[0mprint\u001b[0m\u001b[0;34m(\u001b[0m\u001b[0mdate\u001b[0m\u001b[0;34m)\u001b[0m\u001b[0;34m\u001b[0m\u001b[0m\n",
            "\u001b[0;31mTypeError\u001b[0m: unsupported operand type(s) for +: 'int' and 'str'"
          ]
        }
      ]
    },
    {
      "metadata": {
        "id": "9n8w9Ty7upFe",
        "colab_type": "code",
        "colab": {
          "base_uri": "https://localhost:8080/",
          "height": 35
        },
        "outputId": "7316e106-07a4-4942-b21b-e9844b28734f"
      },
      "cell_type": "code",
      "source": [
        "date=str(day)+\" 일\"\n",
        "print(date)"
      ],
      "execution_count": 0,
      "outputs": [
        {
          "output_type": "stream",
          "text": [
            "3 일\n"
          ],
          "name": "stdout"
        }
      ]
    },
    {
      "metadata": {
        "id": "9EmQkrBIu5hm",
        "colab_type": "code",
        "colab": {
          "base_uri": "https://localhost:8080/",
          "height": 35
        },
        "outputId": "2be3bbf7-6392-4a9f-f358-e758424d1c74"
      },
      "cell_type": "code",
      "source": [
        "day=3\n",
        "str_day=str(day)\n",
        "date=str_day+ \" 일\"\n",
        "print(date)"
      ],
      "execution_count": 0,
      "outputs": [
        {
          "output_type": "stream",
          "text": [
            "3 일\n"
          ],
          "name": "stdout"
        }
      ]
    },
    {
      "metadata": {
        "id": "NiLCBQpzvQf0",
        "colab_type": "code",
        "colab": {
          "base_uri": "https://localhost:8080/",
          "height": 35
        },
        "outputId": "5ea0df22-d501-46f7-f828-521a73853979"
      },
      "cell_type": "code",
      "source": [
        "type(day), type(str_day), type(date)"
      ],
      "execution_count": 0,
      "outputs": [
        {
          "output_type": "execute_result",
          "data": {
            "text/plain": [
              "(int, str, str)"
            ]
          },
          "metadata": {
            "tags": []
          },
          "execution_count": 24
        }
      ]
    },
    {
      "metadata": {
        "id": "_wnauKLCvm0F",
        "colab_type": "code",
        "colab": {
          "base_uri": "https://localhost:8080/",
          "height": 1331
        },
        "outputId": "0452015c-22d2-4562-e58c-3528412bcf64"
      },
      "cell_type": "code",
      "source": [
        "dir()"
      ],
      "execution_count": 0,
      "outputs": [
        {
          "output_type": "execute_result",
          "data": {
            "text/plain": [
              "['In',\n",
              " 'Out',\n",
              " '_',\n",
              " '_1',\n",
              " '_14',\n",
              " '_17',\n",
              " '_18',\n",
              " '_2',\n",
              " '_20',\n",
              " '_24',\n",
              " '_3',\n",
              " '_4',\n",
              " '_5',\n",
              " '_6',\n",
              " '_9',\n",
              " '_TensorFlowImportHook',\n",
              " '__',\n",
              " '___',\n",
              " '__builtin__',\n",
              " '__builtins__',\n",
              " '__doc__',\n",
              " '__loader__',\n",
              " '__name__',\n",
              " '__package__',\n",
              " '__spec__',\n",
              " '_dh',\n",
              " '_i',\n",
              " '_i1',\n",
              " '_i10',\n",
              " '_i11',\n",
              " '_i12',\n",
              " '_i13',\n",
              " '_i14',\n",
              " '_i15',\n",
              " '_i16',\n",
              " '_i17',\n",
              " '_i18',\n",
              " '_i19',\n",
              " '_i2',\n",
              " '_i20',\n",
              " '_i21',\n",
              " '_i22',\n",
              " '_i23',\n",
              " '_i24',\n",
              " '_i25',\n",
              " '_i3',\n",
              " '_i4',\n",
              " '_i5',\n",
              " '_i6',\n",
              " '_i7',\n",
              " '_i8',\n",
              " '_i9',\n",
              " '_ih',\n",
              " '_ii',\n",
              " '_iii',\n",
              " '_oh',\n",
              " '_sh',\n",
              " 'date',\n",
              " 'datetime',\n",
              " 'day',\n",
              " 'exit',\n",
              " 'get_ipython',\n",
              " 'imp',\n",
              " 'logging',\n",
              " 'os',\n",
              " 'psy',\n",
              " 'psy2',\n",
              " 'quit',\n",
              " 'register_hook',\n",
              " 'some_var',\n",
              " 'str_day',\n",
              " 'sum',\n",
              " 'sys']"
            ]
          },
          "metadata": {
            "tags": []
          },
          "execution_count": 25
        }
      ]
    },
    {
      "metadata": {
        "id": "rKePPc4PvkOM",
        "colab_type": "code",
        "colab": {}
      },
      "cell_type": "code",
      "source": [
        "num=int(\"31\")\n",
        "pi=float('3.141592')"
      ],
      "execution_count": 0,
      "outputs": []
    },
    {
      "metadata": {
        "id": "V7nWnLIzwJj1",
        "colab_type": "code",
        "colab": {
          "base_uri": "https://localhost:8080/",
          "height": 35
        },
        "outputId": "e7f49412-e729-4931-bd24-541583810e50"
      },
      "cell_type": "code",
      "source": [
        "num"
      ],
      "execution_count": 0,
      "outputs": [
        {
          "output_type": "execute_result",
          "data": {
            "text/plain": [
              "31"
            ]
          },
          "metadata": {
            "tags": []
          },
          "execution_count": 27
        }
      ]
    },
    {
      "metadata": {
        "id": "L7MoPWcvw0fY",
        "colab_type": "code",
        "colab": {
          "base_uri": "https://localhost:8080/",
          "height": 35
        },
        "outputId": "5ed4f1f6-9a4c-4a2a-87fd-d3c971f4c667"
      },
      "cell_type": "code",
      "source": [
        "pi, type(pi)"
      ],
      "execution_count": 0,
      "outputs": [
        {
          "output_type": "execute_result",
          "data": {
            "text/plain": [
              "(3.141592, float)"
            ]
          },
          "metadata": {
            "tags": []
          },
          "execution_count": 28
        }
      ]
    },
    {
      "metadata": {
        "id": "kexCVk6Rw3eS",
        "colab_type": "code",
        "colab": {
          "base_uri": "https://localhost:8080/",
          "height": 35
        },
        "outputId": "52ae9b49-82c6-4832-b26a-e383545cddc1"
      },
      "cell_type": "code",
      "source": [
        "print(\"num={}, pi={}\". format(num,pi))"
      ],
      "execution_count": 0,
      "outputs": [
        {
          "output_type": "stream",
          "text": [
            "num=31, pi=3.141592\n"
          ],
          "name": "stdout"
        }
      ]
    },
    {
      "metadata": {
        "id": "YkUPexsX0mBW",
        "colab_type": "text"
      },
      "cell_type": "markdown",
      "source": [
        "## 예약어(keywords)"
      ]
    },
    {
      "metadata": {
        "id": "1vPSeUE4xVo1",
        "colab_type": "code",
        "colab": {
          "base_uri": "https://localhost:8080/",
          "height": 35
        },
        "outputId": "04d9c745-7e55-4e38-b6c0-d9505ce554c3"
      },
      "cell_type": "code",
      "source": [
        "import keyword\n",
        "\n",
        "# 파이썬의 예약어 수\n",
        "\n",
        "len(keyword.kwlist)"
      ],
      "execution_count": 0,
      "outputs": [
        {
          "output_type": "execute_result",
          "data": {
            "text/plain": [
              "33"
            ]
          },
          "metadata": {
            "tags": []
          },
          "execution_count": 33
        }
      ]
    },
    {
      "metadata": {
        "id": "yxxxY-lN0zfW",
        "colab_type": "code",
        "colab": {
          "base_uri": "https://localhost:8080/",
          "height": 35
        },
        "outputId": "6d40c4cb-dd55-4284-d01c-1d9c55f77849"
      },
      "cell_type": "code",
      "source": [
        "keyword"
      ],
      "execution_count": 0,
      "outputs": [
        {
          "output_type": "execute_result",
          "data": {
            "text/plain": [
              "<module 'keyword' from '/usr/lib/python3.6/keyword.py'>"
            ]
          },
          "metadata": {
            "tags": []
          },
          "execution_count": 34
        }
      ]
    },
    {
      "metadata": {
        "id": "vyVzsK4N05ky",
        "colab_type": "code",
        "colab": {
          "base_uri": "https://localhost:8080/",
          "height": 611
        },
        "outputId": "32fce196-e772-4906-e322-5d200b717bd3"
      },
      "cell_type": "code",
      "source": [
        "# 예약어 목록\n",
        "keyword.kwlist"
      ],
      "execution_count": 0,
      "outputs": [
        {
          "output_type": "execute_result",
          "data": {
            "text/plain": [
              "['False',\n",
              " 'None',\n",
              " 'True',\n",
              " 'and',\n",
              " 'as',\n",
              " 'assert',\n",
              " 'break',\n",
              " 'class',\n",
              " 'continue',\n",
              " 'def',\n",
              " 'del',\n",
              " 'elif',\n",
              " 'else',\n",
              " 'except',\n",
              " 'finally',\n",
              " 'for',\n",
              " 'from',\n",
              " 'global',\n",
              " 'if',\n",
              " 'import',\n",
              " 'in',\n",
              " 'is',\n",
              " 'lambda',\n",
              " 'nonlocal',\n",
              " 'not',\n",
              " 'or',\n",
              " 'pass',\n",
              " 'raise',\n",
              " 'return',\n",
              " 'try',\n",
              " 'while',\n",
              " 'with',\n",
              " 'yield']"
            ]
          },
          "metadata": {
            "tags": []
          },
          "execution_count": 35
        }
      ]
    },
    {
      "metadata": {
        "id": "_8WDesp01DLf",
        "colab_type": "code",
        "colab": {
          "base_uri": "https://localhost:8080/",
          "height": 136
        },
        "outputId": "ab990d3d-3341-494a-cd0f-627f071af989"
      },
      "cell_type": "code",
      "source": [
        "as = \"inje\" # 키워드를 문자로 사용했기 때문에 에러 발생"
      ],
      "execution_count": 0,
      "outputs": [
        {
          "output_type": "error",
          "ename": "SyntaxError",
          "evalue": "ignored",
          "traceback": [
            "\u001b[0;36m  File \u001b[0;32m\"<ipython-input-37-b0dd045761c6>\"\u001b[0;36m, line \u001b[0;32m1\u001b[0m\n\u001b[0;31m    as = \"inje\" # 키워드를 문자로 사용했기 때문에 에러 발생\u001b[0m\n\u001b[0m     ^\u001b[0m\n\u001b[0;31mSyntaxError\u001b[0m\u001b[0;31m:\u001b[0m invalid syntax\n"
          ]
        }
      ]
    },
    {
      "metadata": {
        "id": "ZCynBaMS1UmG",
        "colab_type": "code",
        "colab": {
          "base_uri": "https://localhost:8080/",
          "height": 35
        },
        "outputId": "daa4cf22-d504-4325-e78b-574f09c55ae8"
      },
      "cell_type": "code",
      "source": [
        "_as = \"inje\"\n",
        "_as"
      ],
      "execution_count": 0,
      "outputs": [
        {
          "output_type": "execute_result",
          "data": {
            "text/plain": [
              "'inje'"
            ]
          },
          "metadata": {
            "tags": []
          },
          "execution_count": 38
        }
      ]
    },
    {
      "metadata": {
        "id": "_fErzv471jpZ",
        "colab_type": "text"
      },
      "cell_type": "markdown",
      "source": [
        "## 예약어는 변수 이름으로 사용할 수 없다(오류가 발생)"
      ]
    },
    {
      "metadata": {
        "id": "-NyZMcrf1qE2",
        "colab_type": "text"
      },
      "cell_type": "markdown",
      "source": [
        "## User input"
      ]
    },
    {
      "metadata": {
        "id": "ZW8dzgfI1pfu",
        "colab_type": "code",
        "colab": {
          "base_uri": "https://localhost:8080/",
          "height": 35
        },
        "outputId": "5d02d5e9-9cb8-4af2-f292-7ae4d4068a0d"
      },
      "cell_type": "code",
      "source": [
        "name = input(\"Please write down your name here!\")"
      ],
      "execution_count": 0,
      "outputs": [
        {
          "output_type": "stream",
          "text": [
            "Please write down your name here!헬스케어IT\n"
          ],
          "name": "stdout"
        }
      ]
    },
    {
      "metadata": {
        "id": "shLETBn_1ip2",
        "colab_type": "code",
        "colab": {
          "base_uri": "https://localhost:8080/",
          "height": 35
        },
        "outputId": "24de82b9-b546-47b4-e247-20767729ef0b"
      },
      "cell_type": "code",
      "source": [
        "name"
      ],
      "execution_count": 0,
      "outputs": [
        {
          "output_type": "execute_result",
          "data": {
            "text/plain": [
              "'헬스케어IT'"
            ]
          },
          "metadata": {
            "tags": []
          },
          "execution_count": 41
        }
      ]
    },
    {
      "metadata": {
        "id": "jxefo4wk2DEf",
        "colab_type": "text"
      },
      "cell_type": "markdown",
      "source": [
        "## Code block & Indentation(들여쓰기)"
      ]
    },
    {
      "metadata": {
        "id": "zF2PeDBK2COv",
        "colab_type": "code",
        "colab": {
          "base_uri": "https://localhost:8080/",
          "height": 35
        },
        "outputId": "e24cb340-79b3-42c1-d2f5-0be6c110bb70"
      },
      "cell_type": "code",
      "source": [
        "if(10<3): # 클론 이후로 들여쓰기가 적용된 블락은 if문에 적용이 되는 것임\n",
        "  print('inside if block')\n",
        "  print('still inside if block')\n",
        "  \n",
        "print('outside if block!')"
      ],
      "execution_count": 0,
      "outputs": [
        {
          "output_type": "stream",
          "text": [
            "outside if block!\n"
          ],
          "name": "stdout"
        }
      ]
    },
    {
      "metadata": {
        "id": "KzEMDhxN3e8n",
        "colab_type": "text"
      },
      "cell_type": "markdown",
      "source": [
        "### 도전 코딩1. BMI"
      ]
    },
    {
      "metadata": {
        "id": "SX_EiU1C1hbB",
        "colab_type": "code",
        "colab": {
          "base_uri": "https://localhost:8080/",
          "height": 71
        },
        "outputId": "c10baefe-b55f-4dc2-f052-bd9558de189e"
      },
      "cell_type": "code",
      "source": [
        "height = float(input(\"Please write down your height in meters : \"))\n",
        "weight = float(input(\"Please write down your weight in kilograms : \"))\n",
        "bmi = round(weight/ (height * height), 1)\n",
        "bmi"
      ],
      "execution_count": 0,
      "outputs": [
        {
          "output_type": "stream",
          "text": [
            "Please write down your height in meters : 1.61\n",
            "Please write down your weight in kilograms : 41\n"
          ],
          "name": "stdout"
        },
        {
          "output_type": "execute_result",
          "data": {
            "text/plain": [
              "15.8"
            ]
          },
          "metadata": {
            "tags": []
          },
          "execution_count": 51
        }
      ]
    },
    {
      "metadata": {
        "id": "FR3BnBKq49N_",
        "colab_type": "text"
      },
      "cell_type": "markdown",
      "source": [
        "### BMI\n",
        "\n",
        "    BMI란?"
      ]
    },
    {
      "metadata": {
        "id": "-NKF4UUb5s8w",
        "colab_type": "text"
      },
      "cell_type": "markdown",
      "source": [
        "### 도전 코딩2. Fat burning"
      ]
    },
    {
      "metadata": {
        "id": "q2WlnNWr4CWP",
        "colab_type": "code",
        "colab": {}
      },
      "cell_type": "code",
      "source": [
        "# 조깅에서 1kg 지방을 태우는 데 몇 시간 걸리는지를 계산\n",
        "\n",
        "cal_per_1kg_fat = 7200 # 지방 1kg 연소에 필요한 열량\n",
        "cal_per_1min_jog = 7.76 # 조깅 1 분에 의한 소비 칼로리"
      ],
      "execution_count": 0,
      "outputs": []
    },
    {
      "metadata": {
        "id": "JgJW9RmO6E-e",
        "colab_type": "code",
        "colab": {
          "base_uri": "https://localhost:8080/",
          "height": 35
        },
        "outputId": "63b9837a-1d1f-4052-a289-ce3c797cc81b"
      },
      "cell_type": "code",
      "source": [
        "#조깅에서 1kg 체중 감소하는데 몇 분이 필요할까?\n",
        "\n",
        "min_to_lose1kg = cal_per_1kg_fat/cal_per_1min_jog\n",
        "hours_to_lose1kg = min_to_lose1kg/60 # 분을 시간으로 환산\n",
        "hours_to_lose1kg # 변수의 내용을 표시"
      ],
      "execution_count": 0,
      "outputs": [
        {
          "output_type": "execute_result",
          "data": {
            "text/plain": [
              "15.463917525773196"
            ]
          },
          "metadata": {
            "tags": []
          },
          "execution_count": 53
        }
      ]
    },
    {
      "metadata": {
        "id": "GcLKTeu66JvK",
        "colab_type": "code",
        "colab": {
          "base_uri": "https://localhost:8080/",
          "height": 35
        },
        "outputId": "3a707dfd-01fb-4305-d373-0fe5ee0751af"
      },
      "cell_type": "code",
      "source": [
        "print(round(hours_to_lose1kg,1)) # 소숫점 이하 반올림"
      ],
      "execution_count": 0,
      "outputs": [
        {
          "output_type": "stream",
          "text": [
            "15.5\n"
          ],
          "name": "stdout"
        }
      ]
    },
    {
      "metadata": {
        "id": "Ff7gocQJ6dKX",
        "colab_type": "code",
        "colab": {
          "base_uri": "https://localhost:8080/",
          "height": 172
        },
        "outputId": "4869d496-8a2f-4d55-8fe3-d19605d410d6"
      },
      "cell_type": "code",
      "source": [
        "print(round(hours_to_lose1kg,1) + \" 시간\") # 문자열끼리의 합이 아니기 때문에 에러가 발생"
      ],
      "execution_count": 0,
      "outputs": [
        {
          "output_type": "error",
          "ename": "TypeError",
          "evalue": "ignored",
          "traceback": [
            "\u001b[0;31m---------------------------------------------------------------------------\u001b[0m",
            "\u001b[0;31mTypeError\u001b[0m                                 Traceback (most recent call last)",
            "\u001b[0;32m<ipython-input-55-3ae9c3b9c02c>\u001b[0m in \u001b[0;36m<module>\u001b[0;34m()\u001b[0m\n\u001b[0;32m----> 1\u001b[0;31m \u001b[0mprint\u001b[0m\u001b[0;34m(\u001b[0m\u001b[0mround\u001b[0m\u001b[0;34m(\u001b[0m\u001b[0mhours_to_lose1kg\u001b[0m\u001b[0;34m,\u001b[0m\u001b[0;36m1\u001b[0m\u001b[0;34m)\u001b[0m \u001b[0;34m+\u001b[0m \u001b[0;34m\" 시간\"\u001b[0m\u001b[0;34m)\u001b[0m\u001b[0;34m\u001b[0m\u001b[0m\n\u001b[0m",
            "\u001b[0;31mTypeError\u001b[0m: unsupported operand type(s) for +: 'float' and 'str'"
          ]
        }
      ]
    },
    {
      "metadata": {
        "id": "TflgD7C46vCO",
        "colab_type": "code",
        "colab": {
          "base_uri": "https://localhost:8080/",
          "height": 35
        },
        "outputId": "e014e28a-6764-4969-b0c4-1d5399ee3884"
      },
      "cell_type": "code",
      "source": [
        "print(str(round(hours_to_lose1kg,1)) + \" 시간\") # str 함수로 에러 해결"
      ],
      "execution_count": 0,
      "outputs": [
        {
          "output_type": "stream",
          "text": [
            "15.5 시간\n"
          ],
          "name": "stdout"
        }
      ]
    },
    {
      "metadata": {
        "id": "b15e2I4661vS",
        "colab_type": "code",
        "colab": {
          "base_uri": "https://localhost:8080/",
          "height": 35
        },
        "outputId": "258816bc-a6c4-4e90-ef39-faed129f4ef3"
      },
      "cell_type": "code",
      "source": [
        "print(\"{} 시간 \".format(round(hours_to_lose1kg,1))) # format을 이용해 에러 해결"
      ],
      "execution_count": 0,
      "outputs": [
        {
          "output_type": "stream",
          "text": [
            "15.5 시간 \n"
          ],
          "name": "stdout"
        }
      ]
    },
    {
      "metadata": {
        "id": "dCgRgL_r7LJ7",
        "colab_type": "code",
        "colab": {}
      },
      "cell_type": "code",
      "source": [
        ""
      ],
      "execution_count": 0,
      "outputs": []
    }
  ]
}