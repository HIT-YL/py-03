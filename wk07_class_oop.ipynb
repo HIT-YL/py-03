{
  "nbformat": 4,
  "nbformat_minor": 0,
  "metadata": {
    "colab": {
      "name": "wk07_class_oop.ipynb",
      "version": "0.3.2",
      "provenance": [],
      "collapsed_sections": [
        "k84s3-ZD8mKm",
        "3CLXmF1P8mLN",
        "uVZ2meHh8mLW",
        "8UyUdgB58mLX"
      ],
      "include_colab_link": true
    },
    "kernelspec": {
      "display_name": "Python 3",
      "language": "python",
      "name": "python3"
    }
  },
  "cells": [
    {
      "cell_type": "markdown",
      "metadata": {
        "id": "view-in-github",
        "colab_type": "text"
      },
      "source": [
        "<a href=\"https://colab.research.google.com/github/HIT-YL/py-03/blob/master/wk07_class_oop.ipynb\" target=\"_parent\"><img src=\"https://colab.research.google.com/assets/colab-badge.svg\" alt=\"Open In Colab\"/></a>"
      ]
    },
    {
      "metadata": {
        "id": "G44rbp2yDZO2",
        "colab_type": "toc"
      },
      "cell_type": "markdown",
      "source": [
        ">[Chapter 06-01](#scrollTo=nFLg9N758mI9)\n",
        "\n",
        ">>[클래스와 객체 지향 개발](#scrollTo=nFLg9N758mI9)\n",
        "\n",
        ">>[파이썬에서 클래스 사용하기](#scrollTo=nCjEvkM58mI_)\n",
        "\n",
        ">>>[클래스로 객체(인스턴스) 만들기](#scrollTo=Ta9OkUDM8mJB)\n",
        "\n",
        ">>>[인스턴스 이용하기](#scrollTo=db3gL1yU8mJG)\n",
        "\n",
        ">[Chapter06-02](#scrollTo=AGHFKQbj8mJS)\n",
        "\n",
        ">>[클래스 만들기](#scrollTo=AGHFKQbj8mJS)\n",
        "\n",
        ">>>[클래스 정의하기](#scrollTo=NXs9-ALJ8mJT)\n",
        "\n",
        ">>>[인스턴스의 속성](#scrollTo=qs1cnmgJ8mJX)\n",
        "\n",
        ">>>[메쏘드의 정의와 초기화 메쏘드 ‘init( )’](#scrollTo=vyodPDXy8mJn)\n",
        "\n",
        ">>>[메쏘드와 제1인수 ‘self’](#scrollTo=gYF2BX1h8mJu)\n",
        "\n",
        ">>>[속성의 은폐](#scrollTo=J2uKlh-a8mJ5)\n",
        "\n",
        ">>>[다음 변수들의 차이점을 이해!](#scrollTo=b0URFnhz8mKP)\n",
        "\n",
        ">[Chapter07-01](#scrollTo=199Zaqhg8mKQ)\n",
        "\n",
        ">>[클래스 상속과 고급 객체 지향 기능](#scrollTo=199Zaqhg8mKQ)\n",
        "\n",
        ">>[클래스를 상속한다](#scrollTo=1tzBSkeS8mKQ)\n",
        "\n",
        ">>>[초기화 메쏘드의 오버라이드](#scrollTo=WadvUZuI8mKX)\n",
        "\n",
        ">>>[Solution to the above error](#scrollTo=k84s3-ZD8mKm)\n",
        "\n",
        ">>>[super( )를 사용한 슈퍼클래스의 취득](#scrollTo=h2Lu_fde8mKm)\n",
        "\n",
        ">>>[슬롯(Slot)](#scrollTo=xSB6LgHb8mKq)\n",
        "\n",
        ">>>[프로퍼티(property)](#scrollTo=VbPKcKUm8mKw)\n",
        "\n",
        ">>>[더미 데코레이터를 사용하면 보다 간편하게 속성을 정의 할 수 있다](#scrollTo=FBXBdd9U8mK7)\n",
        "\n",
        ">[Chapter 07-03](#scrollTo=T71NXIa58mLB)\n",
        "\n",
        ">>[내장형을 상속하다](#scrollTo=T71NXIa58mLB)\n",
        "\n",
        ">>[딕셔너리형을 상속한다](#scrollTo=pcu2fsj08mLC)\n",
        "\n",
        ">[Chapter08-01](#scrollTo=0qU5v9Zm8mLM)\n",
        "\n",
        ">>[모듈 파일 만들기](#scrollTo=0qU5v9Zm8mLM)\n",
        "\n",
        ">>>[모듈을 import하는 과정](#scrollTo=3CLXmF1P8mLN)\n",
        "\n",
        ">>>[파일을 실행할 때만 실행하는 블록](#scrollTo=uVZ2meHh8mLW)\n",
        "\n",
        ">>>[클래스와 모듈](#scrollTo=8UyUdgB58mLX)\n",
        "\n",
        ">>[[wk09] homework](#scrollTo=aUDtz2lB8mLe)\n",
        "\n",
        ">>>>[제출 파일명: Summary_class.ipynb](#scrollTo=aUDtz2lB8mLe)\n",
        "\n"
      ]
    },
    {
      "metadata": {
        "id": "nFLg9N758mI9",
        "colab_type": "text"
      },
      "cell_type": "markdown",
      "source": [
        "# Chapter 06-01\n",
        "## 클래스와 객체 지향 개발"
      ]
    },
    {
      "metadata": {
        "id": "nCjEvkM58mI_",
        "colab_type": "text"
      },
      "cell_type": "markdown",
      "source": [
        "## 파이썬에서 클래스 사용하기"
      ]
    },
    {
      "metadata": {
        "id": "Ta9OkUDM8mJB",
        "colab_type": "text"
      },
      "cell_type": "markdown",
      "source": [
        "### 클래스로 객체(인스턴스) 만들기"
      ]
    },
    {
      "metadata": {
        "id": "rcpdlk6M8mJB",
        "colab_type": "code",
        "colab": {}
      },
      "cell_type": "code",
      "source": [
        "# Decimal 클래스를 사용할 준비\n",
        "from decimal import Decimal # decimal 모듈(특정한 기능을 가진 함수들을 모아둔 것)에서 Decimal 클래스를 가져와라"
      ],
      "execution_count": 0,
      "outputs": []
    },
    {
      "metadata": {
        "id": "w_ze6Yhm8mJE",
        "colab_type": "code",
        "colab": {
          "base_uri": "https://localhost:8080/",
          "height": 35
        },
        "outputId": "f37dbd75-3d6c-43ab-88d9-8083259d1652"
      },
      "cell_type": "code",
      "source": [
        "# Deciaml 클래스 사용하기\n",
        "d = Decimal(10)    # Deciaml 클래스의 인스턴스 만들기\n",
        "# 값이 정수 10인 Deciaml 객체를 만든다\n",
        "print(d)"
      ],
      "execution_count": 3,
      "outputs": [
        {
          "output_type": "stream",
          "text": [
            "10\n"
          ],
          "name": "stdout"
        }
      ]
    },
    {
      "metadata": {
        "id": "db3gL1yU8mJG",
        "colab_type": "text"
      },
      "cell_type": "markdown",
      "source": [
        "### 인스턴스 이용하기"
      ]
    },
    {
      "metadata": {
        "id": "5LsA1vAC8mJH",
        "colab_type": "code",
        "colab": {
          "base_uri": "https://localhost:8080/",
          "height": 35
        },
        "outputId": "eedc310f-d487-44e7-dca0-866a5ca8867a"
      },
      "cell_type": "code",
      "source": [
        "# 인스턴스를 사용한 연산\n",
        "print(d+20)        # Decimal 클래스 인스턴스에 수치 20 더하기"
      ],
      "execution_count": 4,
      "outputs": [
        {
          "output_type": "stream",
          "text": [
            "30\n"
          ],
          "name": "stdout"
        }
      ]
    },
    {
      "metadata": {
        "id": "ia06Dbvg8mJI",
        "colab_type": "code",
        "colab": {
          "base_uri": "https://localhost:8080/",
          "height": 35
        },
        "outputId": "39fa5339-e111-48c3-ee45-c86b20e56c92"
      },
      "cell_type": "code",
      "source": [
        "# Decimal형을 사용한 비교\n",
        "0.1*3 == 0.3    # 0.1에 3을 곱해서 0.3과 비교 (실수 연산이 파이썬의 기본 연산 방법)"
      ],
      "execution_count": 5,
      "outputs": [
        {
          "output_type": "execute_result",
          "data": {
            "text/plain": [
              "False"
            ]
          },
          "metadata": {
            "tags": []
          },
          "execution_count": 5
        }
      ]
    },
    {
      "metadata": {
        "id": "Gig_ZB6g8mJK",
        "colab_type": "code",
        "colab": {
          "base_uri": "https://localhost:8080/",
          "height": 35
        },
        "outputId": "94512c3a-b067-450e-fef8-895af72badf3"
      },
      "cell_type": "code",
      "source": [
        "0.1*3 ,Decimal(\"0.1\")*3\n",
        "# 처리할 수 있는 범위 밖에 있는 숫자는 0으로 처리 못하기 때문\n",
        "# float 실수형, decimal\n",
        "# 숫자를 정확하게 비교하기 위해서는 decimal이 필요하다"
      ],
      "execution_count": 9,
      "outputs": [
        {
          "output_type": "execute_result",
          "data": {
            "text/plain": [
              "(0.30000000000000004, Decimal('0.3'))"
            ]
          },
          "metadata": {
            "tags": []
          },
          "execution_count": 9
        }
      ]
    },
    {
      "metadata": {
        "id": "cFa1ai2s8mJL",
        "colab_type": "code",
        "colab": {
          "base_uri": "https://localhost:8080/",
          "height": 35
        },
        "outputId": "a6328a51-9f7d-473c-df23-f96c04993bed"
      },
      "cell_type": "code",
      "source": [
        "# Decimal형을 사용해야 예상대로 비교\n",
        "Decimal(\"0.1\")*3 == Decimal(\"0.3\") #, Decimal(\"0.1\")*3 == 0.3"
      ],
      "execution_count": 10,
      "outputs": [
        {
          "output_type": "execute_result",
          "data": {
            "text/plain": [
              "True"
            ]
          },
          "metadata": {
            "tags": []
          },
          "execution_count": 10
        }
      ]
    },
    {
      "metadata": {
        "id": "63OBsUJH8mJO",
        "colab_type": "code",
        "colab": {
          "base_uri": "https://localhost:8080/",
          "height": 35
        },
        "outputId": "d33bdf3f-122d-40a3-d21c-76d36d24b0e7"
      },
      "cell_type": "code",
      "source": [
        "# 제곱근 계산하기 d(10)\n",
        "print(d.sqrt())    # 인스턴스 d에 sqrt() 메쏘드를 사용함 (Decimal class에 내장된 sqrt() 사용)\n",
        "# 제곱근을 구하는 함수 sqrt"
      ],
      "execution_count": 12,
      "outputs": [
        {
          "output_type": "stream",
          "text": [
            "3.162277660168379331998893544\n"
          ],
          "name": "stdout"
        }
      ]
    },
    {
      "metadata": {
        "id": "U8glto2n8mJP",
        "colab_type": "code",
        "colab": {
          "base_uri": "https://localhost:8080/",
          "height": 208
        },
        "outputId": "099ca855-04b3-433a-dd77-2d2cb0166c9c"
      },
      "cell_type": "code",
      "source": [
        "sqrt(10)\n",
        "# 파이썬은 sqrt함수가 기본적으로 제공되지 않음\n",
        "# 이를 제공받기 위해서 클래스를 이용해야해 '-'"
      ],
      "execution_count": 15,
      "outputs": [
        {
          "output_type": "error",
          "ename": "NameError",
          "evalue": "ignored",
          "traceback": [
            "\u001b[0;31m---------------------------------------------------------------------------\u001b[0m",
            "\u001b[0;31mNameError\u001b[0m                                 Traceback (most recent call last)",
            "\u001b[0;32m<ipython-input-15-270ae16863ed>\u001b[0m in \u001b[0;36m<module>\u001b[0;34m()\u001b[0m\n\u001b[0;32m----> 1\u001b[0;31m \u001b[0msqrt\u001b[0m\u001b[0;34m(\u001b[0m\u001b[0;36m10\u001b[0m\u001b[0;34m)\u001b[0m\u001b[0;34m\u001b[0m\u001b[0m\n\u001b[0m\u001b[1;32m      2\u001b[0m \u001b[0;31m# 파이썬은 sqrt함수가 기본적으로 제공되지 않음\u001b[0m\u001b[0;34m\u001b[0m\u001b[0;34m\u001b[0m\u001b[0m\n\u001b[1;32m      3\u001b[0m \u001b[0;31m# 이를 제공받기 위해서 클래스를 이용해야해 '-'\u001b[0m\u001b[0;34m\u001b[0m\u001b[0;34m\u001b[0m\u001b[0m\n",
            "\u001b[0;31mNameError\u001b[0m: name 'sqrt' is not defined"
          ]
        }
      ]
    },
    {
      "metadata": {
        "id": "AGHFKQbj8mJS",
        "colab_type": "text"
      },
      "cell_type": "markdown",
      "source": [
        "# Chapter06-02\n",
        "## 클래스 만들기"
      ]
    },
    {
      "metadata": {
        "id": "NXs9-ALJ8mJT",
        "colab_type": "text"
      },
      "cell_type": "markdown",
      "source": [
        "### 클래스 정의하기"
      ]
    },
    {
      "metadata": {
        "id": "pHIMhonk8mJT",
        "colab_type": "code",
        "colab": {}
      },
      "cell_type": "code",
      "source": [
        "# MyClass 클래스를 정의한다\n",
        "class MyClass:     # 클래스 정의\n",
        "    pass           # 처리 내용을 기술함\n",
        "  # 클래스는 내부 내용이 tab으로 띄워져 있어야해"
      ],
      "execution_count": 0,
      "outputs": []
    },
    {
      "metadata": {
        "id": "ZzgB6vSw8mJW",
        "colab_type": "text"
      },
      "cell_type": "markdown",
      "source": [
        "> pass 문은 아무것도 하지 않습니다. 최소한의 클래스를 만들 때 흔히 사용된다:"
      ]
    },
    {
      "metadata": {
        "id": "qs1cnmgJ8mJX",
        "colab_type": "text"
      },
      "cell_type": "markdown",
      "source": [
        "### 인스턴스의 속성"
      ]
    },
    {
      "metadata": {
        "id": "HjC0Wr7x8mJY",
        "colab_type": "code",
        "colab": {}
      },
      "cell_type": "code",
      "source": [
        "# MyClass 인스턴스 만들기\n",
        "# 인스턴스는 객체와 유사, \n",
        "# 클래스는 설계도, 설계도에서 만들어지는 우리가 사용하는 제품은 인스턴스와 객체가 됨\n",
        "i = MyClass()   # 변수에 인스턴스를 대입함"
      ],
      "execution_count": 0,
      "outputs": []
    },
    {
      "metadata": {
        "id": "5cCQZHXY8mJa",
        "colab_type": "code",
        "colab": {
          "base_uri": "https://localhost:8080/",
          "height": 35
        },
        "outputId": "bc48f8f8-185b-4843-ed8a-93440cc61cb6"
      },
      "cell_type": "code",
      "source": [
        "# 속성을 이용한다\n",
        "i.value = 5     # value라는 이름의 속성에 수치를 대입\n",
        "i.value         # 속성 값을 표시\n",
        "# 로컬 변수를 하나 추가한다"
      ],
      "execution_count": 20,
      "outputs": [
        {
          "output_type": "execute_result",
          "data": {
            "text/plain": [
              "5"
            ]
          },
          "metadata": {
            "tags": []
          },
          "execution_count": 20
        }
      ]
    },
    {
      "metadata": {
        "id": "D3ie73ys8mJc",
        "colab_type": "code",
        "colab": {
          "base_uri": "https://localhost:8080/",
          "height": 190
        },
        "outputId": "85bc7bd3-d3f3-4dee-84da-461b3e25f8a3"
      },
      "cell_type": "code",
      "source": [
        "# 미정의(정의되지 않은) 속성 참조\n",
        "i.py, i.undefined\n",
        "# i.py는 MyClass에서 정의되어 있지 않기 때문에 에러"
      ],
      "execution_count": 22,
      "outputs": [
        {
          "output_type": "error",
          "ename": "AttributeError",
          "evalue": "ignored",
          "traceback": [
            "\u001b[0;31m---------------------------------------------------------------------------\u001b[0m",
            "\u001b[0;31mAttributeError\u001b[0m                            Traceback (most recent call last)",
            "\u001b[0;32m<ipython-input-22-bc0fbc541525>\u001b[0m in \u001b[0;36m<module>\u001b[0;34m()\u001b[0m\n\u001b[0;32m----> 1\u001b[0;31m \u001b[0mi\u001b[0m\u001b[0;34m.\u001b[0m\u001b[0mpy\u001b[0m\u001b[0;34m,\u001b[0m \u001b[0mi\u001b[0m\u001b[0;34m.\u001b[0m\u001b[0mundefined\u001b[0m\u001b[0;34m\u001b[0m\u001b[0m\n\u001b[0m\u001b[1;32m      2\u001b[0m \u001b[0;31m# i.py는 MyClass에서 정의되어 있지 않기 때문에 에러\u001b[0m\u001b[0;34m\u001b[0m\u001b[0;34m\u001b[0m\u001b[0m\n",
            "\u001b[0;31mAttributeError\u001b[0m: 'MyClass' object has no attribute 'py'"
          ]
        }
      ]
    },
    {
      "metadata": {
        "id": "emUTos5k8mJd",
        "colab_type": "code",
        "colab": {
          "base_uri": "https://localhost:8080/",
          "height": 136
        },
        "outputId": "740bebd3-85d4-43be-94c3-692adc9f01ab"
      },
      "cell_type": "code",
      "source": [
        "# 속성은 인스턴스마다 존재한다\n",
        "i2 = MyClass()   # MyClass의 인스턴스를 별도로 정의\n",
        "i2.value         # value 속성을 참조하려고 하면\n",
        "　　　　　　　　　    # i2에서 value가 정의되지 않았으므로 오류가 발생"
      ],
      "execution_count": 24,
      "outputs": [
        {
          "output_type": "error",
          "ename": "SyntaxError",
          "evalue": "ignored",
          "traceback": [
            "\u001b[0;36m  File \u001b[0;32m\"<ipython-input-24-21a3ea6c4067>\"\u001b[0;36m, line \u001b[0;32m3\u001b[0m\n\u001b[0;31m    # i2에서 value가 정의되지 않았으므로 오류가 발생\u001b[0m\n\u001b[0m    ^\u001b[0m\n\u001b[0;31mSyntaxError\u001b[0m\u001b[0;31m:\u001b[0m invalid character in identifier\n"
          ]
        }
      ]
    },
    {
      "metadata": {
        "id": "qS7zLtcD8mJf",
        "colab_type": "code",
        "colab": {
          "base_uri": "https://localhost:8080/",
          "height": 35
        },
        "outputId": "9211157d-b9db-4b0c-b8b4-2907367af199"
      },
      "cell_type": "code",
      "source": [
        "i.value"
      ],
      "execution_count": 25,
      "outputs": [
        {
          "output_type": "execute_result",
          "data": {
            "text/plain": [
              "5"
            ]
          },
          "metadata": {
            "tags": []
          },
          "execution_count": 25
        }
      ]
    },
    {
      "metadata": {
        "id": "E3IK03-j8mJh",
        "colab_type": "code",
        "colab": {
          "base_uri": "https://localhost:8080/",
          "height": 35
        },
        "outputId": "51010d66-f429-403f-a14c-6c036c413d7e"
      },
      "cell_type": "code",
      "source": [
        "type(i)\n",
        "# 클래스의 속성을 알기 위한다면\n",
        "# 객체의 유형이 나온다"
      ],
      "execution_count": 27,
      "outputs": [
        {
          "output_type": "execute_result",
          "data": {
            "text/plain": [
              "__main__.MyClass"
            ]
          },
          "metadata": {
            "tags": []
          },
          "execution_count": 27
        }
      ]
    },
    {
      "metadata": {
        "id": "DQEW9UIn8mJk",
        "colab_type": "code",
        "colab": {
          "base_uri": "https://localhost:8080/",
          "height": 971
        },
        "outputId": "602cee9b-191e-4c6c-bf6b-e50070e2eded"
      },
      "cell_type": "code",
      "source": [
        "dir(MyClass),dir(i)\n",
        "# 클래스 안에 있는 구조를 좀 더 자세히 알고 싶으면\n",
        "# __으로 시작해서 __으로 끝나는 것은 멤버 함수들이다\n",
        "# 차이점을 잘 알아야 해!"
      ],
      "execution_count": 31,
      "outputs": [
        {
          "output_type": "execute_result",
          "data": {
            "text/plain": [
              "(['__class__',\n",
              "  '__delattr__',\n",
              "  '__dict__',\n",
              "  '__dir__',\n",
              "  '__doc__',\n",
              "  '__eq__',\n",
              "  '__format__',\n",
              "  '__ge__',\n",
              "  '__getattribute__',\n",
              "  '__gt__',\n",
              "  '__hash__',\n",
              "  '__init__',\n",
              "  '__init_subclass__',\n",
              "  '__le__',\n",
              "  '__lt__',\n",
              "  '__module__',\n",
              "  '__ne__',\n",
              "  '__new__',\n",
              "  '__reduce__',\n",
              "  '__reduce_ex__',\n",
              "  '__repr__',\n",
              "  '__setattr__',\n",
              "  '__sizeof__',\n",
              "  '__str__',\n",
              "  '__subclasshook__',\n",
              "  '__weakref__'],\n",
              " ['__class__',\n",
              "  '__delattr__',\n",
              "  '__dict__',\n",
              "  '__dir__',\n",
              "  '__doc__',\n",
              "  '__eq__',\n",
              "  '__format__',\n",
              "  '__ge__',\n",
              "  '__getattribute__',\n",
              "  '__gt__',\n",
              "  '__hash__',\n",
              "  '__init__',\n",
              "  '__init_subclass__',\n",
              "  '__le__',\n",
              "  '__lt__',\n",
              "  '__module__',\n",
              "  '__ne__',\n",
              "  '__new__',\n",
              "  '__reduce__',\n",
              "  '__reduce_ex__',\n",
              "  '__repr__',\n",
              "  '__setattr__',\n",
              "  '__sizeof__',\n",
              "  '__str__',\n",
              "  '__subclasshook__',\n",
              "  '__weakref__',\n",
              "  'value'])"
            ]
          },
          "metadata": {
            "tags": []
          },
          "execution_count": 31
        }
      ]
    },
    {
      "metadata": {
        "id": "vyodPDXy8mJn",
        "colab_type": "text"
      },
      "cell_type": "markdown",
      "source": [
        "### 메쏘드의 정의와 초기화 메쏘드 ‘__init__( )’"
      ]
    },
    {
      "metadata": {
        "id": "_zFXEcX68mJo",
        "colab_type": "code",
        "colab": {}
      },
      "cell_type": "code",
      "source": [
        "# 초기화 메쏘드를 가진 클래스 정의\n",
        "class MyClass2:\n",
        "    def __init__(self):   # 초기화 메소드를 정의, __ㅁㅁ__는 멤버 함수\n",
        "        self.value = 0    # 인스턴스에 속성을 추가\n",
        "        # self는 클래스 자체\n",
        "        print(\"This is __init__() method !\")"
      ],
      "execution_count": 0,
      "outputs": []
    },
    {
      "metadata": {
        "id": "MvqaYSNG8mJq",
        "colab_type": "code",
        "colab": {
          "base_uri": "https://localhost:8080/",
          "height": 35
        },
        "outputId": "a1ec1e19-692a-44d3-d4f9-cd4175ce60f2"
      },
      "cell_type": "code",
      "source": [
        "# MyClass2 클래스 사용하기\n",
        "i3 = MyClass2()           # 인스턴스를 만듦"
      ],
      "execution_count": 33,
      "outputs": [
        {
          "output_type": "stream",
          "text": [
            "This is __init__() method !\n"
          ],
          "name": "stdout"
        }
      ]
    },
    {
      "metadata": {
        "id": "3mWcL0sH8mJs",
        "colab_type": "code",
        "colab": {
          "base_uri": "https://localhost:8080/",
          "height": 35
        },
        "outputId": "e7c03951-5e4b-48e7-cca9-f1994a238769"
      },
      "cell_type": "code",
      "source": [
        "i3.value                  # 인스턴스의 속성을 표시함\n",
        "# 0으로 초기화 되어 있으니 0으로 출력"
      ],
      "execution_count": 35,
      "outputs": [
        {
          "output_type": "execute_result",
          "data": {
            "text/plain": [
              "0"
            ]
          },
          "metadata": {
            "tags": []
          },
          "execution_count": 35
        }
      ]
    },
    {
      "metadata": {
        "id": "-jzmR97k8mJt",
        "colab_type": "code",
        "colab": {
          "base_uri": "https://localhost:8080/",
          "height": 503
        },
        "outputId": "53a1abea-1463-4c37-de17-90da5aec2ea4"
      },
      "cell_type": "code",
      "source": [
        "dir(i3)"
      ],
      "execution_count": 37,
      "outputs": [
        {
          "output_type": "execute_result",
          "data": {
            "text/plain": [
              "['__class__',\n",
              " '__delattr__',\n",
              " '__dict__',\n",
              " '__dir__',\n",
              " '__doc__',\n",
              " '__eq__',\n",
              " '__format__',\n",
              " '__ge__',\n",
              " '__getattribute__',\n",
              " '__gt__',\n",
              " '__hash__',\n",
              " '__init__',\n",
              " '__init_subclass__',\n",
              " '__le__',\n",
              " '__lt__',\n",
              " '__module__',\n",
              " '__ne__',\n",
              " '__new__',\n",
              " '__reduce__',\n",
              " '__reduce_ex__',\n",
              " '__repr__',\n",
              " '__setattr__',\n",
              " '__sizeof__',\n",
              " '__str__',\n",
              " '__subclasshook__',\n",
              " '__weakref__',\n",
              " 'value']"
            ]
          },
          "metadata": {
            "tags": []
          },
          "execution_count": 37
        }
      ]
    },
    {
      "metadata": {
        "id": "gYF2BX1h8mJu",
        "colab_type": "text"
      },
      "cell_type": "markdown",
      "source": [
        "### 메소드와 제1인수 ‘self’"
      ]
    },
    {
      "metadata": {
        "id": "VIlPUMsY8mJv",
        "colab_type": "code",
        "colab": {}
      },
      "cell_type": "code",
      "source": [
        "# Prism클래스의 정의\n",
        "class Prism:\n",
        "    def __init__(self, width, height, depth): # () 안 첫 번째 함수는 self가 디폴트로 들어갑니다\n",
        "        # 초기화 메소드를 정의\n",
        "        self.width = width    # 인수를 속성에 할당\n",
        "        self.height = height\n",
        "        self.depth = depth\n",
        "\n",
        "    def content(self):\n",
        "        # 부피를 계산함\n",
        "        return self.width*self.height*self.depth # 가로*세로*높이"
      ],
      "execution_count": 0,
      "outputs": []
    },
    {
      "metadata": {
        "id": "0n3ziUZj8mJw",
        "colab_type": "code",
        "colab": {
          "base_uri": "https://localhost:8080/",
          "height": 35
        },
        "outputId": "ba7f96cb-4616-4f1f-a9c7-77ba1f13d583"
      },
      "cell_type": "code",
      "source": [
        "# Prism 클래스 사용하기\n",
        "p1 = Prism(10, 20, 30) # width height depth 순으로 입력\n",
        "print(p1.content()) # pi에 있는 content 메소드를 호출"
      ],
      "execution_count": 42,
      "outputs": [
        {
          "output_type": "stream",
          "text": [
            "6000\n"
          ],
          "name": "stdout"
        }
      ]
    },
    {
      "metadata": {
        "id": "BFZlEbdY8mJz",
        "colab_type": "code",
        "colab": {
          "base_uri": "https://localhost:8080/",
          "height": 35
        },
        "outputId": "d1187e91-2726-463f-ff50-8bbc66e0b7d7"
      },
      "cell_type": "code",
      "source": [
        "# 다른 수치를 지정해서 인스턴스 만들기\n",
        "p2 = Prism(50, 60, 70)   # 인수를 바꿈\n",
        "print(p2.content())      # 변경한 인수로 부피를 계산함"
      ],
      "execution_count": 43,
      "outputs": [
        {
          "output_type": "stream",
          "text": [
            "210000\n"
          ],
          "name": "stdout"
        }
      ]
    },
    {
      "metadata": {
        "id": "qNHMJrS98mJ0",
        "colab_type": "code",
        "colab": {
          "base_uri": "https://localhost:8080/",
          "height": 35
        },
        "outputId": "e95ac5cd-ce32-44b0-c145-0d8b7b212d3c"
      },
      "cell_type": "code",
      "source": [
        "# 인스턴스로부터 속성을 읽어 내기\n",
        "p1.height"
      ],
      "execution_count": 44,
      "outputs": [
        {
          "output_type": "execute_result",
          "data": {
            "text/plain": [
              "20"
            ]
          },
          "metadata": {
            "tags": []
          },
          "execution_count": 44
        }
      ]
    },
    {
      "metadata": {
        "id": "GuJ_sDAV8mJ2",
        "colab_type": "code",
        "colab": {
          "base_uri": "https://localhost:8080/",
          "height": 35
        },
        "outputId": "2806b89a-220a-44c1-dd29-ae4831edbc39"
      },
      "cell_type": "code",
      "source": [
        "# 다른 인스턴스의 속성에는 다른 값이 들어있음\n",
        "p2.height"
      ],
      "execution_count": 45,
      "outputs": [
        {
          "output_type": "execute_result",
          "data": {
            "text/plain": [
              "60"
            ]
          },
          "metadata": {
            "tags": []
          },
          "execution_count": 45
        }
      ]
    },
    {
      "metadata": {
        "id": "LaAnj84Q8mJ3",
        "colab_type": "code",
        "colab": {
          "base_uri": "https://localhost:8080/",
          "height": 35
        },
        "outputId": "72b30bf8-fe3e-49c0-c402-d3d18d3ca220"
      },
      "cell_type": "code",
      "source": [
        "# 속성 바꾸기 \n",
        "p1.height = 50 # 20->50\n",
        "print(p1.content())    # 부피를 계산함\n",
        "# 6000 -> 15000 "
      ],
      "execution_count": 47,
      "outputs": [
        {
          "output_type": "stream",
          "text": [
            "15000\n"
          ],
          "name": "stdout"
        }
      ]
    },
    {
      "metadata": {
        "id": "0_z4XZcA8mJ4",
        "colab_type": "code",
        "colab": {
          "base_uri": "https://localhost:8080/",
          "height": 557
        },
        "outputId": "38074798-c15c-47bf-9e1b-7bc4ba3df22f"
      },
      "cell_type": "code",
      "source": [
        "dir(p1)\n",
        "# 클래스에서 정의된 멤버 함수, 변수들도 쭉 나옴 (마지막 부분을 보세요)"
      ],
      "execution_count": 52,
      "outputs": [
        {
          "output_type": "execute_result",
          "data": {
            "text/plain": [
              "['__class__',\n",
              " '__delattr__',\n",
              " '__dict__',\n",
              " '__dir__',\n",
              " '__doc__',\n",
              " '__eq__',\n",
              " '__format__',\n",
              " '__ge__',\n",
              " '__getattribute__',\n",
              " '__gt__',\n",
              " '__hash__',\n",
              " '__init__',\n",
              " '__init_subclass__',\n",
              " '__le__',\n",
              " '__lt__',\n",
              " '__module__',\n",
              " '__ne__',\n",
              " '__new__',\n",
              " '__reduce__',\n",
              " '__reduce_ex__',\n",
              " '__repr__',\n",
              " '__setattr__',\n",
              " '__sizeof__',\n",
              " '__str__',\n",
              " '__subclasshook__',\n",
              " '__weakref__',\n",
              " 'content',\n",
              " 'depth',\n",
              " 'height',\n",
              " 'width']"
            ]
          },
          "metadata": {
            "tags": []
          },
          "execution_count": 52
        }
      ]
    },
    {
      "metadata": {
        "id": "s9CCSNgsMAzc",
        "colab_type": "text"
      },
      "cell_type": "markdown",
      "source": [
        "여기서부터 어려움 '^' "
      ]
    },
    {
      "metadata": {
        "id": "J2uKlh-a8mJ5",
        "colab_type": "text"
      },
      "cell_type": "markdown",
      "source": [
        "### 속성의 은폐"
      ]
    },
    {
      "metadata": {
        "id": "hmfskwhS8mJ6",
        "colab_type": "code",
        "colab": {
          "base_uri": "https://localhost:8080/",
          "height": 35
        },
        "outputId": "6b9afe3f-0abd-4f85-84ee-949f7bec1920"
      },
      "cell_type": "code",
      "source": [
        "# 다른 자료형을 대입해 본다\n",
        "p = Prism(10, 20, 30)\n",
        "p.width               # 가로폭을 표시"
      ],
      "execution_count": 53,
      "outputs": [
        {
          "output_type": "execute_result",
          "data": {
            "text/plain": [
              "10"
            ]
          },
          "metadata": {
            "tags": []
          },
          "execution_count": 53
        }
      ]
    },
    {
      "metadata": {
        "id": "KPTRF43z8mJ7",
        "colab_type": "code",
        "colab": {
          "base_uri": "https://localhost:8080/",
          "height": 55
        },
        "outputId": "d8070709-8761-4dc7-f1f6-cb25b81f09c5"
      },
      "cell_type": "code",
      "source": [
        "p.depth = \"30\"        # 속성으로 수치가 아니라 문자열을 대입\n",
        "p.content()           # 부피를 계산함\n",
        "# 30이라는 '문자열'이 200개 찍힌다"
      ],
      "execution_count": 55,
      "outputs": [
        {
          "output_type": "execute_result",
          "data": {
            "text/plain": [
              "'3030303030303030303030303030303030303030303030303030303030303030303030303030303030303030303030303030303030303030303030303030303030303030303030303030303030303030303030303030303030303030303030303030303030303030303030303030303030303030303030303030303030303030303030303030303030303030303030303030303030303030303030303030303030303030303030303030303030303030303030303030303030303030303030303030303030303030'"
            ]
          },
          "metadata": {
            "tags": []
          },
          "execution_count": 55
        }
      ]
    },
    {
      "metadata": {
        "id": "0n4GRbd78mJ9",
        "colab_type": "code",
        "colab": {
          "base_uri": "https://localhost:8080/",
          "height": 208
        },
        "outputId": "7e7914c0-5c77-47ec-83de-ca7fa3b1a9c3"
      },
      "cell_type": "code",
      "source": [
        "print(5*'A'),print(5*A)\n",
        "# 앞 : A가 5개 찍힌다 / 뒤 : A가 정의되어 있지 않기 때문에 에러가 발생"
      ],
      "execution_count": 58,
      "outputs": [
        {
          "output_type": "stream",
          "text": [
            "AAAAA\n"
          ],
          "name": "stdout"
        },
        {
          "output_type": "error",
          "ename": "NameError",
          "evalue": "ignored",
          "traceback": [
            "\u001b[0;31m---------------------------------------------------------------------------\u001b[0m",
            "\u001b[0;31mNameError\u001b[0m                                 Traceback (most recent call last)",
            "\u001b[0;32m<ipython-input-58-002dd82e4c9e>\u001b[0m in \u001b[0;36m<module>\u001b[0;34m()\u001b[0m\n\u001b[0;32m----> 1\u001b[0;31m \u001b[0mprint\u001b[0m\u001b[0;34m(\u001b[0m\u001b[0;36m5\u001b[0m\u001b[0;34m*\u001b[0m\u001b[0;34m'A'\u001b[0m\u001b[0;34m)\u001b[0m\u001b[0;34m,\u001b[0m\u001b[0mprint\u001b[0m\u001b[0;34m(\u001b[0m\u001b[0;36m5\u001b[0m\u001b[0;34m*\u001b[0m\u001b[0mA\u001b[0m\u001b[0;34m)\u001b[0m\u001b[0;34m\u001b[0m\u001b[0m\n\u001b[0m\u001b[1;32m      2\u001b[0m \u001b[0;31m# 앞 : A가 5개 찍힌다 / 뒤 : A가 정의되어 있지 않기 때문에 에러가 발생\u001b[0m\u001b[0;34m\u001b[0m\u001b[0;34m\u001b[0m\u001b[0m\n",
            "\u001b[0;31mNameError\u001b[0m: name 'A' is not defined"
          ]
        }
      ]
    },
    {
      "metadata": {
        "id": "bhbHM_54MeyZ",
        "colab_type": "code",
        "colab": {
          "base_uri": "https://localhost:8080/",
          "height": 35
        },
        "outputId": "fee975d0-45d1-42c3-e0f6-5c381514f7c2"
      },
      "cell_type": "code",
      "source": [
        "print(5*'A')"
      ],
      "execution_count": 59,
      "outputs": [
        {
          "output_type": "stream",
          "text": [
            "AAAAA\n"
          ],
          "name": "stdout"
        }
      ]
    },
    {
      "metadata": {
        "id": "Lvbo6LgV8mJ-",
        "colab_type": "code",
        "colab": {
          "base_uri": "https://localhost:8080/",
          "height": 35
        },
        "outputId": "128232ec-9413-42c3-f75b-676b6c5debed"
      },
      "cell_type": "code",
      "source": [
        "p.depth = \"A\"        # 속성으로 수치가 아니라 문자열을 대입\n",
        "p.content()  \n",
        "# A가 200개 출력이 되겠죠"
      ],
      "execution_count": 62,
      "outputs": [
        {
          "output_type": "execute_result",
          "data": {
            "text/plain": [
              "'AAAAAAAAAAAAAAAAAAAAAAAAAAAAAAAAAAAAAAAAAAAAAAAAAAAAAAAAAAAAAAAAAAAAAAAAAAAAAAAAAAAAAAAAAAAAAAAAAAAAAAAAAAAAAAAAAAAAAAAAAAAAAAAAAAAAAAAAAAAAAAAAAAAAAAAAAAAAAAAAAAAAAAAAAAAAAAAAAAAAAAAAAAAAAAAAAAAAAAAA'"
            ]
          },
          "metadata": {
            "tags": []
          },
          "execution_count": 62
        }
      ]
    },
    {
      "metadata": {
        "id": "Bu0aI8VRMn7T",
        "colab_type": "text"
      },
      "cell_type": "markdown",
      "source": [
        "- 이제 중요한 개념이 나옴"
      ]
    },
    {
      "metadata": {
        "id": "wx7b_Pl18mJ_",
        "colab_type": "code",
        "colab": {}
      },
      "cell_type": "code",
      "source": [
        "# \"__\"으로 속성을 은폐한 Prism 클래스를 정의 (width -> _width, or __width)\n",
        "class PrismC:\n",
        "    def __init__(self, width, height, depth):\n",
        "        # 초기화 메쏘드를 정의\n",
        "        self.__width = width    # 인수를 속성에 할당\n",
        "        self.__height = height   # self.__*** : 은닉된 변수를 말함\n",
        "        self.__depth = depth\n",
        "\n",
        "    def content(self):\n",
        "        # 부피를 계산함\n",
        "        return self.__width*self.__height*self.__depth"
      ],
      "execution_count": 0,
      "outputs": []
    },
    {
      "metadata": {
        "id": "H5gORu7O8mKB",
        "colab_type": "code",
        "colab": {
          "base_uri": "https://localhost:8080/",
          "height": 35
        },
        "outputId": "9ea53f24-4627-4d12-a3a2-f419dfa07bee"
      },
      "cell_type": "code",
      "source": [
        "p4 = PrismC(10, 20, 30) # C는 캡슐 안에 숨겨져 있다...는 뜻\n",
        "print(p4.content())"
      ],
      "execution_count": 66,
      "outputs": [
        {
          "output_type": "stream",
          "text": [
            "6000\n"
          ],
          "name": "stdout"
        }
      ]
    },
    {
      "metadata": {
        "id": "3qbNptds8mKC",
        "colab_type": "code",
        "colab": {
          "base_uri": "https://localhost:8080/",
          "height": 35
        },
        "outputId": "6b2982d0-3db6-4738-9359-b300334939c8"
      },
      "cell_type": "code",
      "source": [
        "p4.__width = 200    # 속성을 외부에서 다시 대입\n",
        "p4.content()        # 결과는 변하지 않는다 --> 무엇을 의미하는가?\n",
        "                    # PrismC 사용해야돼"
      ],
      "execution_count": 70,
      "outputs": [
        {
          "output_type": "execute_result",
          "data": {
            "text/plain": [
              "180000"
            ]
          },
          "metadata": {
            "tags": []
          },
          "execution_count": 70
        }
      ]
    },
    {
      "metadata": {
        "id": "-mWBGbwd8mKD",
        "colab_type": "code",
        "colab": {
          "base_uri": "https://localhost:8080/",
          "height": 35
        },
        "outputId": "45a613ef-b52e-47fd-ace9-3ce417f13b4f"
      },
      "cell_type": "code",
      "source": [
        "# 그러나 이름을 바꾸는 규칙을 알고 있다면 변경된다\n",
        "p4._PrismC__width = 300    # 핵심 !!!!!!\n",
        "# p4._PrismC__depth = 500\n",
        "p4.content()"
      ],
      "execution_count": 71,
      "outputs": [
        {
          "output_type": "execute_result",
          "data": {
            "text/plain": [
              "180000"
            ]
          },
          "metadata": {
            "tags": []
          },
          "execution_count": 71
        }
      ]
    },
    {
      "metadata": {
        "id": "Nsyt0pSi8mKF",
        "colab_type": "code",
        "colab": {
          "base_uri": "https://localhost:8080/",
          "height": 172
        },
        "outputId": "a65e0cda-1c34-4b13-ca3c-79e57dc146ef"
      },
      "cell_type": "code",
      "source": [
        "p4.__width, p4.__height, p4.__depth # ?????"
      ],
      "execution_count": 76,
      "outputs": [
        {
          "output_type": "error",
          "ename": "AttributeError",
          "evalue": "ignored",
          "traceback": [
            "\u001b[0;31m---------------------------------------------------------------------------\u001b[0m",
            "\u001b[0;31mAttributeError\u001b[0m                            Traceback (most recent call last)",
            "\u001b[0;32m<ipython-input-76-8674d7355dc4>\u001b[0m in \u001b[0;36m<module>\u001b[0;34m()\u001b[0m\n\u001b[0;32m----> 1\u001b[0;31m \u001b[0mp4\u001b[0m\u001b[0;34m.\u001b[0m\u001b[0m__width\u001b[0m\u001b[0;34m,\u001b[0m \u001b[0mp4\u001b[0m\u001b[0;34m.\u001b[0m\u001b[0m__height\u001b[0m\u001b[0;34m,\u001b[0m \u001b[0mp4\u001b[0m\u001b[0;34m.\u001b[0m\u001b[0m__depth\u001b[0m \u001b[0;31m# ?????\u001b[0m\u001b[0;34m\u001b[0m\u001b[0m\n\u001b[0m",
            "\u001b[0;31mAttributeError\u001b[0m: 'PrismC' object has no attribute '__height'"
          ]
        }
      ]
    },
    {
      "metadata": {
        "id": "53lq_IP28mKH",
        "colab_type": "code",
        "colab": {
          "base_uri": "https://localhost:8080/",
          "height": 172
        },
        "outputId": "dfeb567f-7cf5-4f94-e40f-39e7ea6676a3"
      },
      "cell_type": "code",
      "source": [
        "p4.__height # p4에는 height 변수가 없으므로 에러 발생"
      ],
      "execution_count": 78,
      "outputs": [
        {
          "output_type": "error",
          "ename": "AttributeError",
          "evalue": "ignored",
          "traceback": [
            "\u001b[0;31m---------------------------------------------------------------------------\u001b[0m",
            "\u001b[0;31mAttributeError\u001b[0m                            Traceback (most recent call last)",
            "\u001b[0;32m<ipython-input-78-6b389c398658>\u001b[0m in \u001b[0;36m<module>\u001b[0;34m()\u001b[0m\n\u001b[0;32m----> 1\u001b[0;31m \u001b[0mp4\u001b[0m\u001b[0;34m.\u001b[0m\u001b[0m__height\u001b[0m \u001b[0;31m# p4에는 height 변수가 없으므로 에러 발생\u001b[0m\u001b[0;34m\u001b[0m\u001b[0m\n\u001b[0m",
            "\u001b[0;31mAttributeError\u001b[0m: 'PrismC' object has no attribute '__height'"
          ]
        }
      ]
    },
    {
      "metadata": {
        "id": "uYPxHxly8mKK",
        "colab_type": "code",
        "colab": {}
      },
      "cell_type": "code",
      "source": [
        "p4._height=1"
      ],
      "execution_count": 0,
      "outputs": []
    },
    {
      "metadata": {
        "id": "vDxk76pw8mKM",
        "colab_type": "code",
        "colab": {
          "base_uri": "https://localhost:8080/",
          "height": 35
        },
        "outputId": "58beae3f-827e-4100-8e33-b6c03ad6720b"
      },
      "cell_type": "code",
      "source": [
        "p4._height"
      ],
      "execution_count": 81,
      "outputs": [
        {
          "output_type": "execute_result",
          "data": {
            "text/plain": [
              "1"
            ]
          },
          "metadata": {
            "tags": []
          },
          "execution_count": 81
        }
      ]
    },
    {
      "metadata": {
        "id": "3kA3udxz8mKN",
        "colab_type": "code",
        "colab": {
          "base_uri": "https://localhost:8080/",
          "height": 593
        },
        "outputId": "addf7c36-db2c-4109-9a62-74b0ca8e15d8"
      },
      "cell_type": "code",
      "source": [
        "dir(p4)\n",
        "# 은닉된 멤버변수(PrismC)가 있고, 이를 접근할 때 '_변수이름__함수'로 한다."
      ],
      "execution_count": 83,
      "outputs": [
        {
          "output_type": "execute_result",
          "data": {
            "text/plain": [
              "['_PrismC__depth',\n",
              " '_PrismC__height',\n",
              " '_PrismC__width',\n",
              " '__class__',\n",
              " '__delattr__',\n",
              " '__dict__',\n",
              " '__dir__',\n",
              " '__doc__',\n",
              " '__eq__',\n",
              " '__format__',\n",
              " '__ge__',\n",
              " '__getattribute__',\n",
              " '__gt__',\n",
              " '__hash__',\n",
              " '__init__',\n",
              " '__init_subclass__',\n",
              " '__le__',\n",
              " '__lt__',\n",
              " '__module__',\n",
              " '__ne__',\n",
              " '__new__',\n",
              " '__reduce__',\n",
              " '__reduce_ex__',\n",
              " '__repr__',\n",
              " '__setattr__',\n",
              " '__sizeof__',\n",
              " '__str__',\n",
              " '__subclasshook__',\n",
              " '__weakref__',\n",
              " '__width',\n",
              " '_height',\n",
              " 'content']"
            ]
          },
          "metadata": {
            "tags": []
          },
          "execution_count": 83
        }
      ]
    },
    {
      "metadata": {
        "id": "b0URFnhz8mKP",
        "colab_type": "text"
      },
      "cell_type": "markdown",
      "source": [
        "### 다음 변수들의 차이점을 이해!\n",
        "\n",
        "<pre> _PrismC__depth,  _PrismC__height, _PrismC__width   vs.   __width, _height </pre>\n",
        "\n",
        "> <pre> _PrismC__depth,  _PrismC__height, _PrismC__width 는 class 에 은닉된 변수,\n",
        "         __width, _height 는 클래스의 인스턴스에 추가된 변수</pre>"
      ]
    },
    {
      "metadata": {
        "id": "v41SQwdSOxWL",
        "colab_type": "text"
      },
      "cell_type": "markdown",
      "source": [
        "시험 문제 나온다 ~.~"
      ]
    },
    {
      "metadata": {
        "id": "FBmP8ndW8mKQ",
        "colab_type": "text"
      },
      "cell_type": "markdown",
      "source": [
        "***"
      ]
    },
    {
      "metadata": {
        "id": "199Zaqhg8mKQ",
        "colab_type": "text"
      },
      "cell_type": "markdown",
      "source": [
        "# Chapter07-01\n",
        "## 클래스 상속과 고급 객체 지향 기능"
      ]
    },
    {
      "metadata": {
        "id": "1tzBSkeS8mKQ",
        "colab_type": "text"
      },
      "cell_type": "markdown",
      "source": [
        "## 클래스를 상속한다"
      ]
    },
    {
      "metadata": {
        "id": "JMOcCtUC8mKS",
        "colab_type": "code",
        "colab": {}
      },
      "cell_type": "code",
      "source": [
        "# Prism 클래스를 다시 정의\n",
        "class Prism:\n",
        "    def __init__(self, width, height, depth):\n",
        "        # 초기화 메소드를 정의\n",
        "        self.width = width    # 인수를 속성에 할당\n",
        "        self.height = height\n",
        "        self.depth = depth\n",
        "\n",
        "    def content(self):\n",
        "        # 부피를 계산\n",
        "        return self.width*self.height*self.depth"
      ],
      "execution_count": 0,
      "outputs": []
    },
    {
      "metadata": {
        "id": "vaXw-S6K8mKU",
        "colab_type": "code",
        "colab": {}
      },
      "cell_type": "code",
      "source": [
        "# Prism은 가로, 세로, 높이가 있음\n",
        "# Cube 클래스의 정의\n",
        "# Cube는 Prism 클래스를 상속받음\n",
        "\n",
        "# 슈퍼클래스 Prism을 상속한 Cube 클래스를 정의\n",
        "\n",
        "# Cube는 가로, 세로, 높이가 같은 정n면체\n",
        "\n",
        "class Cube(Prism):    # Prism 클래스를 상속함\n",
        "    def __init__(self, length):    # __init__() 메소드를 오버라이드\n",
        "        # 초기화 메쏘드를 오버라이드(override)\n",
        "        self.width = self.height = self.depth = length    # 속성을 length로 초기화"
      ],
      "execution_count": 0,
      "outputs": []
    },
    {
      "metadata": {
        "id": "kXdwLY3u8mKU",
        "colab_type": "code",
        "colab": {
          "base_uri": "https://localhost:8080/",
          "height": 35
        },
        "outputId": "bf7cb333-81a9-4d38-ac3a-0aba4ba5c579"
      },
      "cell_type": "code",
      "source": [
        "# Cube 클래스를 사용한다\n",
        "c = Cube(20)     # length로 ‘20’을 넘김\n",
        "c.content()      # Prism 클래스의 메소드를 호출함\n",
        "\n",
        "# Cube는 매개변수가 length 하나밖에 없지만 상속을 받았기 때문에 값이 호출됨"
      ],
      "execution_count": 90,
      "outputs": [
        {
          "output_type": "execute_result",
          "data": {
            "text/plain": [
              "8000"
            ]
          },
          "metadata": {
            "tags": []
          },
          "execution_count": 90
        }
      ]
    },
    {
      "metadata": {
        "id": "ZruyOhoQP80q",
        "colab_type": "text"
      },
      "cell_type": "markdown",
      "source": [
        "이제 점점 어려운 정의로 들어갑니다. ㅠ^ㅠ"
      ]
    },
    {
      "metadata": {
        "id": "WadvUZuI8mKX",
        "colab_type": "text"
      },
      "cell_type": "markdown",
      "source": [
        "### 초기화 메소드의 오버라이드(override, 재정의)"
      ]
    },
    {
      "metadata": {
        "id": "jTH-_11v8mKX",
        "colab_type": "code",
        "colab": {}
      },
      "cell_type": "code",
      "source": [
        "# Prism 클래스의 새로운 정의\n",
        "# 초기화 메소드에 인수(단위)를 추가하여 Prism 클래스를 재정의\n",
        "class Prism:\n",
        "    def __init__(self, width, height, depth, unit=\"cm\"):    # 인수를 추가\n",
        "        self.width = width\n",
        "        self.height = height\n",
        "        self.depth = depth\n",
        "        self.unit = unit             # 속성을 추가\n",
        "        print(\"Unit: \", unit)\n",
        "\n",
        "    def content(self):\n",
        "        # 부피 계산\n",
        "        return self.width*self.height*self.depth        \n",
        "\n",
        "    def unit_content(self):         # 메쏘드를 추가\n",
        "        # 체적을 구하고, 단위를 연결하여 문자열을 반환\n",
        "        return str(self.content())+ \" \" +3*self.unit  # 계산 결과에 단위를 더함\n",
        "      # unit는 cm"
      ],
      "execution_count": 0,
      "outputs": []
    },
    {
      "metadata": {
        "id": "oGX--XI58mKZ",
        "colab_type": "code",
        "colab": {
          "base_uri": "https://localhost:8080/",
          "height": 53
        },
        "outputId": "414ed08d-7863-4932-e333-e7f03789fc6e"
      },
      "cell_type": "code",
      "source": [
        "Prism(10,20,30)"
      ],
      "execution_count": 92,
      "outputs": [
        {
          "output_type": "stream",
          "text": [
            "Unit:  cm\n"
          ],
          "name": "stdout"
        },
        {
          "output_type": "execute_result",
          "data": {
            "text/plain": [
              "<__main__.Prism at 0x7fa6b8d64d68>"
            ]
          },
          "metadata": {
            "tags": []
          },
          "execution_count": 92
        }
      ]
    },
    {
      "metadata": {
        "id": "oS0CHdcQ8mKa",
        "colab_type": "code",
        "colab": {
          "base_uri": "https://localhost:8080/",
          "height": 53
        },
        "outputId": "d2490822-6ec3-42c9-e418-5dd4194fff25"
      },
      "cell_type": "code",
      "source": [
        "Prism(10,20,30).content()"
      ],
      "execution_count": 93,
      "outputs": [
        {
          "output_type": "stream",
          "text": [
            "Unit:  cm\n"
          ],
          "name": "stdout"
        },
        {
          "output_type": "execute_result",
          "data": {
            "text/plain": [
              "6000"
            ]
          },
          "metadata": {
            "tags": []
          },
          "execution_count": 93
        }
      ]
    },
    {
      "metadata": {
        "id": "ZVBYVSKx8mKb",
        "colab_type": "code",
        "colab": {
          "base_uri": "https://localhost:8080/",
          "height": 53
        },
        "outputId": "6c4601a0-f677-4cdb-b97a-41520ea58b56"
      },
      "cell_type": "code",
      "source": [
        "Prism(10,20,30).unit_content()\n",
        "# 단위도 붙여서 나오는데 cm가 3번 곱해진 것이 출력됨"
      ],
      "execution_count": 95,
      "outputs": [
        {
          "output_type": "stream",
          "text": [
            "Unit:  cm\n"
          ],
          "name": "stdout"
        },
        {
          "output_type": "execute_result",
          "data": {
            "text/plain": [
              "'6000 cmcmcm'"
            ]
          },
          "metadata": {
            "tags": []
          },
          "execution_count": 95
        }
      ]
    },
    {
      "metadata": {
        "id": "arlIfSid8mKd",
        "colab_type": "code",
        "colab": {}
      },
      "cell_type": "code",
      "source": [
        "# Prism을 상속한 Cube 클래스를 정의하고 초기화 메소드 __init__() 를 재정의\n",
        "class Cube(Prism):\n",
        "    def __init__(self, length):\n",
        "        # 초기화 메소드를 오버라이드(override)\n",
        "        self.width = self.height = self.depth = length"
      ],
      "execution_count": 0,
      "outputs": []
    },
    {
      "metadata": {
        "id": "4gcRBVFf8mKg",
        "colab_type": "code",
        "colab": {
          "base_uri": "https://localhost:8080/",
          "height": 35
        },
        "outputId": "2764db79-3f5a-4b82-c204-0ba17387b4fe"
      },
      "cell_type": "code",
      "source": [
        "Cube(10)\n",
        "# 1000이 출력되어야 하는데 출력 명령어가 없기 때문에 출력 안 됨 "
      ],
      "execution_count": 99,
      "outputs": [
        {
          "output_type": "execute_result",
          "data": {
            "text/plain": [
              "<__main__.Cube at 0x7fa6b8cf5d30>"
            ]
          },
          "metadata": {
            "tags": []
          },
          "execution_count": 99
        }
      ]
    },
    {
      "metadata": {
        "scrolled": true,
        "id": "T7Hu3KW18mKj",
        "colab_type": "code",
        "colab": {
          "base_uri": "https://localhost:8080/",
          "height": 35
        },
        "outputId": "77d00c61-2564-4d7f-9a1d-3ec58d02bd3b"
      },
      "cell_type": "code",
      "source": [
        "# 추가한 속성을 호출한다\n",
        "# Prism 클래스를 상속한 Cube 클래스에 추가한 메쏘드를 호출\n",
        "c = Cube(10)\n",
        "c"
      ],
      "execution_count": 100,
      "outputs": [
        {
          "output_type": "execute_result",
          "data": {
            "text/plain": [
              "<__main__.Cube at 0x7fa6b8cf5b70>"
            ]
          },
          "metadata": {
            "tags": []
          },
          "execution_count": 100
        }
      ]
    },
    {
      "metadata": {
        "id": "QNRGpRYz8mKk",
        "colab_type": "code",
        "colab": {
          "base_uri": "https://localhost:8080/",
          "height": 35
        },
        "outputId": "1bee4e8c-36cd-45ad-f390-3c39bf5333f9"
      },
      "cell_type": "code",
      "source": [
        "# 출력\n",
        "c.content()"
      ],
      "execution_count": 103,
      "outputs": [
        {
          "output_type": "execute_result",
          "data": {
            "text/plain": [
              "1000"
            ]
          },
          "metadata": {
            "tags": []
          },
          "execution_count": 103
        }
      ]
    },
    {
      "metadata": {
        "scrolled": true,
        "id": "-B4VAmLy8mKl",
        "colab_type": "code",
        "colab": {
          "base_uri": "https://localhost:8080/",
          "height": 298
        },
        "outputId": "ae44c0ba-8f04-4eaf-d314-b305ddd1f0ea"
      },
      "cell_type": "code",
      "source": [
        "c.unit_content()\n",
        "# Cube 객체에 c를 만들었지, unit라는 함수가 현재의 Cube 객체에 없다"
      ],
      "execution_count": 104,
      "outputs": [
        {
          "output_type": "error",
          "ename": "AttributeError",
          "evalue": "ignored",
          "traceback": [
            "\u001b[0;31m---------------------------------------------------------------------------\u001b[0m",
            "\u001b[0;31mAttributeError\u001b[0m                            Traceback (most recent call last)",
            "\u001b[0;32m<ipython-input-104-307659def8ef>\u001b[0m in \u001b[0;36m<module>\u001b[0;34m()\u001b[0m\n\u001b[0;32m----> 1\u001b[0;31m \u001b[0mc\u001b[0m\u001b[0;34m.\u001b[0m\u001b[0munit_content\u001b[0m\u001b[0;34m(\u001b[0m\u001b[0;34m)\u001b[0m\u001b[0;34m\u001b[0m\u001b[0m\n\u001b[0m\u001b[1;32m      2\u001b[0m \u001b[0;31m# Cube 객체에 c를 만들었지, unit라는 함수가 현재의 Cube 객체에 없다\u001b[0m\u001b[0;34m\u001b[0m\u001b[0;34m\u001b[0m\u001b[0m\n",
            "\u001b[0;32m<ipython-input-91-673f01dfd38b>\u001b[0m in \u001b[0;36munit_content\u001b[0;34m(self)\u001b[0m\n\u001b[1;32m     13\u001b[0m     \u001b[0;32mdef\u001b[0m \u001b[0munit_content\u001b[0m\u001b[0;34m(\u001b[0m\u001b[0mself\u001b[0m\u001b[0;34m)\u001b[0m\u001b[0;34m:\u001b[0m         \u001b[0;31m# 메쏘드를 추가\u001b[0m\u001b[0;34m\u001b[0m\u001b[0m\n\u001b[1;32m     14\u001b[0m         \u001b[0;31m# 체적을 구하고, 단위를 연결하여 문자열을 반환\u001b[0m\u001b[0;34m\u001b[0m\u001b[0;34m\u001b[0m\u001b[0m\n\u001b[0;32m---> 15\u001b[0;31m         \u001b[0;32mreturn\u001b[0m \u001b[0mstr\u001b[0m\u001b[0;34m(\u001b[0m\u001b[0mself\u001b[0m\u001b[0;34m.\u001b[0m\u001b[0mcontent\u001b[0m\u001b[0;34m(\u001b[0m\u001b[0;34m)\u001b[0m\u001b[0;34m)\u001b[0m\u001b[0;34m+\u001b[0m \u001b[0;34m\" \"\u001b[0m \u001b[0;34m+\u001b[0m\u001b[0;36m3\u001b[0m\u001b[0;34m*\u001b[0m\u001b[0mself\u001b[0m\u001b[0;34m.\u001b[0m\u001b[0munit\u001b[0m  \u001b[0;31m# 계산 결과에 단위를 더함\u001b[0m\u001b[0;34m\u001b[0m\u001b[0m\n\u001b[0m\u001b[1;32m     16\u001b[0m       \u001b[0;31m# unit는 cm\u001b[0m\u001b[0;34m\u001b[0m\u001b[0;34m\u001b[0m\u001b[0m\n",
            "\u001b[0;31mAttributeError\u001b[0m: 'Cube' object has no attribute 'unit'"
          ]
        }
      ]
    },
    {
      "metadata": {
        "id": "k84s3-ZD8mKm",
        "colab_type": "text"
      },
      "cell_type": "markdown",
      "source": [
        "### Solution to the above error (위 문제를 해결하기 위하여)"
      ]
    },
    {
      "metadata": {
        "id": "h2Lu_fde8mKm",
        "colab_type": "text"
      },
      "cell_type": "markdown",
      "source": [
        "### super( )를 사용한 슈퍼클래스의 취득"
      ]
    },
    {
      "metadata": {
        "id": "WqTYi8Nb8mKm",
        "colab_type": "code",
        "colab": {}
      },
      "cell_type": "code",
      "source": [
        "# Cube 클래스에서 super()함수를 사용한다.\n",
        "# 부모클래스를 가리킬 때 사용하는 것이 super\n",
        "# super()를 사용하여 Cube 클래스를 재정의\n",
        "class Cube(Prism):\n",
        "    def __init__(self, length):\n",
        "        super().__init__(length, length, length) # Cube는 세 모서리 길이가 동일. unit는 default로 지정됨."
      ],
      "execution_count": 0,
      "outputs": []
    },
    {
      "metadata": {
        "id": "as1XAKfp8mKo",
        "colab_type": "code",
        "colab": {
          "base_uri": "https://localhost:8080/",
          "height": 53
        },
        "outputId": "5b44e8fe-d491-4875-8ba1-f5378284942b"
      },
      "cell_type": "code",
      "source": [
        "# 추가한 속성을 호출한다\n",
        "c2 = Cube(20)\n",
        "c2.unit_content()"
      ],
      "execution_count": 107,
      "outputs": [
        {
          "output_type": "stream",
          "text": [
            "Unit:  cm\n"
          ],
          "name": "stdout"
        },
        {
          "output_type": "execute_result",
          "data": {
            "text/plain": [
              "'8000 cmcmcm'"
            ]
          },
          "metadata": {
            "tags": []
          },
          "execution_count": 107
        }
      ]
    },
    {
      "metadata": {
        "id": "UF10tOhBRrF8",
        "colab_type": "text"
      },
      "cell_type": "markdown",
      "source": [
        "이 개념을 명확하게 하기 위해서 과제가 나감 0_0"
      ]
    },
    {
      "metadata": {
        "id": "GAjx99Wv8mKq",
        "colab_type": "text"
      },
      "cell_type": "markdown",
      "source": [
        "***"
      ]
    },
    {
      "metadata": {
        "id": "xSB6LgHb8mKq",
        "colab_type": "text"
      },
      "cell_type": "markdown",
      "source": [
        "### 슬롯(Slot)"
      ]
    },
    {
      "metadata": {
        "id": "Ii5405Ty8mKq",
        "colab_type": "code",
        "colab": {
          "base_uri": "https://localhost:8080/",
          "height": 35
        },
        "outputId": "510b71ab-fdea-4a28-8cef-5f0417e840ef"
      },
      "cell_type": "code",
      "source": [
        "# 슬롯에 의한 속성 제한\n",
        "# 슬롯을 가지는 클래스를 정의한다\n",
        "class Klass:                # 클래스를 정의\n",
        "    __slots__ = ['a', 'b']  # 속성을 제한, a와 b만 사용하겠다\n",
        "    def __init__(self):\n",
        "        self.a = 1          # a라는 속성을 작성\n",
        "\n",
        "i = Klass()      # 인스턴스를 만듦\n",
        "i.a              # a라는 속성을 확인"
      ],
      "execution_count": 114,
      "outputs": [
        {
          "output_type": "execute_result",
          "data": {
            "text/plain": [
              "1"
            ]
          },
          "metadata": {
            "tags": []
          },
          "execution_count": 114
        }
      ]
    },
    {
      "metadata": {
        "id": "RYUv_HOjR_iD",
        "colab_type": "code",
        "colab": {
          "base_uri": "https://localhost:8080/",
          "height": 172
        },
        "outputId": "921eb4c1-6924-4523-e5ea-5c3d014aa1ba"
      },
      "cell_type": "code",
      "source": [
        "i.b"
      ],
      "execution_count": 115,
      "outputs": [
        {
          "output_type": "error",
          "ename": "AttributeError",
          "evalue": "ignored",
          "traceback": [
            "\u001b[0;31m---------------------------------------------------------------------------\u001b[0m",
            "\u001b[0;31mAttributeError\u001b[0m                            Traceback (most recent call last)",
            "\u001b[0;32m<ipython-input-115-1fbc99b3f1c8>\u001b[0m in \u001b[0;36m<module>\u001b[0;34m()\u001b[0m\n\u001b[0;32m----> 1\u001b[0;31m \u001b[0mi\u001b[0m\u001b[0;34m.\u001b[0m\u001b[0mb\u001b[0m\u001b[0;34m\u001b[0m\u001b[0m\n\u001b[0m",
            "\u001b[0;31mAttributeError\u001b[0m: b"
          ]
        }
      ]
    },
    {
      "metadata": {
        "id": "a-5wd2_O8mKs",
        "colab_type": "code",
        "colab": {
          "base_uri": "https://localhost:8080/",
          "height": 35
        },
        "outputId": "71dc8a90-fb39-49c9-9c87-2ae85d870c7b"
      },
      "cell_type": "code",
      "source": [
        "i.b = 2          # b라는 속성을 추가\n",
        "i.b              # b라는 속성을 확인"
      ],
      "execution_count": 116,
      "outputs": [
        {
          "output_type": "execute_result",
          "data": {
            "text/plain": [
              "2"
            ]
          },
          "metadata": {
            "tags": []
          },
          "execution_count": 116
        }
      ]
    },
    {
      "metadata": {
        "id": "_dhYU6ma8mKt",
        "colab_type": "code",
        "colab": {
          "base_uri": "https://localhost:8080/",
          "height": 190
        },
        "outputId": "a58ebeec-f0ac-4cb4-a771-6e3d6c1c585d"
      },
      "cell_type": "code",
      "source": [
        "i.c = 3          # c라는 속성은 추가할 수 없음\n",
        "# 슬롯이 지정됐기 때문에 새로운 속성을 추가할 수 없다."
      ],
      "execution_count": 118,
      "outputs": [
        {
          "output_type": "error",
          "ename": "AttributeError",
          "evalue": "ignored",
          "traceback": [
            "\u001b[0;31m---------------------------------------------------------------------------\u001b[0m",
            "\u001b[0;31mAttributeError\u001b[0m                            Traceback (most recent call last)",
            "\u001b[0;32m<ipython-input-118-c4ee4d0c09df>\u001b[0m in \u001b[0;36m<module>\u001b[0;34m()\u001b[0m\n\u001b[0;32m----> 1\u001b[0;31m \u001b[0mi\u001b[0m\u001b[0;34m.\u001b[0m\u001b[0mc\u001b[0m \u001b[0;34m=\u001b[0m \u001b[0;36m3\u001b[0m          \u001b[0;31m# c라는 속성은 추가할 수 없음\u001b[0m\u001b[0;34m\u001b[0m\u001b[0m\n\u001b[0m\u001b[1;32m      2\u001b[0m \u001b[0;31m# 슬롯이 지정됐기 때문에 새로운 속성을 추가할 수 없다.\u001b[0m\u001b[0;34m\u001b[0m\u001b[0;34m\u001b[0m\u001b[0m\n",
            "\u001b[0;31mAttributeError\u001b[0m: 'Klass' object has no attribute 'c'"
          ]
        }
      ]
    },
    {
      "metadata": {
        "id": "-gk8nHST8mKu",
        "colab_type": "code",
        "colab": {
          "base_uri": "https://localhost:8080/",
          "height": 503
        },
        "outputId": "0d28d690-81f5-44fb-9483-d92f47698190"
      },
      "cell_type": "code",
      "source": [
        "dir(i)\n",
        "# a, b만 추가된 것 확인"
      ],
      "execution_count": 120,
      "outputs": [
        {
          "output_type": "execute_result",
          "data": {
            "text/plain": [
              "['__class__',\n",
              " '__delattr__',\n",
              " '__dir__',\n",
              " '__doc__',\n",
              " '__eq__',\n",
              " '__format__',\n",
              " '__ge__',\n",
              " '__getattribute__',\n",
              " '__gt__',\n",
              " '__hash__',\n",
              " '__init__',\n",
              " '__init_subclass__',\n",
              " '__le__',\n",
              " '__lt__',\n",
              " '__module__',\n",
              " '__ne__',\n",
              " '__new__',\n",
              " '__reduce__',\n",
              " '__reduce_ex__',\n",
              " '__repr__',\n",
              " '__setattr__',\n",
              " '__sizeof__',\n",
              " '__slots__',\n",
              " '__str__',\n",
              " '__subclasshook__',\n",
              " 'a',\n",
              " 'b']"
            ]
          },
          "metadata": {
            "tags": []
          },
          "execution_count": 120
        }
      ]
    },
    {
      "metadata": {
        "id": "VbPKcKUm8mKw",
        "colab_type": "text"
      },
      "cell_type": "markdown",
      "source": [
        "### 프로퍼티(property)"
      ]
    },
    {
      "metadata": {
        "id": "cJhwiVis8mKx",
        "colab_type": "code",
        "colab": {}
      },
      "cell_type": "code",
      "source": [
        "# 프로퍼티의 정의\n",
        "# 변수의 다른 이름이 프로퍼티\n",
        "# 프로퍼티를 정의하는 클래스를 정의한다\n",
        "class Prop:\n",
        "    def __init__(self):\n",
        "        self.__x = 0    # 속성을 만듦\n",
        "\n",
        "    def getx(self):     # 게터\n",
        "        return self.__x # 속성을 돌려줌\n",
        "\n",
        "    def setx(self, x):  # 세터\n",
        "        self.__x = x    # 속성으로 값을 넣음\n",
        "    \n",
        "    x = property(getx, setx) # 프로퍼티를 설정함\n",
        "    "
      ],
      "execution_count": 0,
      "outputs": []
    },
    {
      "metadata": {
        "id": "lG3rii2z8mKx",
        "colab_type": "code",
        "colab": {
          "base_uri": "https://localhost:8080/",
          "height": 35
        },
        "outputId": "23d6921b-93d5-43dc-c0b8-83afd8e8a78a"
      },
      "cell_type": "code",
      "source": [
        "# 프로퍼티를 사용한다\n",
        "i = Prop()     # 인스턴스를 만듦\n",
        "i.x            # 속성을 참조\n",
        "# 프로퍼티를 통해서 __x가 getx로... 그래서 x만으로도 출력이 됨"
      ],
      "execution_count": 125,
      "outputs": [
        {
          "output_type": "execute_result",
          "data": {
            "text/plain": [
              "0"
            ]
          },
          "metadata": {
            "tags": []
          },
          "execution_count": 125
        }
      ]
    },
    {
      "metadata": {
        "id": "xzm28CLV8mKz",
        "colab_type": "code",
        "colab": {
          "base_uri": "https://localhost:8080/",
          "height": 35
        },
        "outputId": "95b94349-26e3-4083-e038-edc354777cb7"
      },
      "cell_type": "code",
      "source": [
        "i.x = 10       # x에 대입\n",
        "i.x            # 속성 x를 참조"
      ],
      "execution_count": 126,
      "outputs": [
        {
          "output_type": "execute_result",
          "data": {
            "text/plain": [
              "10"
            ]
          },
          "metadata": {
            "tags": []
          },
          "execution_count": 126
        }
      ]
    },
    {
      "metadata": {
        "id": "OBVh3-nl8mK0",
        "colab_type": "code",
        "colab": {
          "base_uri": "https://localhost:8080/",
          "height": 35
        },
        "outputId": "0eceefda-477c-4312-ef02-96a826544f5e"
      },
      "cell_type": "code",
      "source": [
        "i._Prop__x     # __x에 억지로 접근"
      ],
      "execution_count": 127,
      "outputs": [
        {
          "output_type": "execute_result",
          "data": {
            "text/plain": [
              "10"
            ]
          },
          "metadata": {
            "tags": []
          },
          "execution_count": 127
        }
      ]
    },
    {
      "metadata": {
        "id": "EPxJKIYa8mK1",
        "colab_type": "code",
        "colab": {
          "base_uri": "https://localhost:8080/",
          "height": 557
        },
        "outputId": "aca8d05f-295b-4e9b-c5bd-11cde6604023"
      },
      "cell_type": "code",
      "source": [
        "dir(i)\n",
        "# get, set이 있지요"
      ],
      "execution_count": 133,
      "outputs": [
        {
          "output_type": "execute_result",
          "data": {
            "text/plain": [
              "['_Prop__x',\n",
              " '__class__',\n",
              " '__delattr__',\n",
              " '__dict__',\n",
              " '__dir__',\n",
              " '__doc__',\n",
              " '__eq__',\n",
              " '__format__',\n",
              " '__ge__',\n",
              " '__getattribute__',\n",
              " '__gt__',\n",
              " '__hash__',\n",
              " '__init__',\n",
              " '__init_subclass__',\n",
              " '__le__',\n",
              " '__lt__',\n",
              " '__module__',\n",
              " '__ne__',\n",
              " '__new__',\n",
              " '__reduce__',\n",
              " '__reduce_ex__',\n",
              " '__repr__',\n",
              " '__setattr__',\n",
              " '__sizeof__',\n",
              " '__str__',\n",
              " '__subclasshook__',\n",
              " '__weakref__',\n",
              " 'getx',\n",
              " 'setx',\n",
              " 'x']"
            ]
          },
          "metadata": {
            "tags": []
          },
          "execution_count": 133
        }
      ]
    },
    {
      "metadata": {
        "id": "qX0dMZ3c8mK4",
        "colab_type": "code",
        "colab": {
          "base_uri": "https://localhost:8080/",
          "height": 35
        },
        "outputId": "59eccdfa-4c23-461d-fa53-4bce5d46ba21"
      },
      "cell_type": "code",
      "source": [
        "i.getx()"
      ],
      "execution_count": 134,
      "outputs": [
        {
          "output_type": "execute_result",
          "data": {
            "text/plain": [
              "100"
            ]
          },
          "metadata": {
            "tags": []
          },
          "execution_count": 134
        }
      ]
    },
    {
      "metadata": {
        "id": "3GfaToTA8mK5",
        "colab_type": "code",
        "colab": {
          "base_uri": "https://localhost:8080/",
          "height": 35
        },
        "outputId": "4bd87484-9668-4c5d-c51b-f35e10bcb89b"
      },
      "cell_type": "code",
      "source": [
        "i.setx(100)\n",
        "i.x"
      ],
      "execution_count": 135,
      "outputs": [
        {
          "output_type": "execute_result",
          "data": {
            "text/plain": [
              "100"
            ]
          },
          "metadata": {
            "tags": []
          },
          "execution_count": 135
        }
      ]
    },
    {
      "metadata": {
        "id": "FBXBdd9U8mK7",
        "colab_type": "text"
      },
      "cell_type": "markdown",
      "source": [
        "### 더미 데코레이터를 사용하면 보다 간편하게 속성을 정의 할 수 있다"
      ]
    },
    {
      "metadata": {
        "id": "MF_u7Xg3S-Ez",
        "colab_type": "text"
      },
      "cell_type": "markdown",
      "source": [
        "위에서 정의한 프로퍼티 함수를 좀 더 우아하게 만들기"
      ]
    },
    {
      "metadata": {
        "id": "OPpMjuwg8mK7",
        "colab_type": "code",
        "colab": {}
      },
      "cell_type": "code",
      "source": [
        "# 데코레이터를 사용하여 프로퍼티를 정의하는 클래스를 정의\n",
        "\n",
        "class DecoProp:\n",
        "    def __init__(self):\n",
        "        self.__x = 0\n",
        "\n",
        "    @property\n",
        "    def x(self):\n",
        "        # x = property(x.getter(x), x.setter(x)) \n",
        "        return None\n",
        "    \n",
        "    # getter 정의\n",
        "    @x.getter\n",
        "    def x(self):\n",
        "        print('this is getter, value is', self.__x)\n",
        "        return(self.__x)\n",
        "\n",
        "    # setter 정의\n",
        "    @x.setter\n",
        "    def x(self, value):\n",
        "        print('this is setter, value is', value)\n",
        "        self.__x = value\n"
      ],
      "execution_count": 0,
      "outputs": []
    },
    {
      "metadata": {
        "id": "5K6G6Ryt8mK8",
        "colab_type": "code",
        "colab": {
          "base_uri": "https://localhost:8080/",
          "height": 53
        },
        "outputId": "a5617b85-5435-4ff8-e8f4-b6a2ca036013"
      },
      "cell_type": "code",
      "source": [
        "dp = DecoProp()   # 데코레이터를 사용한 속성을 가진 인스턴스를 생성\n",
        "dp.x             # __init __ ()에 정의된 초기값을 표시, getter가 호출됨"
      ],
      "execution_count": 137,
      "outputs": [
        {
          "output_type": "stream",
          "text": [
            "this is getter, value is 0\n"
          ],
          "name": "stdout"
        },
        {
          "output_type": "execute_result",
          "data": {
            "text/plain": [
              "0"
            ]
          },
          "metadata": {
            "tags": []
          },
          "execution_count": 137
        }
      ]
    },
    {
      "metadata": {
        "id": "lpdHp3s68mK-",
        "colab_type": "code",
        "colab": {
          "base_uri": "https://localhost:8080/",
          "height": 35
        },
        "outputId": "4dfd7843-bd3a-4d9f-a7b2-350af8e21369"
      },
      "cell_type": "code",
      "source": [
        "dp.x = 1          # setter를 호출하여 값을 변경\n",
        "# 0->1\n",
        "# setter 함수가 돌았죠"
      ],
      "execution_count": 142,
      "outputs": [
        {
          "output_type": "stream",
          "text": [
            "this is setter, value is 1\n"
          ],
          "name": "stdout"
        }
      ]
    },
    {
      "metadata": {
        "id": "3ngatzp_8mLA",
        "colab_type": "code",
        "colab": {
          "base_uri": "https://localhost:8080/",
          "height": 53
        },
        "outputId": "dbfb7662-5777-4039-85dd-399459844352"
      },
      "cell_type": "code",
      "source": [
        "dp.x              # 값이 변경되어 있는지 확인\n",
        "# x의 값을 가져오므로 getter 함수가 돌아요"
      ],
      "execution_count": 143,
      "outputs": [
        {
          "output_type": "stream",
          "text": [
            "this is getter, value is 1\n"
          ],
          "name": "stdout"
        },
        {
          "output_type": "execute_result",
          "data": {
            "text/plain": [
              "1"
            ]
          },
          "metadata": {
            "tags": []
          },
          "execution_count": 143
        }
      ]
    },
    {
      "metadata": {
        "id": "qYYFYMOp8mLB",
        "colab_type": "code",
        "colab": {}
      },
      "cell_type": "code",
      "source": [
        ""
      ],
      "execution_count": 0,
      "outputs": []
    },
    {
      "metadata": {
        "id": "T71NXIa58mLB",
        "colab_type": "text"
      },
      "cell_type": "markdown",
      "source": [
        "# Chapter 07-03\n",
        "## 내장형을 상속하다"
      ]
    },
    {
      "metadata": {
        "id": "pcu2fsj08mLC",
        "colab_type": "text"
      },
      "cell_type": "markdown",
      "source": [
        "## 딕셔너리형을 상속한다"
      ]
    },
    {
      "metadata": {
        "id": "QGNo6czI8mLC",
        "colab_type": "code",
        "colab": {}
      },
      "cell_type": "code",
      "source": [
        "class StrDict(dict): # dict는 대문자로 정의되어 있지 않음, 딕셔너리 클래스를 상속받아 StrDic을 만들었어\n",
        "    \"\"\" 딕셔너리형을 상속해서 클래스를 만든다\n",
        "    \"\"\"\n",
        "    def __init__(self):\n",
        "        pass\n",
        "\n",
        "    def __setitem__(self, key, value):\n",
        "        \"\"\" 특수 메소드를 재정의(오버라이드)\n",
        "            key가 문자열이 아니면 예외를 발생\n",
        "        \"\"\"\n",
        "        if not isinstance(key, str):\n",
        "            # 키가 문자열이 아닌 경우에는 예외를 발생\n",
        "            raise ValueError(\"Key must be string.\")\n",
        "            # 슈퍼클래스의 특수 메소드를 호출해서 키와 값을 설정\n",
        "        dict.__setitem__(self, key, value)"
      ],
      "execution_count": 0,
      "outputs": []
    },
    {
      "metadata": {
        "id": "ZGb9m7SK8mLE",
        "colab_type": "text"
      },
      "cell_type": "markdown",
      "source": [
        "> 딕셔너리형(dict)을 상속했으므로 딕셔너리의 모든 속성과 메소드가 사용 가능하다."
      ]
    },
    {
      "metadata": {
        "id": "a0Byuojc8mLE",
        "colab_type": "code",
        "colab": {
          "base_uri": "https://localhost:8080/",
          "height": 35
        },
        "outputId": "c433005a-efbd-4c39-cd2f-5f00bb22c98b"
      },
      "cell_type": "code",
      "source": [
        "# 딕셔너리형을 상속한 클래스를 사용한다\n",
        "d = StrDict()   # 인스턴스를 작성\n",
        "d[\"spam\"] = 1   # 딕셔너리와 같이 키를 사용해서 요소를 추가\n",
        "d[\"spam\"]       # 추가된 요소 확인"
      ],
      "execution_count": 147,
      "outputs": [
        {
          "output_type": "execute_result",
          "data": {
            "text/plain": [
              "1"
            ]
          },
          "metadata": {
            "tags": []
          },
          "execution_count": 147
        }
      ]
    },
    {
      "metadata": {
        "id": "8jaFOimz8mLE",
        "colab_type": "code",
        "colab": {
          "base_uri": "https://localhost:8080/",
          "height": 316
        },
        "outputId": "af4bdb5f-8054-4a2a-c472-c63b8517abee"
      },
      "cell_type": "code",
      "source": [
        "d[1] = 1        # 수치 키로 요소를 추가하면 오류\n",
        "                # 키값은 반드시 문자열로"
      ],
      "execution_count": 152,
      "outputs": [
        {
          "output_type": "error",
          "ename": "ValueError",
          "evalue": "ignored",
          "traceback": [
            "\u001b[0;31m---------------------------------------------------------------------------\u001b[0m",
            "\u001b[0;31mValueError\u001b[0m                                Traceback (most recent call last)",
            "\u001b[0;32m<ipython-input-152-c3e89483e769>\u001b[0m in \u001b[0;36m<module>\u001b[0;34m()\u001b[0m\n\u001b[0;32m----> 1\u001b[0;31m \u001b[0md\u001b[0m\u001b[0;34m[\u001b[0m\u001b[0;36m1\u001b[0m\u001b[0;34m]\u001b[0m \u001b[0;34m=\u001b[0m \u001b[0;36m1\u001b[0m        \u001b[0;31m# 수치 키로 요소를 추가하면 오류\u001b[0m\u001b[0;34m\u001b[0m\u001b[0m\n\u001b[0m\u001b[1;32m      2\u001b[0m                 \u001b[0;31m# 키값은 반드시 문자열로\u001b[0m\u001b[0;34m\u001b[0m\u001b[0;34m\u001b[0m\u001b[0m\n",
            "\u001b[0;32m<ipython-input-146-c8cb85006217>\u001b[0m in \u001b[0;36m__setitem__\u001b[0;34m(self, key, value)\u001b[0m\n\u001b[1;32m     11\u001b[0m         \u001b[0;32mif\u001b[0m \u001b[0;32mnot\u001b[0m \u001b[0misinstance\u001b[0m\u001b[0;34m(\u001b[0m\u001b[0mkey\u001b[0m\u001b[0;34m,\u001b[0m \u001b[0mstr\u001b[0m\u001b[0;34m)\u001b[0m\u001b[0;34m:\u001b[0m\u001b[0;34m\u001b[0m\u001b[0m\n\u001b[1;32m     12\u001b[0m             \u001b[0;31m# 키가 문자열이 아닌 경우에는 예외를 발생\u001b[0m\u001b[0;34m\u001b[0m\u001b[0;34m\u001b[0m\u001b[0m\n\u001b[0;32m---> 13\u001b[0;31m             \u001b[0;32mraise\u001b[0m \u001b[0mValueError\u001b[0m\u001b[0;34m(\u001b[0m\u001b[0;34m\"Key must be string.\"\u001b[0m\u001b[0;34m)\u001b[0m\u001b[0;34m\u001b[0m\u001b[0m\n\u001b[0m\u001b[1;32m     14\u001b[0m             \u001b[0;31m# 슈퍼클래스의 특수 메소드를 호출해서 키와 값을 설정\u001b[0m\u001b[0;34m\u001b[0m\u001b[0;34m\u001b[0m\u001b[0m\n\u001b[1;32m     15\u001b[0m         \u001b[0mdict\u001b[0m\u001b[0;34m.\u001b[0m\u001b[0m__setitem__\u001b[0m\u001b[0;34m(\u001b[0m\u001b[0mself\u001b[0m\u001b[0;34m,\u001b[0m \u001b[0mkey\u001b[0m\u001b[0;34m,\u001b[0m \u001b[0mvalue\u001b[0m\u001b[0;34m)\u001b[0m\u001b[0;34m\u001b[0m\u001b[0m\n",
            "\u001b[0;31mValueError\u001b[0m: Key must be string."
          ]
        }
      ]
    },
    {
      "metadata": {
        "id": "FgYtZUzy8mLF",
        "colab_type": "code",
        "colab": {}
      },
      "cell_type": "code",
      "source": [
        "d.keys()       # 딕셔너리 메쏘드도 이용할 수 있음"
      ],
      "execution_count": 0,
      "outputs": []
    },
    {
      "metadata": {
        "id": "1Z9Xrw9F8mLH",
        "colab_type": "code",
        "colab": {
          "base_uri": "https://localhost:8080/",
          "height": 35
        },
        "outputId": "a561a9a2-995a-481c-f3b8-6d0308d3b09c"
      },
      "cell_type": "code",
      "source": [
        "d[\"normal\"]=30\n",
        "d[\"normal\"]"
      ],
      "execution_count": 153,
      "outputs": [
        {
          "output_type": "execute_result",
          "data": {
            "text/plain": [
              "30"
            ]
          },
          "metadata": {
            "tags": []
          },
          "execution_count": 153
        }
      ]
    },
    {
      "metadata": {
        "id": "CFDw_JKP8mLK",
        "colab_type": "code",
        "colab": {
          "base_uri": "https://localhost:8080/",
          "height": 35
        },
        "outputId": "36519497-481a-43fb-cc64-85285a4908c1"
      },
      "cell_type": "code",
      "source": [
        "d.keys()"
      ],
      "execution_count": 154,
      "outputs": [
        {
          "output_type": "execute_result",
          "data": {
            "text/plain": [
              "dict_keys(['spam', 'normal'])"
            ]
          },
          "metadata": {
            "tags": []
          },
          "execution_count": 154
        }
      ]
    },
    {
      "metadata": {
        "id": "cosQHQyt8mLM",
        "colab_type": "code",
        "colab": {
          "base_uri": "https://localhost:8080/",
          "height": 35
        },
        "outputId": "a6cf9c7e-177b-4cbf-dbd7-e333d325a546"
      },
      "cell_type": "code",
      "source": [
        "d.items()"
      ],
      "execution_count": 155,
      "outputs": [
        {
          "output_type": "execute_result",
          "data": {
            "text/plain": [
              "dict_items([('spam', 1), ('normal', 30)])"
            ]
          },
          "metadata": {
            "tags": []
          },
          "execution_count": 155
        }
      ]
    },
    {
      "metadata": {
        "id": "0qU5v9Zm8mLM",
        "colab_type": "text"
      },
      "cell_type": "markdown",
      "source": [
        "# Chapter08-01\n",
        "## 모듈 파일 만들기"
      ]
    },
    {
      "metadata": {
        "id": "3CLXmF1P8mLN",
        "colab_type": "text"
      },
      "cell_type": "markdown",
      "source": [
        "### 모듈을 import하는 과정"
      ]
    },
    {
      "metadata": {
        "id": "lQZuNDYK8mLN",
        "colab_type": "code",
        "colab": {}
      },
      "cell_type": "code",
      "source": [
        "# 모듈을 import해서 사용한다\n",
        "import testmodule    # testmodule 모듈을 임포트"
      ],
      "execution_count": 0,
      "outputs": []
    },
    {
      "metadata": {
        "id": "nBdE9ooD8mLO",
        "colab_type": "text"
      },
      "cell_type": "markdown",
      "source": [
        "<pre>\n",
        "# testmodule.py\n",
        "    \n",
        "import sys                # 표준 라이브러리를 임포트\n",
        "\n",
        "a = 1                     # 변수를 정의함\n",
        "b = \"some string\"\n",
        "\n",
        "def foo():                # 함수를 정의함\n",
        "    print(\"This is the function 'foo'\")\n",
        "\n",
        "print(\"this is the top level\") # 문자열을 표시함\n",
        "\n",
        "if __name__ == '__main__':\n",
        "    print(\"this is the code block\")\n",
        "\n",
        "</pre>"
      ]
    },
    {
      "metadata": {
        "id": "8z6egOMl8mLP",
        "colab_type": "code",
        "colab": {}
      },
      "cell_type": "code",
      "source": [
        "testmodule.a         # 변수를 표시함"
      ],
      "execution_count": 0,
      "outputs": []
    },
    {
      "metadata": {
        "id": "SwpYt5Vp8mLS",
        "colab_type": "code",
        "colab": {}
      },
      "cell_type": "code",
      "source": [
        "testmodule.b"
      ],
      "execution_count": 0,
      "outputs": []
    },
    {
      "metadata": {
        "id": "_5C_WHSi8mLU",
        "colab_type": "code",
        "colab": {}
      },
      "cell_type": "code",
      "source": [
        "testmodule.foo()     # 함수를 호출함"
      ],
      "execution_count": 0,
      "outputs": []
    },
    {
      "metadata": {
        "id": "G--7Sqa68mLV",
        "colab_type": "code",
        "colab": {}
      },
      "cell_type": "code",
      "source": [
        "testmodule.sys.argv  # 모듈 속에서 import한 모듈을 사용함"
      ],
      "execution_count": 0,
      "outputs": []
    },
    {
      "metadata": {
        "id": "uVZ2meHh8mLW",
        "colab_type": "text"
      },
      "cell_type": "markdown",
      "source": [
        "### 파일을 실행할 때만 실행하는 블록"
      ]
    },
    {
      "metadata": {
        "id": "wGIukHs28mLW",
        "colab_type": "code",
        "colab": {}
      },
      "cell_type": "code",
      "source": [
        "%run testmodule.py  # %run을 사용하여 모듈을 실행"
      ],
      "execution_count": 0,
      "outputs": []
    },
    {
      "metadata": {
        "id": "8UyUdgB58mLX",
        "colab_type": "text"
      },
      "cell_type": "markdown",
      "source": [
        "### 클래스와 모듈"
      ]
    },
    {
      "metadata": {
        "id": "7ncKFb2r8mLX",
        "colab_type": "code",
        "colab": {}
      },
      "cell_type": "code",
      "source": [
        "# bookmark 모듈을 임포트 함\n",
        "import bookmark     # bookmark 모듈을 임포트 함\n",
        "# Bookmark 클래스에서 인스턴스를 만듦\n",
        "b = bookmark.Bookmark(\"타이틀\", \"http://path.to/site\")"
      ],
      "execution_count": 0,
      "outputs": []
    },
    {
      "metadata": {
        "id": "Z4MZmhDb8mLY",
        "colab_type": "code",
        "colab": {}
      },
      "cell_type": "code",
      "source": [
        "b"
      ],
      "execution_count": 0,
      "outputs": []
    },
    {
      "metadata": {
        "id": "BRabxsi18mLa",
        "colab_type": "code",
        "colab": {}
      },
      "cell_type": "code",
      "source": [
        "# from문을 사용하여 Bookmark 클래스를 임포트 함\n",
        "from bookmark import Bookmark # bookmark 모듈을 임포트 함\n",
        "b2 = Bookmark(\"타이틀\", \"http://path.to/site\")"
      ],
      "execution_count": 0,
      "outputs": []
    },
    {
      "metadata": {
        "id": "f9pbVE958mLa",
        "colab_type": "code",
        "colab": {}
      },
      "cell_type": "code",
      "source": [
        "b2"
      ],
      "execution_count": 0,
      "outputs": []
    },
    {
      "metadata": {
        "id": "v-kqQ3Ld8mLa",
        "colab_type": "code",
        "colab": {}
      },
      "cell_type": "code",
      "source": [
        "dir(b2)"
      ],
      "execution_count": 0,
      "outputs": []
    },
    {
      "metadata": {
        "id": "OntgzNe48mLc",
        "colab_type": "code",
        "colab": {}
      },
      "cell_type": "code",
      "source": [
        "b2.title, b2.url"
      ],
      "execution_count": 0,
      "outputs": []
    },
    {
      "metadata": {
        "id": "x3lGcUSJ8mLd",
        "colab_type": "code",
        "colab": {}
      },
      "cell_type": "code",
      "source": [
        "# bookmark.Bookmark 클래스의 상속\n",
        "import bookmark # bookmark 모듈을 임포트 함\n",
        "\n",
        "class Blogmark(bookmark.Bookmark):\n",
        "    pass"
      ],
      "execution_count": 0,
      "outputs": []
    },
    {
      "metadata": {
        "id": "FFIxvAyg8mLd",
        "colab_type": "code",
        "colab": {}
      },
      "cell_type": "code",
      "source": [
        "# from 문장을 사용하여 Bookmark 클래스를 임포트해서 상속함\n",
        "from bookmark import Bookmark # bookmark 모듈을 임포트 함\n",
        "class Blogmark(Bookmark):\n",
        "    pass"
      ],
      "execution_count": 0,
      "outputs": []
    },
    {
      "metadata": {
        "id": "tjeSwaAm8mLe",
        "colab_type": "text"
      },
      "cell_type": "markdown",
      "source": [
        "***"
      ]
    },
    {
      "metadata": {
        "id": "aUDtz2lB8mLe",
        "colab_type": "text"
      },
      "cell_type": "markdown",
      "source": [
        "## [wk09] homework\n",
        "\n",
        "> 다음 Youtube 강의를 들으면서 파이썬 노트북을 만들어서 각자의 github에 올리시오.(마감: 2018.10.28. 24:00)\n",
        "\n",
        "#### 제출 파일명: Summary_class.ipynb\n"
      ]
    },
    {
      "metadata": {
        "id": "tTn8Xeqo8mLe",
        "colab_type": "code",
        "colab": {}
      },
      "cell_type": "code",
      "source": [
        "from IPython.lib.display import YouTubeVideo\n",
        "YouTubeVideo('5Xy5Ju7hYo4')  # 파이썬 클래스, 예외처리, with"
      ],
      "execution_count": 0,
      "outputs": []
    },
    {
      "metadata": {
        "id": "cg5sRXuR8mLg",
        "colab_type": "text"
      },
      "cell_type": "markdown",
      "source": [
        "***"
      ]
    }
  ]
}