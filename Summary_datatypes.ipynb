{
  "nbformat": 4,
  "nbformat_minor": 0,
  "metadata": {
    "colab": {
      "name": "Summary_datatypes.ipynb",
      "version": "0.3.2",
      "provenance": [],
      "collapsed_sections": [],
      "include_colab_link": true
    },
    "kernelspec": {
      "name": "python3",
      "display_name": "Python 3"
    }
  },
  "cells": [
    {
      "cell_type": "markdown",
      "metadata": {
        "id": "view-in-github",
        "colab_type": "text"
      },
      "source": [
        "[View in Colaboratory](https://colab.research.google.com/github/HIT-YL/py-03/blob/master/Summary_datatypes.ipynb)"
      ]
    },
    {
      "metadata": {
        "id": "uXOxGMmS6FPM",
        "colab_type": "text"
      },
      "cell_type": "markdown",
      "source": [
        "## Summary of datatype in Python\n",
        "\n",
        "- list\n",
        "- dictionary\n",
        "- tuple\n",
        "- set\n",
        "- string"
      ]
    },
    {
      "metadata": {
        "id": "DzXP0V-36iPR",
        "colab_type": "text"
      },
      "cell_type": "markdown",
      "source": [
        "### 리스트 생성 및 항목 추가"
      ]
    },
    {
      "metadata": {
        "id": "Gwy7-S9h6Rc0",
        "colab_type": "code",
        "colab": {}
      },
      "cell_type": "code",
      "source": [
        "a = [ 10, 20, 30, 40, 50 ]"
      ],
      "execution_count": 0,
      "outputs": []
    },
    {
      "metadata": {
        "id": "PSOaZSMd7W21",
        "colab_type": "code",
        "colab": {
          "base_uri": "https://localhost:8080/",
          "height": 53
        },
        "outputId": "ec2a6c41-50e3-4158-e746-f2b8853a8618"
      },
      "cell_type": "code",
      "source": [
        "# 0, 1, 2... 인덱스는 리스트 처음부터 시작\n",
        "# -1, -2, ... 인덱스는 리스트 마지막부터 시작\n",
        "\n",
        "print(\"a[0] ==\", a[0], \", a[2] ==\", a[2], \", a[4] ==\", a[4])\n",
        "print(\"a[-1] ==\", a[-1], \", a[-2] ==\", a[-2], \", a[-5] ==\", a[-5])"
      ],
      "execution_count": 3,
      "outputs": [
        {
          "output_type": "stream",
          "text": [
            "a[0] == 10 , a[2] == 30 , a[4] == 50\n",
            "a[-1] == 50 , a[-2] == 40 , a[-5] == 10\n"
          ],
          "name": "stdout"
        }
      ]
    },
    {
      "metadata": {
        "id": "etWNtF9M7qMZ",
        "colab_type": "code",
        "colab": {}
      },
      "cell_type": "code",
      "source": [
        "b = [ 10, 20, \"Hello\", [True, 3.14] ]"
      ],
      "execution_count": 0,
      "outputs": []
    },
    {
      "metadata": {
        "id": "1CQ3v3qR8R3r",
        "colab_type": "code",
        "colab": {
          "base_uri": "https://localhost:8080/",
          "height": 53
        },
        "outputId": "e288aede-6a07-4514-e3b0-fa65d76eee35"
      },
      "cell_type": "code",
      "source": [
        "# b[3] 또는 b[-1] 값은 [True, 3.14] 리스트 전체임\n",
        "\n",
        "print(\"b[0] ==\", b[0], \", b[2] ==\", b[2], \", b[3] ==\", b[3])\n",
        "print(\"b[-1] ==\", b[-1], \", b[-2] ==\", b[-2], \", b[-4] ==\", b[-4])"
      ],
      "execution_count": 5,
      "outputs": [
        {
          "output_type": "stream",
          "text": [
            "b[0] == 10 , b[2] == Hello , b[3] == [True, 3.14]\n",
            "b[-1] == [True, 3.14] , b[-2] == Hello , b[-4] == 10\n"
          ],
          "name": "stdout"
        }
      ]
    },
    {
      "metadata": {
        "id": "35tpzQum8uS4",
        "colab_type": "code",
        "colab": {
          "base_uri": "https://localhost:8080/",
          "height": 53
        },
        "outputId": "c3945779-519e-4ecd-c39f-8a206fa24193"
      },
      "cell_type": "code",
      "source": [
        "print(\"b[3][0] ==\", b[3][0], \" b[3][1] ==\", b[3][1])\n",
        "print(\"b[-1][-1] ==\", b[-1][-1], \", b[-1][-2] ==\", b[-1][-2])\n",
        "\n",
        "# 중간고사에 나오기 좋겠죠."
      ],
      "execution_count": 6,
      "outputs": [
        {
          "output_type": "stream",
          "text": [
            "b[3][0] == True  b[3][1] == 3.14\n",
            "b[-1][-1] == 3.14 , b[-1][-2] == True\n"
          ],
          "name": "stdout"
        }
      ]
    },
    {
      "metadata": {
        "id": "xb9f7-Ut99QZ",
        "colab_type": "code",
        "colab": {
          "base_uri": "https://localhost:8080/",
          "height": 35
        },
        "outputId": "1ae88ae5-7bdf-43d8-cfe0-08cdab0ff3da"
      },
      "cell_type": "code",
      "source": [
        "b[-2][-2]"
      ],
      "execution_count": 8,
      "outputs": [
        {
          "output_type": "execute_result",
          "data": {
            "text/plain": [
              "'l'"
            ]
          },
          "metadata": {
            "tags": []
          },
          "execution_count": 8
        }
      ]
    },
    {
      "metadata": {
        "id": "BcV2H4Kg-A0x",
        "colab_type": "text"
      },
      "cell_type": "markdown",
      "source": [
        "** Q. l이 출력되는 이유는?        \n",
        "           b[-2]는 Hello. + [-2]는 Hello 철자의 뒤에서 두번째 값인 l을 가져오기 때문이다.           **"
      ]
    },
    {
      "metadata": {
        "id": "_uDBhDLn9CsA",
        "colab_type": "code",
        "colab": {
          "base_uri": "https://localhost:8080/",
          "height": 71
        },
        "outputId": "31bc16b3-9623-4dd3-a954-018468ebc192"
      },
      "cell_type": "code",
      "source": [
        "# a[0:2] => 인덱스 0부터 2-1까지,   a[1:] => 인덱스 1부터 끝까지\n",
        "# a[:3] => 인덱스 처음부터 3-1까지,   a[:-2] => 인덱스 처음부터 -2-1까지\n",
        "# a[:] => 인덱스 처음부터 끝까지\n",
        "\n",
        "print(\"a[0:2] ==\", a[0:2], \", a[1:] ==\", a[1:])\n",
        "print(\"a[:3] ==\", a[:3], \", a[:-2] ==\", a[:-2])\n",
        "print(\"a[:] ==\", a[:])"
      ],
      "execution_count": 10,
      "outputs": [
        {
          "output_type": "stream",
          "text": [
            "a[0:2] == [10, 20] , a[1:] == [20, 30, 40, 50]\n",
            "a[:3] == [10, 20, 30] , a[:-2] == [10, 20, 30]\n",
            "a[:] == [10, 20, 30, 40, 50]\n"
          ],
          "name": "stdout"
        }
      ]
    },
    {
      "metadata": {
        "id": "QdphW2VzB1gT",
        "colab_type": "text"
      },
      "cell_type": "markdown",
      "source": [
        "### 튜플"
      ]
    },
    {
      "metadata": {
        "id": "etyWPn2XBxLb",
        "colab_type": "code",
        "colab": {}
      },
      "cell_type": "code",
      "source": [
        "a = ( 10, 20, 30, 40, 50 )"
      ],
      "execution_count": 0,
      "outputs": []
    },
    {
      "metadata": {
        "id": "4exeOAF49gZE",
        "colab_type": "code",
        "colab": {
          "base_uri": "https://localhost:8080/",
          "height": 53
        },
        "outputId": "ac358a8a-326f-4dd6-86ec-635eb214ac94"
      },
      "cell_type": "code",
      "source": [
        "print(\"a[0] ==\", a[0], \", a[-2] ==\", a[-2], \", a[:] ==\", a[:])\n",
        "print(\"a[0:2] ==\", a[0:2], \", a[1:] ==\", a[1:])"
      ],
      "execution_count": 18,
      "outputs": [
        {
          "output_type": "stream",
          "text": [
            "a[0] == 10 , a[-2] == 40 , a[:] == (10, 20, 30, 40, 50)\n",
            "a[0:2] == (10, 20) , a[1:] == (20, 30, 40, 50)\n"
          ],
          "name": "stdout"
        }
      ]
    },
    {
      "metadata": {
        "id": "RQtfvAyM_1sw",
        "colab_type": "code",
        "colab": {
          "base_uri": "https://localhost:8080/",
          "height": 208
        },
        "outputId": "2cdd9da2-380d-454e-b726-aa041e088934"
      },
      "cell_type": "code",
      "source": [
        "a[0] = 100     # a[0] 값을 100으로 변경하려 하기 때문에 에러발생\n",
        "\n",
        "# 파이썬에서 튜플은 불변"
      ],
      "execution_count": 19,
      "outputs": [
        {
          "output_type": "error",
          "ename": "TypeError",
          "evalue": "ignored",
          "traceback": [
            "\u001b[0;31m---------------------------------------------------------------------------\u001b[0m",
            "\u001b[0;31mTypeError\u001b[0m                                 Traceback (most recent call last)",
            "\u001b[0;32m<ipython-input-19-eb2822f13652>\u001b[0m in \u001b[0;36m<module>\u001b[0;34m()\u001b[0m\n\u001b[0;32m----> 1\u001b[0;31m \u001b[0ma\u001b[0m\u001b[0;34m[\u001b[0m\u001b[0;36m0\u001b[0m\u001b[0;34m]\u001b[0m \u001b[0;34m=\u001b[0m \u001b[0;36m100\u001b[0m     \u001b[0;31m# a[0] 값을 100으로 변경하려 하기 때문에 에러발생\u001b[0m\u001b[0;34m\u001b[0m\u001b[0m\n\u001b[0m\u001b[1;32m      2\u001b[0m \u001b[0;34m\u001b[0m\u001b[0m\n\u001b[1;32m      3\u001b[0m \u001b[0;31m# 파이썬에서 튜플은 불변\u001b[0m\u001b[0;34m\u001b[0m\u001b[0;34m\u001b[0m\u001b[0m\n",
            "\u001b[0;31mTypeError\u001b[0m: 'tuple' object does not support item assignment"
          ]
        }
      ]
    },
    {
      "metadata": {
        "id": "gTz8lT7wChRL",
        "colab_type": "text"
      },
      "cell_type": "markdown",
      "source": [
        "### 딕셔너리"
      ]
    },
    {
      "metadata": {
        "id": "V7XJCO6g_7QZ",
        "colab_type": "code",
        "colab": {}
      },
      "cell_type": "code",
      "source": [
        "score = { \"KIM\":90, \"LEE\":85, \"JUN\":95 }    # 딕셔너리 생성"
      ],
      "execution_count": 0,
      "outputs": []
    },
    {
      "metadata": {
        "id": "rpVUXi2XCrND",
        "colab_type": "code",
        "colab": {
          "base_uri": "https://localhost:8080/",
          "height": 35
        },
        "outputId": "fb130077-8408-4526-a835-22280352870a"
      },
      "cell_type": "code",
      "source": [
        "print(\"score['KIM'] ==\", score['KIM'])    # 원소 접근"
      ],
      "execution_count": 22,
      "outputs": [
        {
          "output_type": "stream",
          "text": [
            "score['KIM'] == 90\n"
          ],
          "name": "stdout"
        }
      ]
    },
    {
      "metadata": {
        "id": "ACTYEhuBC1gq",
        "colab_type": "code",
        "colab": {
          "base_uri": "https://localhost:8080/",
          "height": 35
        },
        "outputId": "c749ab4b-9405-4fd0-b779-0665b87dc361"
      },
      "cell_type": "code",
      "source": [
        "score['HAN'] = 100   # 새 원소 추가\n",
        "\n",
        "# 딕셔너리는 입력한 순서대로 데이터가 들어가는 것이 아니므로 주의해야함\n",
        "\n",
        "print(score)"
      ],
      "execution_count": 25,
      "outputs": [
        {
          "output_type": "stream",
          "text": [
            "{'KIM': 90, 'LEE': 85, 'JUN': 95, 'HAN': 100}\n"
          ],
          "name": "stdout"
        }
      ]
    },
    {
      "metadata": {
        "id": "MsKv4UWAC__3",
        "colab_type": "code",
        "colab": {
          "base_uri": "https://localhost:8080/",
          "height": 71
        },
        "outputId": "98bf1479-1581-40b4-91ec-a083f0f51839"
      },
      "cell_type": "code",
      "source": [
        "# 딕셔너리 key. value, (key, value)\n",
        "\n",
        "print(\"score key ==\", score.keys())\n",
        "print(\"score value ==\", score.values())\n",
        "print(\"score items ==\", score.items())"
      ],
      "execution_count": 26,
      "outputs": [
        {
          "output_type": "stream",
          "text": [
            "score key == dict_keys(['KIM', 'LEE', 'JUN', 'HAN'])\n",
            "score value == dict_values([90, 85, 95, 100])\n",
            "score items == dict_items([('KIM', 90), ('LEE', 85), ('JUN', 95), ('HAN', 100)])\n"
          ],
          "name": "stdout"
        }
      ]
    },
    {
      "metadata": {
        "id": "MtlDy5m8EQHM",
        "colab_type": "text"
      },
      "cell_type": "markdown",
      "source": [
        "### String"
      ]
    },
    {
      "metadata": {
        "id": "LDVvBQ4KDhSP",
        "colab_type": "code",
        "colab": {}
      },
      "cell_type": "code",
      "source": [
        "a = 'A73, CD'"
      ],
      "execution_count": 0,
      "outputs": []
    },
    {
      "metadata": {
        "id": "4whZrpeiEVa1",
        "colab_type": "code",
        "colab": {
          "base_uri": "https://localhost:8080/",
          "height": 35
        },
        "outputId": "f6028954-bf76-4fa9-9540-e44baca562b3"
      },
      "cell_type": "code",
      "source": [
        "a[1]    # a[1]은 숫자 7이 아닌 문자열 7"
      ],
      "execution_count": 28,
      "outputs": [
        {
          "output_type": "execute_result",
          "data": {
            "text/plain": [
              "'7'"
            ]
          },
          "metadata": {
            "tags": []
          },
          "execution_count": 28
        }
      ]
    },
    {
      "metadata": {
        "id": "Z_RSMXRdEZdv",
        "colab_type": "code",
        "colab": {
          "base_uri": "https://localhost:8080/",
          "height": 35
        },
        "outputId": "83746a21-e4b1-45f9-bc5b-cf20083df08f"
      },
      "cell_type": "code",
      "source": [
        "a = a + ', EFG'    # + 연산자 사용\n",
        "a"
      ],
      "execution_count": 29,
      "outputs": [
        {
          "output_type": "execute_result",
          "data": {
            "text/plain": [
              "'A73, CD, EFG'"
            ]
          },
          "metadata": {
            "tags": []
          },
          "execution_count": 29
        }
      ]
    },
    {
      "metadata": {
        "id": "6SPkYDDwEgqa",
        "colab_type": "code",
        "colab": {
          "base_uri": "https://localhost:8080/",
          "height": 35
        },
        "outputId": "d38a16ac-98a2-43bb-aadd-ab4aeb2697b4"
      },
      "cell_type": "code",
      "source": [
        "# split() 메서드는 특정 separator를 기준으로 문자열을 분리하여 list 리턴\n",
        "# split 함수 중요!!!\n",
        "# split는 콤마(,)를 기준으로 문자열을 분리하고 분리한 문자열을 리스트 함수로 변환해주는 함수이다.\n",
        "\n",
        "b = a.split(',')\n",
        "print(b)"
      ],
      "execution_count": 31,
      "outputs": [
        {
          "output_type": "stream",
          "text": [
            "['A73', ' CD', ' EFG']\n"
          ],
          "name": "stdout"
        }
      ]
    },
    {
      "metadata": {
        "id": "VjjF3v4xFpzr",
        "colab_type": "text"
      },
      "cell_type": "markdown",
      "source": [
        "** Q. A73이 나오는 슬라이싱 코드를 n개 이상 적어보시오. (중간고사 문제 예상!)**"
      ]
    },
    {
      "metadata": {
        "id": "iPlB2aJaEtjD",
        "colab_type": "code",
        "colab": {
          "base_uri": "https://localhost:8080/",
          "height": 35
        },
        "outputId": "4fdb732f-b453-4691-bdd7-c8f328696f32"
      },
      "cell_type": "code",
      "source": [
        "a[:3]"
      ],
      "execution_count": 32,
      "outputs": [
        {
          "output_type": "execute_result",
          "data": {
            "text/plain": [
              "'A73'"
            ]
          },
          "metadata": {
            "tags": []
          },
          "execution_count": 32
        }
      ]
    },
    {
      "metadata": {
        "id": "QBk_PBjMFnnx",
        "colab_type": "code",
        "colab": {
          "base_uri": "https://localhost:8080/",
          "height": 244
        },
        "outputId": "55325d6f-706a-47b7-afbb-9b290bb5a4ec"
      },
      "cell_type": "code",
      "source": [
        "a = [ 10, 20, 30, 40, 50 ]\n",
        "b = (10, 20, 30, 40, 50 )\n",
        "c = { \"KIM\":90, \"LEE\":80 }\n",
        "d = 'Seoul, Korea'\n",
        "e = [ [100, 200], [300, 400], [500, 600]]\n",
        "\n",
        "print(type(a), type(b), type(c), type(d), type(e))\n",
        "\n",
        "print(len(a), len(b), len(c), len(d), len(e)) # len은 대괄호로 묶인 것들을 하나로 보기 때문에 요소의 개수가 3이라고 출력함\n",
        "\n",
        "print(size(e))   # len() 과 size() 비교"
      ],
      "execution_count": 38,
      "outputs": [
        {
          "output_type": "stream",
          "text": [
            "<class 'list'> <class 'tuple'> <class 'dict'> <class 'str'> <class 'list'>\n",
            "5 5 2 12 3\n"
          ],
          "name": "stdout"
        },
        {
          "output_type": "error",
          "ename": "NameError",
          "evalue": "ignored",
          "traceback": [
            "\u001b[0;31m---------------------------------------------------------------------------\u001b[0m",
            "\u001b[0;31mNameError\u001b[0m                                 Traceback (most recent call last)",
            "\u001b[0;32m<ipython-input-38-7c2ac8dc7cd6>\u001b[0m in \u001b[0;36m<module>\u001b[0;34m()\u001b[0m\n\u001b[1;32m      9\u001b[0m \u001b[0mprint\u001b[0m\u001b[0;34m(\u001b[0m\u001b[0mlen\u001b[0m\u001b[0;34m(\u001b[0m\u001b[0ma\u001b[0m\u001b[0;34m)\u001b[0m\u001b[0;34m,\u001b[0m \u001b[0mlen\u001b[0m\u001b[0;34m(\u001b[0m\u001b[0mb\u001b[0m\u001b[0;34m)\u001b[0m\u001b[0;34m,\u001b[0m \u001b[0mlen\u001b[0m\u001b[0;34m(\u001b[0m\u001b[0mc\u001b[0m\u001b[0;34m)\u001b[0m\u001b[0;34m,\u001b[0m \u001b[0mlen\u001b[0m\u001b[0;34m(\u001b[0m\u001b[0md\u001b[0m\u001b[0;34m)\u001b[0m\u001b[0;34m,\u001b[0m \u001b[0mlen\u001b[0m\u001b[0;34m(\u001b[0m\u001b[0me\u001b[0m\u001b[0;34m)\u001b[0m\u001b[0;34m)\u001b[0m \u001b[0;31m# len은 대괄호로 묶인 것들을 하나로 보기 때문에 요소의 개수가 3이라고 출력함\u001b[0m\u001b[0;34m\u001b[0m\u001b[0m\n\u001b[1;32m     10\u001b[0m \u001b[0;34m\u001b[0m\u001b[0m\n\u001b[0;32m---> 11\u001b[0;31m \u001b[0mprint\u001b[0m\u001b[0;34m(\u001b[0m\u001b[0msize\u001b[0m\u001b[0;34m(\u001b[0m\u001b[0me\u001b[0m\u001b[0;34m)\u001b[0m\u001b[0;34m)\u001b[0m   \u001b[0;31m# len() 과 size() 비교\u001b[0m\u001b[0;34m\u001b[0m\u001b[0m\n\u001b[0m",
            "\u001b[0;31mNameError\u001b[0m: name 'size' is not defined"
          ]
        }
      ]
    },
    {
      "metadata": {
        "id": "DXpvnzCDGu-l",
        "colab_type": "code",
        "colab": {
          "base_uri": "https://localhost:8080/",
          "height": 35
        },
        "outputId": "7ce11bc4-e660-4c16-bd08-f52776220128"
      },
      "cell_type": "code",
      "source": [
        "a = 'Hello'\n",
        "b = { \"KIM\":90, \"LEE\":80 }\n",
        "\n",
        "print(list(a), list(b.keys()), list(b.values()), list(b.items()))\n",
        "\n",
        "# b.items는 각 쌍을 리스트 변수로 출력함"
      ],
      "execution_count": 44,
      "outputs": [
        {
          "output_type": "stream",
          "text": [
            "['H', 'e', 'l', 'l', 'o'] ['KIM', 'LEE'] [90, 80] [('KIM', 90), ('LEE', 80)]\n"
          ],
          "name": "stdout"
        }
      ]
    },
    {
      "metadata": {
        "id": "VtOJqvO5HmnY",
        "colab_type": "code",
        "colab": {}
      },
      "cell_type": "code",
      "source": [
        "# 소괄호는 튜플"
      ],
      "execution_count": 0,
      "outputs": []
    },
    {
      "metadata": {
        "id": "DFQI_HEqHzGb",
        "colab_type": "code",
        "colab": {}
      },
      "cell_type": "code",
      "source": [
        "# str 함수를 리스트에 걸어주면 str 함수가 통째로 리스트로 바뀐다는 것 주의 !!!"
      ],
      "execution_count": 0,
      "outputs": []
    }
  ]
}