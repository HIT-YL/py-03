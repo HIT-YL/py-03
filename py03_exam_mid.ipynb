{
  "nbformat": 4,
  "nbformat_minor": 0,
  "metadata": {
    "colab": {
      "name": "py03_exam_mid.ipynb",
      "version": "0.3.2",
      "provenance": [],
      "collapsed_sections": [],
      "include_colab_link": true
    },
    "kernelspec": {
      "display_name": "Python 3",
      "language": "python",
      "name": "python3"
    }
  },
  "cells": [
    {
      "cell_type": "markdown",
      "metadata": {
        "id": "view-in-github",
        "colab_type": "text"
      },
      "source": [
        "<a href=\"https://colab.research.google.com/github/HIT-YL/py-03/blob/master/py03_exam_mid.ipynb\" target=\"_parent\"><img src=\"https://colab.research.google.com/assets/colab-badge.svg\" alt=\"Open In Colab\"/></a>"
      ]
    },
    {
      "metadata": {
        "id": "12twNAlLMAyk",
        "colab_type": "text"
      },
      "cell_type": "markdown",
      "source": [
        "# 중간필기시험: 파이썬 프로그래밍 (2018.10.15)"
      ]
    },
    {
      "metadata": {
        "id": "aefyz-CMMExW",
        "colab_type": "text"
      },
      "cell_type": "markdown",
      "source": [
        "## 정답을 설명하는 노우트를 완성해서 각자의 github에 올리시오."
      ]
    },
    {
      "metadata": {
        "id": "IVFkw0axMf5l",
        "colab_type": "text"
      },
      "cell_type": "markdown",
      "source": [
        "### 업로드 파일명: pynn_exam_mid.ipynb  (pynn은 id)"
      ]
    },
    {
      "metadata": {
        "id": "Rc8uW2C1MAyp",
        "colab_type": "text"
      },
      "cell_type": "markdown",
      "source": [
        "***"
      ]
    },
    {
      "metadata": {
        "id": "hzMo_ABhMAyr",
        "colab_type": "code",
        "colab": {
          "base_uri": "https://localhost:8080/",
          "height": 34
        },
        "outputId": "a2eb1da4-4093-444e-8b78-7ba4460dbb63"
      },
      "cell_type": "code",
      "source": [
        "# [1]\n",
        "# 다음 식의 연산 결과는?\n",
        "\n",
        "2^4"
      ],
      "execution_count": 1,
      "outputs": [
        {
          "output_type": "execute_result",
          "data": {
            "text/plain": [
              "6"
            ]
          },
          "metadata": {
            "tags": []
          },
          "execution_count": 1
        }
      ]
    },
    {
      "metadata": {
        "id": "1TMOuTPO5Sn8",
        "colab_type": "text"
      },
      "cell_type": "markdown",
      "source": [
        "**풀이** : ^는 배타적 XOR 연산을 나타내는 기호다."
      ]
    },
    {
      "metadata": {
        "id": "U0HBHOvt5hEE",
        "colab_type": "code",
        "colab": {
          "base_uri": "https://localhost:8080/",
          "height": 34
        },
        "outputId": "aec75890-523d-4a0c-dcd6-995a0fefd54e"
      },
      "cell_type": "code",
      "source": [
        "# 2^4 계산\n",
        "\n",
        "# 2 =  10\n",
        "# 4 = 100\n",
        "# -------\n",
        "#     110\n",
        "\n",
        "# 100 = 6이므로 정답은 6이다."
      ],
      "execution_count": 3,
      "outputs": [
        {
          "output_type": "execute_result",
          "data": {
            "text/plain": [
              "6"
            ]
          },
          "metadata": {
            "tags": []
          },
          "execution_count": 3
        }
      ]
    },
    {
      "metadata": {
        "id": "5azPPzJS5-a2",
        "colab_type": "text"
      },
      "cell_type": "markdown",
      "source": [
        "---"
      ]
    },
    {
      "metadata": {
        "id": "I9V4aC5dMAyx",
        "colab_type": "code",
        "colab": {
          "base_uri": "https://localhost:8080/",
          "height": 34
        },
        "outputId": "ad42ea36-400b-43e0-d281-3f75cb6534a4"
      },
      "cell_type": "code",
      "source": [
        "# [2]\n",
        "# 다음 식의 연산 결과는?\n",
        "\n",
        "2**4"
      ],
      "execution_count": 4,
      "outputs": [
        {
          "output_type": "execute_result",
          "data": {
            "text/plain": [
              "16"
            ]
          },
          "metadata": {
            "tags": []
          },
          "execution_count": 4
        }
      ]
    },
    {
      "metadata": {
        "id": "dIZg9KsJ6C_d",
        "colab_type": "text"
      },
      "cell_type": "markdown",
      "source": [
        "**풀이** : **는 제곱을 나타내는 기호다."
      ]
    },
    {
      "metadata": {
        "id": "zTaAuYUe6K3C",
        "colab_type": "code",
        "colab": {}
      },
      "cell_type": "code",
      "source": [
        "# 2**4 계산\n",
        "\n",
        "# 2의 4승 = 2*2*2*2\n",
        "# 정답은 16이다."
      ],
      "execution_count": 0,
      "outputs": []
    },
    {
      "metadata": {
        "id": "Daipn3dB6eYw",
        "colab_type": "text"
      },
      "cell_type": "markdown",
      "source": [
        "---"
      ]
    },
    {
      "metadata": {
        "id": "6Swvwf_kMAy2",
        "colab_type": "code",
        "colab": {
          "base_uri": "https://localhost:8080/",
          "height": 70
        },
        "outputId": "f44198da-5f3e-4a77-c76e-0ee3b9f63184"
      },
      "cell_type": "code",
      "source": [
        "# [3]\n",
        "# BMI는 키와 체중을 이용하여 계산한 지수로 체중(kg)÷(키(m)**2) 입니다. \n",
        "# 즉, 체중(weight)을 키(height)의 제곱으로 나눈 값이 BMI(체질량지수)입니다.\n",
        "#\n",
        "\n",
        "height = float(input(\"Your height in meters:\"))\n",
        "weight = int(input(\"Your weight in kilograms:\"))\n",
        "\n",
        "# bmi를 소숫점 첫째자리까지 구하는 식은?\n",
        "# hint: use round()\n",
        "\n",
        "bmi = round((weight/(height*height)),1)\n",
        "\n",
        "bmi"
      ],
      "execution_count": 7,
      "outputs": [
        {
          "output_type": "stream",
          "text": [
            "Your height in meters:1.61\n",
            "Your weight in kilograms:39\n"
          ],
          "name": "stdout"
        },
        {
          "output_type": "execute_result",
          "data": {
            "text/plain": [
              "15.0"
            ]
          },
          "metadata": {
            "tags": []
          },
          "execution_count": 7
        }
      ]
    },
    {
      "metadata": {
        "id": "C4r0JhPh7IrG",
        "colab_type": "text"
      },
      "cell_type": "markdown",
      "source": [
        "**풀이** : round는 소수점 n번째 자리까지를 구하도록 한다. (n+1번째 자리에서 반올림)"
      ]
    },
    {
      "metadata": {
        "id": "wxeB16YZ7cp3",
        "colab_type": "text"
      },
      "cell_type": "markdown",
      "source": [
        "---"
      ]
    },
    {
      "metadata": {
        "id": "H0ccxWPvMAy-",
        "colab_type": "code",
        "colab": {
          "base_uri": "https://localhost:8080/",
          "height": 34
        },
        "outputId": "692bf033-6992-423c-91ab-6391d6675167"
      },
      "cell_type": "code",
      "source": [
        "# [4,5]\n",
        "# 다음 리스트는 도쿄의 낮 평균 기온 (1950년부터 2000년까지)이댜.\n",
        "\n",
        "tokyo_temps = [15.1, 15.4, 15.2, 15.4, 17.0, 16.9]\n",
        "\n",
        "import numpy as np  # [4] 파이썬 모듈을 연결하는 키워드는? \n",
        "\n",
        "max(tokyo_temps)\n",
        "\n",
        "np.argmax(tokyo_temps) #[5] 결과는?  "
      ],
      "execution_count": 10,
      "outputs": [
        {
          "output_type": "execute_result",
          "data": {
            "text/plain": [
              "4"
            ]
          },
          "metadata": {
            "tags": []
          },
          "execution_count": 10
        }
      ]
    },
    {
      "metadata": {
        "id": "Nh8EuMEh8KTW",
        "colab_type": "text"
      },
      "cell_type": "markdown",
      "source": [
        "[4] **풀이** : 파이썬 모듈을 연결하는 키워드는 import이다.       \n",
        "[5] **풀이** : argmax는 최댓값을 갖는 인덱스를 출력하는 명령어이다."
      ]
    },
    {
      "metadata": {
        "id": "y8rQiXKm8aYf",
        "colab_type": "text"
      },
      "cell_type": "markdown",
      "source": [
        "---"
      ]
    },
    {
      "metadata": {
        "id": "ysjKQ8xZMAzH",
        "colab_type": "code",
        "colab": {
          "base_uri": "https://localhost:8080/",
          "height": 34
        },
        "outputId": "6c7c849f-baf0-4628-da09-cc607d7d596b"
      },
      "cell_type": "code",
      "source": [
        "# [6,7]\n",
        "# 영어 단어의 출현 수를 딕셔너리를 이용해서 계산하는 코드이다.\n",
        "# 문단 line을 구성하는 단어들을 분리하는 정확한 함수식은?\n",
        "\n",
        "line = \"\"\"If you can dream it, you can do it. \n",
        "- Walt Disney\"\"\"\n",
        "\n",
        "wordcnt = {}     #[6] 딕셔너리를 초기화\n",
        "\n",
        "for word in line.split():  #[7] 단어들을 분리하는 정확한 함수식은?\n",
        "    if word in wordcnt:\n",
        "        wordcnt[word] = wordcnt[word]+1\n",
        "    else:\n",
        "        wordcnt[word] = 1\n",
        "        \n",
        "print(wordcnt)            # 결과 표시\n",
        "\n",
        "#[7. 보기] split(',') , split() , split(':') , split('.')\n",
        "\n"
      ],
      "execution_count": 11,
      "outputs": [
        {
          "output_type": "stream",
          "text": [
            "{'If': 1, 'you': 2, 'can': 2, 'dream': 1, 'it,': 1, 'do': 1, 'it.': 1, '-': 1, 'Walt': 1, 'Disney': 1}\n"
          ],
          "name": "stdout"
        }
      ]
    },
    {
      "metadata": {
        "id": "w2niYD4p8p-F",
        "colab_type": "text"
      },
      "cell_type": "markdown",
      "source": [
        "[6] **풀이** : 딕셔너리는 {}를 통해 아무것도 입력하지 않음으로써 초기화를 실행한다.           \n",
        "[7] **풀이** : split()는 공백을 기준으로 단어를 분리하는 함수식이다."
      ]
    },
    {
      "metadata": {
        "id": "CXWmlHff9ETj",
        "colab_type": "text"
      },
      "cell_type": "markdown",
      "source": [
        "---"
      ]
    },
    {
      "metadata": {
        "id": "65KfErIhMAzL",
        "colab_type": "code",
        "colab": {
          "base_uri": "https://localhost:8080/",
          "height": 34
        },
        "outputId": "155597b8-5587-4250-fda8-a5b5cd1d6532"
      },
      "cell_type": "code",
      "source": [
        "# [8]\n",
        "# 리스트를 set로 변환하기\n",
        "# \n",
        "codon = ['ATG', 'GGC', 'TCC', 'AAG', 'TTC', \n",
        "         'TGG', 'GGC', 'GAC', 'TCC']\n",
        "\n",
        "s_codon = set(codon)      # 리스트를 set으로 변환\n",
        "\n",
        "print(len(codon), len(s_codon))    #[8] 출력 결과는?"
      ],
      "execution_count": 12,
      "outputs": [
        {
          "output_type": "stream",
          "text": [
            "9 7\n"
          ],
          "name": "stdout"
        }
      ]
    },
    {
      "metadata": {
        "id": "MvFCx--j9JDu",
        "colab_type": "text"
      },
      "cell_type": "markdown",
      "source": [
        "**풀이** : len(codon)은 codon의 값을 모두 헤아린다. 그러나 len(s_codon)은 s_codon이 condon을 set으로 변환한 것이므로, 중복을 허용하지 않는다는 set의 성격에 따라 중복되는 값인 GGC와 TCC를 한 번씩만 헤아리게 된다."
      ]
    },
    {
      "metadata": {
        "id": "OJEU7ppD9m-y",
        "colab_type": "text"
      },
      "cell_type": "markdown",
      "source": [
        "---"
      ]
    },
    {
      "metadata": {
        "id": "7dVQabW0MAzP",
        "colab_type": "code",
        "colab": {
          "base_uri": "https://localhost:8080/",
          "height": 34
        },
        "outputId": "8a8d34e2-e718-446f-b530-db8233a2a9b1"
      },
      "cell_type": "code",
      "source": [
        "# [9]\n",
        "# 튜플의 리스트를 이용한 다음 식의 연산 결과는?\n",
        "# \n",
        "tank_data = [(\"A형 전차\", 38, 80, 75), (\"B형 전차\", 42, 50, 37),\n",
        "             (\"X형 전차\", 20, 17, 57), (\"Y형 전차\", 40, 50, 75),\n",
        "             (\"Z형 전차\", 39, 51, 75)]\n",
        "\n",
        "# 전차의 제원을 더해 반환하는 함수\n",
        "def evaluate_tankdata(tup):\n",
        "    return tup[1]+tup[2]+tup[3]\n",
        "\n",
        "print(evaluate_tankdata(tank_data[3]))  #[9] 출력 결과는?"
      ],
      "execution_count": 15,
      "outputs": [
        {
          "output_type": "stream",
          "text": [
            "165\n"
          ],
          "name": "stdout"
        }
      ]
    },
    {
      "metadata": {
        "id": "0tf1wS_s9sS1",
        "colab_type": "text"
      },
      "cell_type": "markdown",
      "source": [
        "**풀이** : tank_data[3]은 tank_data의 인덱스3에 해당하는 값들 중, 그 값 안의 인덱스1부터 3까지를 더한다.                  \n",
        "tank_data[3] = (\"Y형 전차\", 40, 50, 75)이고, 이중에서 인덱스 1,2,3 각각의 값은 40, 50, 75이므로 이를 더하면 165가 된다."
      ]
    },
    {
      "metadata": {
        "id": "CvrGb-E9-SyJ",
        "colab_type": "text"
      },
      "cell_type": "markdown",
      "source": [
        "---"
      ]
    },
    {
      "metadata": {
        "id": "ll7TUF1rMAzT",
        "colab_type": "code",
        "colab": {
          "base_uri": "https://localhost:8080/",
          "height": 34
        },
        "outputId": "3cd4edbf-8f58-4d3e-9bc9-adbd585d81ce"
      },
      "cell_type": "code",
      "source": [
        "# [10]\n",
        "# 다음 for-loop의 출력 결과는?\n",
        "#\n",
        "\n",
        "seq = [\"야구\", \"축구\", \"농구\"]\n",
        "\n",
        "# range()를 사용한 루프 카운터\n",
        "for cnt in range(len(seq)):\n",
        "    print(cnt, seq[cnt], end=',')"
      ],
      "execution_count": 18,
      "outputs": [
        {
          "output_type": "stream",
          "text": [
            "0 야구,1 축구,2 농구,"
          ],
          "name": "stdout"
        }
      ]
    },
    {
      "metadata": {
        "id": "fFzei8UV-Vdh",
        "colab_type": "text"
      },
      "cell_type": "markdown",
      "source": [
        "**풀이** : print에 걸린 cnt는 0부터 마지막 인덱스까지 1씩 증가한다. seq[cnt]는 해당하는 인덱스 값을 출력하여 순서대로 야구, 축구, 농구가 출력되며, end에 ','를 넣음으로써 줄바꿈을 ,로 변환하여 표기된다."
      ]
    },
    {
      "metadata": {
        "id": "vuWFrx6r_VYu",
        "colab_type": "text"
      },
      "cell_type": "markdown",
      "source": [
        "---"
      ]
    },
    {
      "metadata": {
        "id": "BUuLuuBHMAzX",
        "colab_type": "code",
        "outputId": "7223120a-8eb1-4efd-c561-523aa2981898",
        "colab": {
          "base_uri": "https://localhost:8080/",
          "height": 87
        }
      },
      "cell_type": "code",
      "source": [
        "# [11]\n",
        "# 다음은 두 개의 리스트를 묶어서 아래와 같이 출력하는 코드이다.\n",
        "# 두 개의 리스트를 묶는 함수는?\n",
        "\n",
        "for n, w in zip([1, 2, 3, 4], ['a', 'b', 'c', 'd']):\n",
        "    print(n, w)\n",
        "    \n",
        "# 출력결과    "
      ],
      "execution_count": 19,
      "outputs": [
        {
          "output_type": "stream",
          "text": [
            "1 a\n",
            "2 b\n",
            "3 c\n",
            "4 d\n"
          ],
          "name": "stdout"
        }
      ]
    },
    {
      "metadata": {
        "id": "3hqFuUnI_XRc",
        "colab_type": "text"
      },
      "cell_type": "markdown",
      "source": [
        "**풀이** : 두 개의 리스트를 묶는 함수는 zip이다."
      ]
    },
    {
      "metadata": {
        "id": "tbnxmChW_jH4",
        "colab_type": "text"
      },
      "cell_type": "markdown",
      "source": [
        "---"
      ]
    },
    {
      "metadata": {
        "id": "mRSUoF-5MAzf",
        "colab_type": "code",
        "colab": {
          "resources": {
            "http://localhost:8080/nbextensions/google.colab/files.js": {
              "data": "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",
              "ok": true,
              "headers": [
                [
                  "content-type",
                  "application/javascript"
                ]
              ],
              "status": 200,
              "status_text": ""
            }
          },
          "base_uri": "https://localhost:8080/",
          "height": 94
        },
        "outputId": "584a3b7a-1bc9-4b1d-e9cf-af243ff64a9d"
      },
      "cell_type": "code",
      "source": [
        "# [12]\n",
        "# 다음은 구글 colab cloud로 로컬 파일들을 업로드하는 과정이다.\n",
        "# files 객체 UI를 이용해서 업로드한 파일들은 uploaded 변수에 튜플로 저장된다.\n",
        "\n",
        "from google.colab import files\n",
        "uploaded = files.upload()\n",
        "\n",
        "for fn in uploaded.keys():  #[12] 튜플의 함수는?\n",
        "  print('User uploaded file \"{name}\" with length {length} bytes'.format(\n",
        "      name=fn, length=len(uploaded[fn])))\n",
        "\n",
        "#[12.보기] items(), values(), keys(), map()"
      ],
      "execution_count": 21,
      "outputs": [
        {
          "output_type": "display_data",
          "data": {
            "text/html": [
              "\n",
              "     <input type=\"file\" id=\"files-f56c92a8-1a22-41cf-9f7f-07a2aa21e221\" name=\"files[]\" multiple disabled />\n",
              "     <output id=\"result-f56c92a8-1a22-41cf-9f7f-07a2aa21e221\">\n",
              "      Upload widget is only available when the cell has been executed in the\n",
              "      current browser session. Please rerun this cell to enable.\n",
              "      </output>\n",
              "      <script src=\"/nbextensions/google.colab/files.js\"></script> "
            ],
            "text/plain": [
              "<IPython.core.display.HTML object>"
            ]
          },
          "metadata": {
            "tags": []
          }
        },
        {
          "output_type": "stream",
          "text": [
            "Saving foo.txt to foo.txt\n",
            "User uploaded file \"foo.txt\" with length 316 bytes\n"
          ],
          "name": "stdout"
        }
      ]
    },
    {
      "metadata": {
        "id": "vDIKqhdXAV80",
        "colab_type": "text"
      },
      "cell_type": "markdown",
      "source": [
        "**풀이** : uploaded 뒤에 들어갈 튜플의 함수는 keys()이다."
      ]
    },
    {
      "metadata": {
        "id": "4xVFfpLZAoid",
        "colab_type": "text"
      },
      "cell_type": "markdown",
      "source": [
        "---"
      ]
    },
    {
      "metadata": {
        "id": "EP2ydvvnMAzi",
        "colab_type": "code",
        "colab": {
          "base_uri": "https://localhost:8080/",
          "height": 105
        },
        "outputId": "f51ad17f-e645-4105-9075-e20681684f86"
      },
      "cell_type": "code",
      "source": [
        "# [13-17]\n",
        "# 리스트의 인덱싱과 슬라이싱\n",
        "#\n",
        "\n",
        "a=[10,20,30,40,50,60]\n",
        "\n",
        "b=[10,20,30,\"HCit\",[True,3.14]]\n",
        "\n",
        "\n",
        "print(\"a[-5] ==\", a[-5]) #[13] 출력 결과는?\n",
        "\n",
        "\n",
        "print(\"b[-1][0] ==\", b[-1][0]) #[14] 출력 결과는?\n",
        "\n",
        "\n",
        "print(\"a[:-3]==\",a[:-3]) #[15] 출력 결과는?\n",
        "\n",
        "\n",
        "print(b[-2][1])  #[16] 출력 결과는?\n",
        "\n",
        "\n",
        "print(a[::-2])  #[17] 출력 결과는?"
      ],
      "execution_count": 22,
      "outputs": [
        {
          "output_type": "stream",
          "text": [
            "a[-5] == 20\n",
            "b[-1][0] == True\n",
            "a[:-3]== [10, 20, 30]\n",
            "C\n",
            "[60, 40, 20]\n"
          ],
          "name": "stdout"
        }
      ]
    },
    {
      "metadata": {
        "id": "U2ql_BqBAvDn",
        "colab_type": "text"
      },
      "cell_type": "markdown",
      "source": [
        "[13] **풀이** : a[-5]는 뒤에서 5번째에 해당하는 값을 출력하므로 출력되는 값은 20이다.        \n",
        "[14] **풀이** : b[-1][0]은 앞에서부터 확인하면 b[-1]=[True, 3.14]이고, b[-1][0]은 b[-1]의 [0]을 출력하는 것이므로 답은 True가 출력된다.            \n",
        "[15] **풀이** : a[:-3]은 : 앞 공백은 인덱스 첫 값을 가리키는 것이므로 즉 처음부터 [-3]인 뒤에서 세 번째 값까지 출력하면 된다. 그러므로 10, 20, 30이 답으로 출력된다.        \n",
        "[16] **풀이** : b[-2][1] 중에서 b[-2]는 뒤에서 두 번째 값인 \"HCit\"이다. b[-2]의 [1]은 \"HCit\"의 인덱스1 값인 C가 출력된다.         \n",
        "[17] **풀이** : a[::-2]는 처음부터 끝까지 출력하되, 인덱스 짝수번째 값을 뒤에서부터 출력하므로 60, 40, 20이 출력된다."
      ]
    },
    {
      "metadata": {
        "id": "OU4XBRBaCXrf",
        "colab_type": "text"
      },
      "cell_type": "markdown",
      "source": [
        "---"
      ]
    },
    {
      "metadata": {
        "id": "K0aGACNPMAzl",
        "colab_type": "code",
        "colab": {
          "base_uri": "https://localhost:8080/",
          "height": 34
        },
        "outputId": "b42e5755-a034-4201-9996-4735c593d53b"
      },
      "cell_type": "code",
      "source": [
        "# [18-19]\n",
        "# 내포(Comprehension) 표기\n",
        "# 리스트 내포 표기\n",
        "\n",
        "monk_fish_team = [158, 157, 163, 157, 145]\n",
        "\n",
        "total = sum(monk_fish_team)    # 리스트의 합계\n",
        "length = len(monk_fish_team)   # 리스트의 요소 수(길이)\n",
        "mean = total/length            # 평균을 구함\n",
        "\n",
        "# 리스트의 분산(variance)를 구하는 for-loop 코드\n",
        "# variance = 0\n",
        "# for height in monk_fish_team:\n",
        "#     variance = variance+(height-mean)**2\n",
        "#\n",
        "# variance = variance/length\n",
        "\n",
        "# 리스트 내포 표기로 분산을 계산하는 식\n",
        "# [18] 적절한 함수?  , [19] 분산을 계산하기 위한 변수는? \n",
        "\n",
        "variance = sum([(h - mean)**2 for h in monk_fish_team])/length\n",
        "\n",
        "variance\n",
        "\n",
        "# [18.보기] abs, mean, add, sum, sqrt, var"
      ],
      "execution_count": 23,
      "outputs": [
        {
          "output_type": "execute_result",
          "data": {
            "text/plain": [
              "35.2"
            ]
          },
          "metadata": {
            "tags": []
          },
          "execution_count": 23
        }
      ]
    },
    {
      "metadata": {
        "id": "3lc9yfZaCqsu",
        "colab_type": "text"
      },
      "cell_type": "markdown",
      "source": [
        "[18] **풀이** : variance는 낚시팀 팀원 각각의 (키-평균)의 제곱을 한 모든 값을 합하여 인원수로 나눈 값이므로, 팀원 각각의 결과를 합하는 함수로 sum이 들어가야 한다.    \n",
        "[19] **풀이** : (height-mean)이므로 (h-___)에 들어갈 값은 mean이다."
      ]
    },
    {
      "metadata": {
        "id": "ePdaRrQYD5FJ",
        "colab_type": "text"
      },
      "cell_type": "markdown",
      "source": [
        "---"
      ]
    },
    {
      "metadata": {
        "id": "3GzsOsxHMAzn",
        "colab_type": "code",
        "colab": {
          "base_uri": "https://localhost:8080/",
          "height": 34
        },
        "outputId": "d1b5cfba-ebf4-435f-a828-e4c7891ee2f4"
      },
      "cell_type": "code",
      "source": [
        "# [20]\n",
        "# lambda 식\n",
        "\n",
        "x=4\n",
        "list(map(lambda z : x % z, range(2,x)))  #[20] 계산 결과는"
      ],
      "execution_count": 24,
      "outputs": [
        {
          "output_type": "execute_result",
          "data": {
            "text/plain": [
              "[0, 1]"
            ]
          },
          "metadata": {
            "tags": []
          },
          "execution_count": 24
        }
      ]
    },
    {
      "metadata": {
        "id": "b-jP9r4GD9OM",
        "colab_type": "text"
      },
      "cell_type": "markdown",
      "source": [
        "**풀이** : x값인 4를 lambda식에 넣으면 4를 나누는 값은 2와 3이 된다. 그 결과는 다음과 같다.      \n",
        " 4/2 = 2 나머지 0               \n",
        " 4/3 = 1 나머지 1    이므로 답은 0과 1이다."
      ]
    },
    {
      "metadata": {
        "id": "qPDIwN8cEbur",
        "colab_type": "text"
      },
      "cell_type": "markdown",
      "source": [
        "---"
      ]
    },
    {
      "metadata": {
        "id": "bxCF9mVRMAzr",
        "colab_type": "code",
        "colab": {}
      },
      "cell_type": "code",
      "source": [
        "#\n",
        "# [Bonus] lambda 함수 정의\n",
        "\n",
        "# function square(x)\n",
        "def square(x): \n",
        "    return x*x\n",
        "\n",
        "# square() 함수를 lambda 식으로 정의하시오. (Bonus +1)\n",
        "\n",
        "square = lambda x:x*x"
      ],
      "execution_count": 0,
      "outputs": []
    },
    {
      "metadata": {
        "id": "J_7F-U4dFZL_",
        "colab_type": "text"
      },
      "cell_type": "markdown",
      "source": [
        "**풀이** : x 값을 받으면 x*x를 계산한 값을 출력하게 된다."
      ]
    },
    {
      "metadata": {
        "id": "sFPHFVDKFn6t",
        "colab_type": "code",
        "colab": {
          "base_uri": "https://localhost:8080/",
          "height": 105
        },
        "outputId": "f0368921-8f32-4a13-c19a-48d8d47dd541"
      },
      "cell_type": "code",
      "source": [
        "print(square(1))\n",
        "print(square(2))\n",
        "print(square(3))\n",
        "print(square(4))\n",
        "print(square(5))"
      ],
      "execution_count": 30,
      "outputs": [
        {
          "output_type": "stream",
          "text": [
            "1\n",
            "4\n",
            "9\n",
            "16\n",
            "25\n"
          ],
          "name": "stdout"
        }
      ]
    },
    {
      "metadata": {
        "id": "zatnLUhFFvjg",
        "colab_type": "code",
        "colab": {}
      },
      "cell_type": "code",
      "source": [
        "# 위는 x값이 들어왔을 때 그 값을 제곱한 결과이다."
      ],
      "execution_count": 0,
      "outputs": []
    },
    {
      "metadata": {
        "id": "WaLnNjEwE_qN",
        "colab_type": "code",
        "colab": {}
      },
      "cell_type": "code",
      "source": [
        ""
      ],
      "execution_count": 0,
      "outputs": []
    }
  ]
}