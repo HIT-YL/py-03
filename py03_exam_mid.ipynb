{
  "nbformat": 4,
  "nbformat_minor": 0,
  "metadata": {
    "colab": {
      "name": "py03_exam_mid.ipynb",
      "version": "0.3.2",
      "provenance": [],
      "collapsed_sections": [],
      "include_colab_link": true
    },
    "kernelspec": {
      "display_name": "Python 3",
      "language": "python",
      "name": "python3"
    }
  },
  "cells": [
    {
      "cell_type": "markdown",
      "metadata": {
        "id": "view-in-github",
        "colab_type": "text"
      },
      "source": [
        "<a href=\"https://colab.research.google.com/github/HIT-YL/py-03/blob/master/py03_exam_mid.ipynb\" target=\"_parent\"><img src=\"https://colab.research.google.com/assets/colab-badge.svg\" alt=\"Open In Colab\"/></a>"
      ]
    },
    {
      "metadata": {
        "id": "12twNAlLMAyk",
        "colab_type": "text"
      },
      "cell_type": "markdown",
      "source": [
        "# 중간필기시험: 파이썬 프로그래밍 (2018.10.15)"
      ]
    },
    {
      "metadata": {
        "id": "aefyz-CMMExW",
        "colab_type": "text"
      },
      "cell_type": "markdown",
      "source": [
        "## 정답을 설명하는 노우트를 완성해서 각자의 github에 올리시오."
      ]
    },
    {
      "metadata": {
        "id": "IVFkw0axMf5l",
        "colab_type": "text"
      },
      "cell_type": "markdown",
      "source": [
        "### 업로드 파일명: pynn_exam_mid.ipynb  (pynn은 id)"
      ]
    },
    {
      "metadata": {
        "id": "Rc8uW2C1MAyp",
        "colab_type": "text"
      },
      "cell_type": "markdown",
      "source": [
        "***"
      ]
    },
    {
      "metadata": {
        "id": "hzMo_ABhMAyr",
        "colab_type": "code",
        "colab": {
          "base_uri": "https://localhost:8080/",
          "height": 34
        },
        "outputId": "a2eb1da4-4093-444e-8b78-7ba4460dbb63"
      },
      "cell_type": "code",
      "source": [
        "# [1]\n",
        "# 다음 식의 연산 결과는?\n",
        "\n",
        "2^4"
      ],
      "execution_count": 1,
      "outputs": [
        {
          "output_type": "execute_result",
          "data": {
            "text/plain": [
              "6"
            ]
          },
          "metadata": {
            "tags": []
          },
          "execution_count": 1
        }
      ]
    },
    {
      "metadata": {
        "id": "1TMOuTPO5Sn8",
        "colab_type": "text"
      },
      "cell_type": "markdown",
      "source": [
        "**풀이** : ^는 배타적 XOR 연산을 나타내는 기호다."
      ]
    },
    {
      "metadata": {
        "id": "U0HBHOvt5hEE",
        "colab_type": "code",
        "colab": {
          "base_uri": "https://localhost:8080/",
          "height": 34
        },
        "outputId": "aec75890-523d-4a0c-dcd6-995a0fefd54e"
      },
      "cell_type": "code",
      "source": [
        "# 2^4 계산\n",
        "\n",
        "# 2 =  10\n",
        "# 4 = 100\n",
        "# -------\n",
        "#     110\n",
        "\n",
        "# 100 = 6이므로 정답은 6이다."
      ],
      "execution_count": 3,
      "outputs": [
        {
          "output_type": "execute_result",
          "data": {
            "text/plain": [
              "6"
            ]
          },
          "metadata": {
            "tags": []
          },
          "execution_count": 3
        }
      ]
    },
    {
      "metadata": {
        "id": "5azPPzJS5-a2",
        "colab_type": "text"
      },
      "cell_type": "markdown",
      "source": [
        "---"
      ]
    },
    {
      "metadata": {
        "id": "I9V4aC5dMAyx",
        "colab_type": "code",
        "colab": {
          "base_uri": "https://localhost:8080/",
          "height": 34
        },
        "outputId": "ad42ea36-400b-43e0-d281-3f75cb6534a4"
      },
      "cell_type": "code",
      "source": [
        "# [2]\n",
        "# 다음 식의 연산 결과는?\n",
        "\n",
        "2**4"
      ],
      "execution_count": 4,
      "outputs": [
        {
          "output_type": "execute_result",
          "data": {
            "text/plain": [
              "16"
            ]
          },
          "metadata": {
            "tags": []
          },
          "execution_count": 4
        }
      ]
    },
    {
      "metadata": {
        "id": "dIZg9KsJ6C_d",
        "colab_type": "text"
      },
      "cell_type": "markdown",
      "source": [
        "**풀이** : **는 제곱을 나타내는 기호다."
      ]
    },
    {
      "metadata": {
        "id": "zTaAuYUe6K3C",
        "colab_type": "code",
        "colab": {}
      },
      "cell_type": "code",
      "source": [
        "# 2**4 계산\n",
        "\n",
        "# 2의 4승 = 2*2*2*2\n",
        "# 정답은 16이다."
      ],
      "execution_count": 0,
      "outputs": []
    },
    {
      "metadata": {
        "id": "Daipn3dB6eYw",
        "colab_type": "text"
      },
      "cell_type": "markdown",
      "source": [
        "---"
      ]
    },
    {
      "metadata": {
        "id": "6Swvwf_kMAy2",
        "colab_type": "code",
        "colab": {
          "base_uri": "https://localhost:8080/",
          "height": 70
        },
        "outputId": "f44198da-5f3e-4a77-c76e-0ee3b9f63184"
      },
      "cell_type": "code",
      "source": [
        "# [3]\n",
        "# BMI는 키와 체중을 이용하여 계산한 지수로 체중(kg)÷(키(m)**2) 입니다. \n",
        "# 즉, 체중(weight)을 키(height)의 제곱으로 나눈 값이 BMI(체질량지수)입니다.\n",
        "#\n",
        "\n",
        "height = float(input(\"Your height in meters:\"))\n",
        "weight = int(input(\"Your weight in kilograms:\"))\n",
        "\n",
        "# bmi를 소숫점 첫째자리까지 구하는 식은?\n",
        "# hint: use round()\n",
        "\n",
        "bmi = round((weight/(height*height)),1)\n",
        "\n",
        "bmi"
      ],
      "execution_count": 7,
      "outputs": [
        {
          "output_type": "stream",
          "text": [
            "Your height in meters:1.61\n",
            "Your weight in kilograms:39\n"
          ],
          "name": "stdout"
        },
        {
          "output_type": "execute_result",
          "data": {
            "text/plain": [
              "15.0"
            ]
          },
          "metadata": {
            "tags": []
          },
          "execution_count": 7
        }
      ]
    },
    {
      "metadata": {
        "id": "C4r0JhPh7IrG",
        "colab_type": "text"
      },
      "cell_type": "markdown",
      "source": [
        "**풀이** : round는 소수점 n번째 자리까지를 구하도록 한다. (n+1번째 자리에서 반올림)"
      ]
    },
    {
      "metadata": {
        "id": "wxeB16YZ7cp3",
        "colab_type": "text"
      },
      "cell_type": "markdown",
      "source": [
        "---"
      ]
    },
    {
      "metadata": {
        "id": "H0ccxWPvMAy-",
        "colab_type": "code",
        "colab": {
          "base_uri": "https://localhost:8080/",
          "height": 34
        },
        "outputId": "692bf033-6992-423c-91ab-6391d6675167"
      },
      "cell_type": "code",
      "source": [
        "# [4,5]\n",
        "# 다음 리스트는 도쿄의 낮 평균 기온 (1950년부터 2000년까지)이댜.\n",
        "\n",
        "tokyo_temps = [15.1, 15.4, 15.2, 15.4, 17.0, 16.9]\n",
        "\n",
        "import numpy as np  # [4] 파이썬 모듈을 연결하는 키워드는? \n",
        "\n",
        "max(tokyo_temps)\n",
        "\n",
        "np.argmax(tokyo_temps) #[5] 결과는?  "
      ],
      "execution_count": 10,
      "outputs": [
        {
          "output_type": "execute_result",
          "data": {
            "text/plain": [
              "4"
            ]
          },
          "metadata": {
            "tags": []
          },
          "execution_count": 10
        }
      ]
    },
    {
      "metadata": {
        "id": "Nh8EuMEh8KTW",
        "colab_type": "text"
      },
      "cell_type": "markdown",
      "source": [
        "[4] **풀이** : 파이썬 모듈을 연결하는 키워드는 import이다.       \n",
        "[5] **풀이** : argmax는 최댓값을 갖는 인덱스를 출력하는 명령어이다."
      ]
    },
    {
      "metadata": {
        "id": "y8rQiXKm8aYf",
        "colab_type": "text"
      },
      "cell_type": "markdown",
      "source": [
        "---"
      ]
    },
    {
      "metadata": {
        "id": "ysjKQ8xZMAzH",
        "colab_type": "code",
        "colab": {
          "base_uri": "https://localhost:8080/",
          "height": 34
        },
        "outputId": "6c7c849f-baf0-4628-da09-cc607d7d596b"
      },
      "cell_type": "code",
      "source": [
        "# [6,7]\n",
        "# 영어 단어의 출현 수를 딕셔너리를 이용해서 계산하는 코드이다.\n",
        "# 문단 line을 구성하는 단어들을 분리하는 정확한 함수식은?\n",
        "\n",
        "line = \"\"\"If you can dream it, you can do it. \n",
        "- Walt Disney\"\"\"\n",
        "\n",
        "wordcnt = {}     #[6] 딕셔너리를 초기화\n",
        "\n",
        "for word in line.split():  #[7] 단어들을 분리하는 정확한 함수식은?\n",
        "    if word in wordcnt:\n",
        "        wordcnt[word] = wordcnt[word]+1\n",
        "    else:\n",
        "        wordcnt[word] = 1\n",
        "        \n",
        "print(wordcnt)            # 결과 표시\n",
        "\n",
        "#[7. 보기] split(',') , split() , split(':') , split('.')\n",
        "\n"
      ],
      "execution_count": 11,
      "outputs": [
        {
          "output_type": "stream",
          "text": [
            "{'If': 1, 'you': 2, 'can': 2, 'dream': 1, 'it,': 1, 'do': 1, 'it.': 1, '-': 1, 'Walt': 1, 'Disney': 1}\n"
          ],
          "name": "stdout"
        }
      ]
    },
    {
      "metadata": {
        "id": "w2niYD4p8p-F",
        "colab_type": "text"
      },
      "cell_type": "markdown",
      "source": [
        "[6] **풀이** : 딕셔너리는 {}를 통해 아무것도 입력하지 않음으로써 초기화를 실행한다.           \n",
        "[7] **풀이** : split()는 공백을 기준으로 단어를 분리하는 함수식이다."
      ]
    },
    {
      "metadata": {
        "id": "CXWmlHff9ETj",
        "colab_type": "text"
      },
      "cell_type": "markdown",
      "source": [
        "---"
      ]
    },
    {
      "metadata": {
        "id": "65KfErIhMAzL",
        "colab_type": "code",
        "colab": {
          "base_uri": "https://localhost:8080/",
          "height": 34
        },
        "outputId": "155597b8-5587-4250-fda8-a5b5cd1d6532"
      },
      "cell_type": "code",
      "source": [
        "# [8]\n",
        "# 리스트를 set로 변환하기\n",
        "# \n",
        "codon = ['ATG', 'GGC', 'TCC', 'AAG', 'TTC', \n",
        "         'TGG', 'GGC', 'GAC', 'TCC']\n",
        "\n",
        "s_codon = set(codon)      # 리스트를 set으로 변환\n",
        "\n",
        "print(len(codon), len(s_codon))    #[8] 출력 결과는?"
      ],
      "execution_count": 12,
      "outputs": [
        {
          "output_type": "stream",
          "text": [
            "9 7\n"
          ],
          "name": "stdout"
        }
      ]
    },
    {
      "metadata": {
        "id": "MvFCx--j9JDu",
        "colab_type": "text"
      },
      "cell_type": "markdown",
      "source": [
        "**풀이** : len(codon)은 codon의 값을 모두 헤아린다. 그러나 len(s_codon)은 s_codon이 condon을 set으로 변환한 것이므로, 중복을 허용하지 않는다는 set의 성격에 따라 중복되는 값인 GGC와 TCC를 한 번씩만 헤아리게 된다."
      ]
    },
    {
      "metadata": {
        "id": "OJEU7ppD9m-y",
        "colab_type": "text"
      },
      "cell_type": "markdown",
      "source": [
        "---"
      ]
    },
    {
      "metadata": {
        "id": "7dVQabW0MAzP",
        "colab_type": "code",
        "colab": {
          "base_uri": "https://localhost:8080/",
          "height": 34
        },
        "outputId": "8a8d34e2-e718-446f-b530-db8233a2a9b1"
      },
      "cell_type": "code",
      "source": [
        "# [9]\n",
        "# 튜플의 리스트를 이용한 다음 식의 연산 결과는?\n",
        "# \n",
        "tank_data = [(\"A형 전차\", 38, 80, 75), (\"B형 전차\", 42, 50, 37),\n",
        "             (\"X형 전차\", 20, 17, 57), (\"Y형 전차\", 40, 50, 75),\n",
        "             (\"Z형 전차\", 39, 51, 75)]\n",
        "\n",
        "# 전차의 제원을 더해 반환하는 함수\n",
        "def evaluate_tankdata(tup):\n",
        "    return tup[1]+tup[2]+tup[3]\n",
        "\n",
        "print(evaluate_tankdata(tank_data[3]))  #[9] 출력 결과는?"
      ],
      "execution_count": 15,
      "outputs": [
        {
          "output_type": "stream",
          "text": [
            "165\n"
          ],
          "name": "stdout"
        }
      ]
    },
    {
      "metadata": {
        "id": "0tf1wS_s9sS1",
        "colab_type": "text"
      },
      "cell_type": "markdown",
      "source": [
        "**풀이** : tank_data[3]은 tank_data의 인덱스3에 해당하는 값들 중, 그 값 안의 인덱스1부터 3까지를 더한다.                  \n",
        "tank_data[3] = (\"Y형 전차\", 40, 50, 75)이고, 이중에서 인덱스 1,2,3 각각의 값은 40, 50, 75이므로 이를 더하면 165가 된다."
      ]
    },
    {
      "metadata": {
        "id": "CvrGb-E9-SyJ",
        "colab_type": "text"
      },
      "cell_type": "markdown",
      "source": [
        "---"
      ]
    },
    {
      "metadata": {
        "id": "ll7TUF1rMAzT",
        "colab_type": "code",
        "colab": {
          "base_uri": "https://localhost:8080/",
          "height": 34
        },
        "outputId": "64142a84-6550-4c5e-d8a6-4502f593fb41"
      },
      "cell_type": "code",
      "source": [
        "# [10]\n",
        "# 다음 for-loop의 출력 결과는?\n",
        "#\n",
        "\n",
        "seq = [\"야구\", \"축구\", \"농구\"]\n",
        "\n",
        "# range()를 사용한 루프 카운터\n",
        "for cnt in range(len(seq)):\n",
        "    print(cnt, seq[cnt], end=',')"
      ],
      "execution_count": 16,
      "outputs": [
        {
          "output_type": "stream",
          "text": [
            "0 야구,1 축구,2 농구,"
          ],
          "name": "stdout"
        }
      ]
    },
    {
      "metadata": {
        "id": "fFzei8UV-Vdh",
        "colab_type": "text"
      },
      "cell_type": "markdown",
      "source": [
        "풀이 : "
      ]
    },
    {
      "metadata": {
        "id": "BUuLuuBHMAzX",
        "colab_type": "code",
        "colab": {}
      },
      "cell_type": "code",
      "source": [
        "# [11]\n",
        "# 다음은 두 개의 리스트를 묶어서 아래와 같이 출력하는 코드이다.\n",
        "# 두 개의 리스트를 묶는 함수는?\n",
        "\n",
        "for n, w in [11]_________([1, 2, 3, 4], ['a', 'b', 'c', 'd']):\n",
        "    print(n, w)\n",
        "    \n",
        "# 출력결과    "
      ],
      "execution_count": 0,
      "outputs": []
    },
    {
      "metadata": {
        "id": "mRSUoF-5MAzf",
        "colab_type": "code",
        "colab": {}
      },
      "cell_type": "code",
      "source": [
        "# [12]\n",
        "# 다음은 구글 colab cloud로 로컬 파일들을 업로드하는 과정이다.\n",
        "# files 객체 UI를 이용해서 업로드한 파일들은 uploaded 변수에 튜플로 저장된다.\n",
        "\n",
        "from google.colab import files\n",
        "uploaded = files.upload()\n",
        "\n",
        "for fn in uploaded.[12]___________:  #[12] 튜플의 함수는?\n",
        "  print('User uploaded file \"{name}\" with length {length} bytes'.format(\n",
        "      name=fn, length=len(uploaded[fn])))\n",
        "\n",
        "#[12.보기] items(), values(), keys(), map()\n",
        "\n"
      ],
      "execution_count": 0,
      "outputs": []
    },
    {
      "metadata": {
        "id": "EP2ydvvnMAzi",
        "colab_type": "code",
        "colab": {}
      },
      "cell_type": "code",
      "source": [
        "# [13-17]\n",
        "# 리스트의 인덱싱과 슬라이싱\n",
        "#\n",
        "\n",
        "a=[10,20,30,40,50,60]\n",
        "\n",
        "b=[10,20,30,\"HCit\",[True,3.14]]\n",
        "\n",
        "\n",
        "print(\"a[-5] ==\", a[-5]) #[13] 출력 결과는?\n",
        "\n",
        "\n",
        "print(\"b[-1][0] ==\", b[-1][0]) #[14] 출력 결과는?\n",
        "\n",
        "\n",
        "print(\"a[:-3]==\",a[:-3]) #[15] 출력 결과는?\n",
        "\n",
        "\n",
        "print(b[-2][1])  #[16] 출력 결과는?\n",
        "\n",
        "\n",
        "print(a[::-2])  #[17] 출력 결과는?\n",
        "\n",
        "\n"
      ],
      "execution_count": 0,
      "outputs": []
    },
    {
      "metadata": {
        "id": "NN5vsqL9MAzk",
        "colab_type": "text"
      },
      "cell_type": "markdown",
      "source": [
        "***"
      ]
    },
    {
      "metadata": {
        "id": "K0aGACNPMAzl",
        "colab_type": "code",
        "colab": {}
      },
      "cell_type": "code",
      "source": [
        "# [18-19]\n",
        "# 내포(Comprehension) 표기\n",
        "# 리스트 내포 표기\n",
        "\n",
        "monk_fish_team = [158, 157, 163, 157, 145]\n",
        "\n",
        "total = sum(monk_fish_team)    # 리스트의 합계\n",
        "length = len(monk_fish_team)   # 리스트의 요소 수(길이)\n",
        "mean = total/length            # 평균을 구함\n",
        "\n",
        "# 리스트의 분산(variance)를 구하는 for-loop 코드\n",
        "# variance = 0\n",
        "# for height in monk_fish_team:\n",
        "#     variance = variance+(height-mean)**2\n",
        "#\n",
        "# variance = variance/length\n",
        "\n",
        "# 리스트 내포 표기로 분산을 계산하는 식\n",
        "# [18] 적절한 함수?  , [19] 분산을 계산하기 위한 변수는? \n",
        "\n",
        "variance = [18]_______([(h - [19]_______)**2 for h in monk_fish_team])/length\n",
        "\n",
        "variance\n",
        "\n",
        "# [18.보기] abs, mean, add, sum, sqrt, var\n",
        "\n",
        "\n"
      ],
      "execution_count": 0,
      "outputs": []
    },
    {
      "metadata": {
        "id": "3GzsOsxHMAzn",
        "colab_type": "code",
        "colab": {}
      },
      "cell_type": "code",
      "source": [
        "# [20]\n",
        "# lambda 식\n",
        "\n",
        "x=4\n",
        "list(map(lambda z : x % z, range(2,x)))  #[20] 계산 결과는\n",
        "\n",
        "\n"
      ],
      "execution_count": 0,
      "outputs": []
    },
    {
      "metadata": {
        "id": "715JrwVgMAzq",
        "colab_type": "text"
      },
      "cell_type": "markdown",
      "source": [
        "***"
      ]
    },
    {
      "metadata": {
        "id": "bxCF9mVRMAzr",
        "colab_type": "code",
        "colab": {}
      },
      "cell_type": "code",
      "source": [
        "#\n",
        "# [Bonus] lambda 함수 정의\n",
        "\n",
        "# function square(x)\n",
        "def square(x): \n",
        "    return x*x\n",
        "\n",
        "# square() 함수를 lambda 식으로 정의하시오. (Bonus +1)\n",
        "\n",
        "# ___________________________________________________________\n",
        "\n"
      ],
      "execution_count": 0,
      "outputs": []
    }
  ]
}